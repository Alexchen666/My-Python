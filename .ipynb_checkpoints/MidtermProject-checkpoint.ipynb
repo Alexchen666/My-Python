{
 "cells": [
  {
   "cell_type": "markdown",
   "metadata": {},
   "source": [
    "# 期中專題 全台灣大專院校學生資料查詢\n",
    "這個專題基本上是\"Q4-1 pandas 小分析\"作業的進階版\n",
    "\n",
    "Q4-1作品成果如下連結\n",
    "\n",
    "https://nbviewer.jupyter.org/github/Alexchen666/My-Python/blob/master/HW4-1.ipynb\n",
    "\n",
    "原本的功能包含：\n",
    "1. 查詢台大各科系人數前20名\n",
    "2. 查詢台大各科系女男比前20名\n",
    "3. 查詢台大系所男女資訊\n",
    "\n",
    "且僅能查詢一到四年級的資訊。\n",
    "\n",
    "在這個專題中，擴大了這些功能，使其查詢範圍不再僅限於台大，也不再僅限於一到四年級，全台灣大學的上述資訊皆可查詢，並增加了以下功能：\n",
    "1. 查詢各科系男女比前20名\n",
    "2. 查詢各科系男生人數前20名\n",
    "3. 查詢各科系女生人數前20名\n",
    "4. 系所男女資訊中提供長條圖方便進行比較\n",
    "\n",
    "另外在操作上也做了改進，全都改成選單形式。\n",
    "\n",
    "> 本專題提供的所有功能如下：\n",
    "> * 選單式操作\n",
    "> * 查詢台灣各大學各科系人數前20名\n",
    "> * 查詢台灣各大學各科系女男比前20名\n",
    "> * 查詢台灣各大學各科系男女比前20名\n",
    "> * 查詢台灣各大學各科系男生人數前20名\n",
    "> * 查詢台灣各大學各科系女生人數前20名\n",
    "> * 查詢台灣各大學各科系男女資訊"
   ]
  },
  {
   "cell_type": "markdown",
   "metadata": {},
   "source": [
    "## 以下為專題內容"
   ]
  },
  {
   "cell_type": "markdown",
   "metadata": {},
   "source": [
    "匯入必要套件"
   ]
  },
  {
   "cell_type": "code",
   "execution_count": 1,
   "metadata": {
    "collapsed": true
   },
   "outputs": [],
   "source": [
    "%matplotlib inline\n",
    "import matplotlib.pyplot as plt\n",
    "import numpy as np\n",
    "import pandas as pd\n",
    "import locale\n",
    "import matplotlib as mpl\n",
    "from ipywidgets import interact_manual\n",
    "mpl.rc('font', family = 'Noto Sans CJK TC')"
   ]
  },
  {
   "cell_type": "markdown",
   "metadata": {},
   "source": [
    "讀取資料\n",
    "\n",
    "資料來源：政府資料開放平台"
   ]
  },
  {
   "cell_type": "code",
   "execution_count": 2,
   "metadata": {
    "collapsed": true
   },
   "outputs": [],
   "source": [
    "df = pd.read_csv('http://stats.moe.gov.tw/files/detail/107/107_students.csv')"
   ]
  },
  {
   "cell_type": "markdown",
   "metadata": {},
   "source": [
    "進行資料處理，包含：\n",
    "\n",
    "1. 訂定表頭\n",
    "2. 選取必要欄位\n",
    "3. NaN值清理\n",
    "4. 重新編index\n",
    "5. 資料格式轉換(為方便後續分析，將所有數字轉為浮點數)"
   ]
  },
  {
   "cell_type": "code",
   "execution_count": 3,
   "metadata": {
    "collapsed": true
   },
   "outputs": [],
   "source": [
    "colname = df.loc[1].values\n",
    "df = df[2:]\n",
    "df.columns = colname\n",
    "df_db = df[['學校名稱'] + ['科系名稱'] + list(df.loc[:,'日間∕進修別':'七年級女生'])].copy()\n",
    "df_db = df_db.replace('-', '0')\n",
    "df_db.index = range(1, len(df_db)+1)"
   ]
  },
  {
   "cell_type": "code",
   "execution_count": 4,
   "metadata": {
    "collapsed": true
   },
   "outputs": [],
   "source": [
    "locale.setlocale(locale.LC_NUMERIC, '')\n",
    "df_db['總計'] = df_db['總計'].apply(locale.atof)\n",
    "df_db['男生計'] = df_db['男生計'].apply(locale.atof)\n",
    "df_db['女生計'] = df_db['女生計'].apply(locale.atof)\n",
    "df_db['一年級男生'] = df_db['一年級男生'].apply(locale.atof)\n",
    "df_db['一年級女生'] = df_db['一年級女生'].apply(locale.atof)\n",
    "df_db['二年級男生'] = df_db['二年級男生'].apply(locale.atof)\n",
    "df_db['二年級女生'] = df_db['二年級女生'].apply(locale.atof)\n",
    "df_db['三年級男生'] = df_db['三年級男生'].apply(locale.atof)\n",
    "df_db['三年級女生'] = df_db['三年級女生'].apply(locale.atof)\n",
    "df_db['四年級男生'] = df_db['四年級男生'].apply(locale.atof)\n",
    "df_db['四年級女生'] = df_db['四年級女生'].apply(locale.atof)\n",
    "df_db['五年級男生'] = df_db['五年級男生'].apply(locale.atof)\n",
    "df_db['五年級女生'] = df_db['五年級女生'].apply(locale.atof)\n",
    "df_db['六年級男生'] = df_db['六年級男生'].apply(locale.atof)\n",
    "df_db['六年級女生'] = df_db['六年級女生'].apply(locale.atof)\n",
    "df_db['七年級男生'] = df_db['七年級男生'].apply(locale.atof)\n",
    "df_db['七年級女生'] = df_db['七年級女生'].apply(locale.atof)"
   ]
  },
  {
   "cell_type": "markdown",
   "metadata": {},
   "source": [
    "由於不將延修生列入計算，因此在男生計、女生計，以及總計需要再重新計算"
   ]
  },
  {
   "cell_type": "code",
   "execution_count": 5,
   "metadata": {
    "collapsed": true
   },
   "outputs": [],
   "source": [
    "df_db['男生計'] = df_db['一年級男生']+df_db['二年級男生']+df_db['三年級男生']+df_db['四年級男生']+\\\n",
    "df_db['五年級男生']+df_db['六年級男生']+df_db['七年級男生']"
   ]
  },
  {
   "cell_type": "code",
   "execution_count": 6,
   "metadata": {
    "collapsed": true
   },
   "outputs": [],
   "source": [
    "df_db['女生計'] = df_db['一年級女生']+df_db['二年級女生']+df_db['三年級女生']+df_db['四年級女生']+\\\n",
    "df_db['五年級女生']+df_db['六年級女生']+df_db['七年級女生']"
   ]
  },
  {
   "cell_type": "code",
   "execution_count": 7,
   "metadata": {
    "collapsed": true
   },
   "outputs": [],
   "source": [
    "df_db['總計'] = df_db['男生計']+df_db['女生計']"
   ]
  },
  {
   "cell_type": "markdown",
   "metadata": {},
   "source": [
    "製作選單選項"
   ]
  },
  {
   "cell_type": "code",
   "execution_count": 8,
   "metadata": {
    "collapsed": true
   },
   "outputs": [],
   "source": [
    "uni_list = df_db['學校名稱'].unique().tolist()\n",
    "tp_list = df_db['日間∕進修別'].unique().tolist()\n",
    "lv_list = df_db['等級別'].unique().tolist()"
   ]
  },
  {
   "cell_type": "code",
   "execution_count": 9,
   "metadata": {
    "collapsed": true
   },
   "outputs": [],
   "source": [
    "req_dict = {'查詢該校科系人數前20名': 1, '查詢該校科系女男比前20名': 2, '查詢該校科系男女比前20名': 3, '查詢該校科系男生人數前20名': 4,\n",
    "            '查詢該校科系女生人數前20名': 5, '查詢該校科系人數資料': 6}"
   ]
  },
  {
   "cell_type": "code",
   "execution_count": 10,
   "metadata": {
    "collapsed": true
   },
   "outputs": [],
   "source": [
    "grade_dict = {'全年級': 0, '一年級': 1, '二年級': 2, '三年級': 3, '四年級': 4, '五年級': 5, '六年級': 6, '七年級': 7}"
   ]
  },
  {
   "cell_type": "markdown",
   "metadata": {},
   "source": [
    "製作選單功能及查詢功能"
   ]
  },
  {
   "cell_type": "code",
   "execution_count": 11,
   "metadata": {
    "collapsed": true
   },
   "outputs": [],
   "source": [
    "def choose_uni(request, university, types, level):\n",
    "    #選單功能，選取需要的表格並製作成新表\n",
    "    df_uni = df_db[(df_db['學校名稱'] == university) & (df_db['日間∕進修別'] == types) & (df_db['等級別'] == level)]\n",
    "    \n",
    "    #判斷新表是否為空，若為空代表該校並沒有這樣的資訊，請使用者查詢其他資料\n",
    "    if df_uni.empty:\n",
    "        print(f'{university}沒有\"{types} {level}\"的資訊，請嘗試其他查詢。')\n",
    "    else:\n",
    "    \n",
    "        uni_pdict = {\n",
    "            \"科系名稱\": df_uni['科系名稱'],\n",
    "            \"總計\": df_uni.總計\n",
    "        }\n",
    "\n",
    "        uni_pdf = pd.DataFrame(uni_pdict)\n",
    "        uni_pdf = uni_pdf[['科系名稱', '總計']]\n",
    "\n",
    "        #女男比例計算\n",
    "        uni_dict = {\n",
    "            \"科系名稱\": df_uni['科系名稱'],\n",
    "            \"女男比例\": df_uni.女生計/df_uni.男生計,\n",
    "            \"一年級女男比例\": df_uni.一年級女生/df_uni.一年級男生,\n",
    "            \"二年級女男比例\": df_uni.二年級女生/df_uni.二年級男生,\n",
    "            \"三年級女男比例\": df_uni.三年級女生/df_uni.三年級男生,\n",
    "            \"四年級女男比例\": df_uni.四年級女生/df_uni.四年級男生,\n",
    "            \"五年級女男比例\": df_uni.五年級女生/df_uni.五年級男生,\n",
    "            \"六年級女男比例\": df_uni.六年級女生/df_uni.六年級男生,\n",
    "            \"七年級女男比例\": df_uni.七年級女生/df_uni.七年級男生\n",
    "        }\n",
    "\n",
    "        uni_df = pd.DataFrame(uni_dict)\n",
    "        uni_df = uni_df[['科系名稱', '女男比例','一年級女男比例','二年級女男比例','三年級女男比例','四年級女男比例', \n",
    "                         '五年級女男比例', '六年級女男比例', '七年級女男比例',]]\n",
    "\n",
    "        #男女比例計算\n",
    "        uni_rdict = {\n",
    "            \"科系名稱\": df_uni['科系名稱'],\n",
    "            \"男女比例\": df_uni.男生計/df_uni.女生計,\n",
    "            \"一年級男女比例\": df_uni.一年級男生/df_uni.一年級女生,\n",
    "            \"二年級男女比例\": df_uni.二年級男生/df_uni.二年級女生,\n",
    "            \"三年級男女比例\": df_uni.三年級男生/df_uni.三年級女生,\n",
    "            \"四年級男女比例\": df_uni.四年級男生/df_uni.四年級女生,\n",
    "            \"五年級男女比例\": df_uni.五年級男生/df_uni.五年級女生,\n",
    "            \"六年級男女比例\": df_uni.六年級男生/df_uni.六年級女生,\n",
    "            \"七年級男女比例\": df_uni.七年級男生/df_uni.七年級女生\n",
    "        }\n",
    "\n",
    "        uni_rdf = pd.DataFrame(uni_rdict)\n",
    "        uni_rdf = uni_rdf[['科系名稱', '男女比例','一年級男女比例','二年級男女比例','三年級男女比例','四年級男女比例', \n",
    "                          '五年級男女比例', '六年級男女比例', '七年級男女比例', ]]\n",
    "\n",
    "        #男生人數計算\n",
    "        uni_mdict = {\n",
    "            \"科系名稱\": df_uni['科系名稱'],\n",
    "            \"男生計\": df_uni.男生計,\n",
    "            \"一年級男生\": df_uni.一年級男生,\n",
    "            \"二年級男生\": df_uni.二年級男生,\n",
    "            \"三年級男生\": df_uni.三年級男生,\n",
    "            \"四年級男生\": df_uni.四年級男生,\n",
    "            \"五年級男生\": df_uni.五年級男生,\n",
    "            \"六年級男生\": df_uni.六年級男生,\n",
    "            \"七年級男生\": df_uni.七年級男生\n",
    "        }\n",
    "\n",
    "        uni_mdf = pd.DataFrame(uni_mdict)\n",
    "        uni_mdf = uni_mdf[['科系名稱', '男生計','一年級男生','二年級男生','三年級男生','四年級男生', \n",
    "                          '五年級男生', '六年級男生', '七年級男生']]\n",
    "\n",
    "        #女生人數計算\n",
    "        uni_fdict = {\n",
    "            \"科系名稱\": df_uni['科系名稱'],\n",
    "            \"女生計\": df_uni.女生計,\n",
    "            \"一年級女生\": df_uni.一年級女生,\n",
    "            \"二年級女生\": df_uni.二年級女生,\n",
    "            \"三年級女生\": df_uni.三年級女生,\n",
    "            \"四年級女生\": df_uni.四年級女生,\n",
    "            \"五年級女生\": df_uni.五年級女生,\n",
    "            \"六年級女生\": df_uni.六年級女生,\n",
    "            \"七年級女生\": df_uni.七年級女生\n",
    "        }\n",
    "\n",
    "        uni_fdf = pd.DataFrame(uni_fdict)\n",
    "        uni_fdf = uni_fdf[['科系名稱', '女生計','一年級女生','二年級女生','三年級女生','四年級女生',\n",
    "                          '五年級女生', '六年級女生', '七年級女生']]\n",
    "\n",
    "        #將上述計算後的結果由大到小排序，並重新編index\n",
    "        uni_pdf0 = uni_pdf.sort_values(by = ['總計'], ascending=False)\n",
    "        uni_pdf0.index = pd.RangeIndex(start = 1, stop = len(uni_pdf0) + 1)\n",
    "\n",
    "        uni_df0 = uni_df.sort_values(by = ['女男比例'], ascending=False)\n",
    "        uni_df1 = uni_df.sort_values(by = ['一年級女男比例'], ascending=False)\n",
    "        uni_df2 = uni_df.sort_values(by = ['二年級女男比例'], ascending=False)\n",
    "        uni_df3 = uni_df.sort_values(by = ['三年級女男比例'], ascending=False)\n",
    "        uni_df4 = uni_df.sort_values(by = ['四年級女男比例'], ascending=False)\n",
    "        uni_df5 = uni_df.sort_values(by = ['五年級女男比例'], ascending=False)\n",
    "        uni_df6 = uni_df.sort_values(by = ['六年級女男比例'], ascending=False)\n",
    "        uni_df7 = uni_df.sort_values(by = ['七年級女男比例'], ascending=False)\n",
    "        uni_df0.index = pd.RangeIndex(start = 1, stop = len(uni_df0) + 1)\n",
    "        uni_df1.index = pd.RangeIndex(start = 1, stop = len(uni_df1) + 1)\n",
    "        uni_df2.index = pd.RangeIndex(start = 1, stop = len(uni_df2) + 1)\n",
    "        uni_df3.index = pd.RangeIndex(start = 1, stop = len(uni_df3) + 1)\n",
    "        uni_df4.index = pd.RangeIndex(start = 1, stop = len(uni_df4) + 1)\n",
    "        uni_df5.index = pd.RangeIndex(start = 1, stop = len(uni_df2) + 1)\n",
    "        uni_df6.index = pd.RangeIndex(start = 1, stop = len(uni_df3) + 1)\n",
    "        uni_df7.index = pd.RangeIndex(start = 1, stop = len(uni_df4) + 1)\n",
    "\n",
    "        uni_rdf0 = uni_rdf.sort_values(by = ['男女比例'], ascending=False)\n",
    "        uni_rdf1 = uni_rdf.sort_values(by = ['一年級男女比例'], ascending=False)\n",
    "        uni_rdf2 = uni_rdf.sort_values(by = ['二年級男女比例'], ascending=False)\n",
    "        uni_rdf3 = uni_rdf.sort_values(by = ['三年級男女比例'], ascending=False)\n",
    "        uni_rdf4 = uni_rdf.sort_values(by = ['四年級男女比例'], ascending=False)\n",
    "        uni_rdf5 = uni_rdf.sort_values(by = ['五年級男女比例'], ascending=False)\n",
    "        uni_rdf6 = uni_rdf.sort_values(by = ['六年級男女比例'], ascending=False)\n",
    "        uni_rdf7 = uni_rdf.sort_values(by = ['七年級男女比例'], ascending=False)\n",
    "        uni_rdf0.index = pd.RangeIndex(start = 1, stop = len(uni_df0) + 1)\n",
    "        uni_rdf1.index = pd.RangeIndex(start = 1, stop = len(uni_df1) + 1)\n",
    "        uni_rdf2.index = pd.RangeIndex(start = 1, stop = len(uni_df2) + 1)\n",
    "        uni_rdf3.index = pd.RangeIndex(start = 1, stop = len(uni_df3) + 1)\n",
    "        uni_rdf4.index = pd.RangeIndex(start = 1, stop = len(uni_df4) + 1)\n",
    "        uni_rdf5.index = pd.RangeIndex(start = 1, stop = len(uni_df2) + 1)\n",
    "        uni_rdf6.index = pd.RangeIndex(start = 1, stop = len(uni_df3) + 1)\n",
    "        uni_rdf7.index = pd.RangeIndex(start = 1, stop = len(uni_df4) + 1)\n",
    "\n",
    "        uni_mdf0 = uni_mdf.sort_values(by = ['男生計'], ascending=False)\n",
    "        uni_mdf1 = uni_mdf.sort_values(by = ['一年級男生'], ascending=False)\n",
    "        uni_mdf2 = uni_mdf.sort_values(by = ['二年級男生'], ascending=False)\n",
    "        uni_mdf3 = uni_mdf.sort_values(by = ['三年級男生'], ascending=False)\n",
    "        uni_mdf4 = uni_mdf.sort_values(by = ['四年級男生'], ascending=False)\n",
    "        uni_mdf5 = uni_mdf.sort_values(by = ['五年級男生'], ascending=False)\n",
    "        uni_mdf6 = uni_mdf.sort_values(by = ['六年級男生'], ascending=False)\n",
    "        uni_mdf7 = uni_mdf.sort_values(by = ['七年級男生'], ascending=False)\n",
    "        uni_mdf0.index = pd.RangeIndex(start = 1, stop = len(uni_mdf0) + 1)\n",
    "        uni_mdf1.index = pd.RangeIndex(start = 1, stop = len(uni_mdf1) + 1)\n",
    "        uni_mdf2.index = pd.RangeIndex(start = 1, stop = len(uni_mdf2) + 1)\n",
    "        uni_mdf3.index = pd.RangeIndex(start = 1, stop = len(uni_mdf3) + 1)\n",
    "        uni_mdf4.index = pd.RangeIndex(start = 1, stop = len(uni_mdf4) + 1)\n",
    "        uni_mdf5.index = pd.RangeIndex(start = 1, stop = len(uni_mdf2) + 1)\n",
    "        uni_mdf6.index = pd.RangeIndex(start = 1, stop = len(uni_mdf3) + 1)\n",
    "        uni_mdf7.index = pd.RangeIndex(start = 1, stop = len(uni_mdf4) + 1)\n",
    "\n",
    "        uni_fdf0 = uni_fdf.sort_values(by = ['女生計'], ascending=False)\n",
    "        uni_fdf1 = uni_fdf.sort_values(by = ['一年級女生'], ascending=False)\n",
    "        uni_fdf2 = uni_fdf.sort_values(by = ['二年級女生'], ascending=False)\n",
    "        uni_fdf3 = uni_fdf.sort_values(by = ['三年級女生'], ascending=False)\n",
    "        uni_fdf4 = uni_fdf.sort_values(by = ['四年級女生'], ascending=False)\n",
    "        uni_fdf5 = uni_fdf.sort_values(by = ['五年級女生'], ascending=False)\n",
    "        uni_fdf6 = uni_fdf.sort_values(by = ['六年級女生'], ascending=False)\n",
    "        uni_fdf7 = uni_fdf.sort_values(by = ['七年級女生'], ascending=False)\n",
    "        uni_fdf0.index = pd.RangeIndex(start = 1, stop = len(uni_fdf0) + 1)\n",
    "        uni_fdf1.index = pd.RangeIndex(start = 1, stop = len(uni_fdf1) + 1)\n",
    "        uni_fdf2.index = pd.RangeIndex(start = 1, stop = len(uni_fdf2) + 1)\n",
    "        uni_fdf3.index = pd.RangeIndex(start = 1, stop = len(uni_fdf3) + 1)\n",
    "        uni_fdf4.index = pd.RangeIndex(start = 1, stop = len(uni_fdf4) + 1)\n",
    "        uni_fdf5.index = pd.RangeIndex(start = 1, stop = len(uni_fdf2) + 1)\n",
    "        uni_fdf6.index = pd.RangeIndex(start = 1, stop = len(uni_fdf3) + 1)\n",
    "        uni_fdf7.index = pd.RangeIndex(start = 1, stop = len(uni_fdf4) + 1)\n",
    "\n",
    "        #選單功能，呼叫其他函式\n",
    "        if request == 1:\n",
    "            f1(uni_pdf0)\n",
    "        elif request == 2:\n",
    "            f2(uni_df0, uni_df1, uni_df2, uni_df3, uni_df4, uni_df5, uni_df6, uni_df7)\n",
    "        elif request == 3:\n",
    "            f3(uni_rdf0, uni_rdf1, uni_rdf2, uni_rdf3, uni_rdf4, uni_rdf5, uni_rdf6, uni_rdf7)\n",
    "        elif request == 4:\n",
    "            f4(uni_mdf0, uni_mdf1, uni_mdf2, uni_mdf3, uni_mdf4, uni_mdf5, uni_mdf6, uni_mdf7)\n",
    "        elif request == 5:\n",
    "            f5(uni_fdf0, uni_fdf1, uni_fdf2, uni_fdf3, uni_fdf4, uni_fdf5, uni_fdf6, uni_fdf7)\n",
    "        elif request == 6:\n",
    "            f6(df_uni, uni_df)"
   ]
  },
  {
   "cell_type": "markdown",
   "metadata": {},
   "source": [
    "函式1：顯示科系人數前20名"
   ]
  },
  {
   "cell_type": "code",
   "execution_count": 19,
   "metadata": {
    "collapsed": true
   },
   "outputs": [],
   "source": [
    "def f1(uni_pdf0):\n",
    "    uni_pdf0[:20].plot.bar(x = '科系名稱', y= ['總計'], title = '人數前20名科系長條圖', fontsize = 12, grid = True)\n",
    "    display(uni_pdf0.loc[:20, ['科系名稱', '總計']])\n",
    "    plt.show()"
   ]
  },
  {
   "cell_type": "markdown",
   "metadata": {},
   "source": [
    "函式2：顯示科系女男比前20名"
   ]
  },
  {
   "cell_type": "code",
   "execution_count": 13,
   "metadata": {
    "collapsed": true
   },
   "outputs": [],
   "source": [
    "def f2(uni_df0, uni_df1, uni_df2, uni_df3, uni_df4, uni_df5, uni_df6, uni_df7):\n",
    "    def ff2(grade):\n",
    "        if grade == 0:\n",
    "            uni_df0[:20].plot.bar(x = '科系名稱', y= ['女男比例'], title = '女男比前20名科系長條圖', fontsize = 12, grid = True)\n",
    "            display(uni_df0.loc[:20, ['科系名稱', '女男比例']])\n",
    "            print('附註：\\n欄位中若出現\"NaN\"，代表沒有男生數與女生數資料\\n欄位中若出現\"inf\"，代表沒有男生只有女生')\n",
    "            plt.show()\n",
    "        elif grade == 1:\n",
    "            uni_df1[:20].plot.bar(x = '科系名稱', y= ['一年級女男比例'], title = '女男比前20名科系長條圖', fontsize = 12, grid = True)\n",
    "            display(uni_df1.loc[:20, ['科系名稱', '一年級女男比例']])\n",
    "            print('附註：\\n欄位中若出現\"NaN\"，代表沒有該年級男生數與女生數資料\\n欄位中若出現\"inf\"，代表該年級沒有男生只有女生')\n",
    "            plt.show()\n",
    "        elif grade == 2:\n",
    "            uni_df2[:20].plot.bar(x = '科系名稱', y= ['二年級女男比例'], title = '女男比前20名科系長條圖', fontsize = 12, grid = True)\n",
    "            display(uni_df2.loc[:20, ['科系名稱', '二年級女男比例']])\n",
    "            print('附註：\\n欄位中若出現\"NaN\"，代表沒有該年級男生數與女生數資料\\n欄位中若出現\"inf\"，代表該年級沒有男生只有女生')\n",
    "            plt.show()\n",
    "        elif grade == 3:\n",
    "            uni_df3[:20].plot.bar(x = '科系名稱', y= ['三年級女男比例'], title = '女男比前20名科系長條圖', fontsize = 12, grid = True)\n",
    "            display(uni_df3.loc[:20, ['科系名稱', '三年級女男比例']])\n",
    "            print('附註：\\n欄位中若出現\"NaN\"，代表沒有該年級男生數與女生數資料\\n欄位中若出現\"inf\"，代表該年級沒有男生只有女生')\n",
    "            plt.show()\n",
    "        elif grade == 4:\n",
    "            uni_df4[:20].plot.bar(x = '科系名稱', y= ['四年級女男比例'], title = '女男比前20名科系長條圖', fontsize = 12, grid = True)\n",
    "            display(uni_df4.loc[:20, ['科系名稱', '四年級女男比例']])\n",
    "            print('附註：\\n欄位中若出現\"NaN\"，代表沒有該年級男生數與女生數資料\\n欄位中若出現\"inf\"，代表該年級沒有男生只有女生')\n",
    "            plt.show()\n",
    "        elif grade == 5:\n",
    "            uni_df5[:20].plot.bar(x = '科系名稱', y= ['五年級女男比例'], title = '女男比前20名科系長條圖', fontsize = 12, grid = True)\n",
    "            display(uni_df5.loc[:20, ['科系名稱', '五年級女男比例']])\n",
    "            print('附註：\\n欄位中若出現\"NaN\"，代表沒有該年級男生數與女生數資料\\n欄位中若出現\"inf\"，代表該年級沒有男生只有女生')\n",
    "            plt.show()\n",
    "        elif grade == 6:\n",
    "            uni_df6[:20].plot.bar(x = '科系名稱', y= ['六年級女男比例'], title = '女男比前20名科系長條圖', fontsize = 12, grid = True)\n",
    "            display(uni_df6.loc[:20, ['科系名稱', '六年級女男比例']])\n",
    "            print('附註：\\n欄位中若出現\"NaN\"，代表沒有該年級男生數與女生數資料\\n欄位中若出現\"inf\"，代表該年級沒有男生只有女生')\n",
    "            plt.show()\n",
    "        elif grade == 7:\n",
    "            uni_df7[:20].plot.bar(x = '科系名稱', y= ['七年級女男比例'], title = '女男比前20名科系長條圖', fontsize = 12, grid = True)\n",
    "            display(uni_df7.loc[:20, ['科系名稱', '七年級女男比例']])\n",
    "            print('附註：\\n欄位中若出現\"NaN\"，代表沒有該年級男生數與女生數資料\\n欄位中若出現\"inf\"，代表該年級沒有男生只有女生')\n",
    "            plt.show()\n",
    "    interact_manual(ff2, grade = grade_dict)"
   ]
  },
  {
   "cell_type": "markdown",
   "metadata": {},
   "source": [
    "函式3：顯示科系男女比前20名"
   ]
  },
  {
   "cell_type": "code",
   "execution_count": 14,
   "metadata": {
    "collapsed": true
   },
   "outputs": [],
   "source": [
    "def f3(uni_rdf0, uni_rdf1, uni_rdf2, uni_rdf3, uni_rdf4, uni_rdf5, uni_rdf6, uni_rdf7):\n",
    "    def ff3(grade):\n",
    "        if grade == 0:\n",
    "            uni_rdf0[:20].plot.bar(x = '科系名稱', y= ['男女比例'], title = '男女比前20名科系長條圖', fontsize = 12, grid = True)\n",
    "            display(uni_rdf0.loc[:20, ['科系名稱', '男女比例']])\n",
    "            print('附註：\\n欄位中若出現\"NaN\"，代表沒有男生數與女生數資料\\n欄位中若出現\"inf\"，代表沒有女生只有男生')\n",
    "            plt.show()\n",
    "        elif grade == 1:\n",
    "            uni_rdf1[:20].plot.bar(x = '科系名稱', y= ['一年級男女比例'], title = '男女比前20名科系長條圖', fontsize = 12, grid = True)\n",
    "            display(uni_rdf1.loc[:20, ['科系名稱', '一年級男女比例']])\n",
    "            print('附註：\\n欄位中若出現\"NaN\"，代表沒有該年級男生數與女生數資料\\n欄位中若出現\"inf\"，代表該年級沒有女生只有男生')\n",
    "            plt.show()\n",
    "        elif grade == 2:\n",
    "            uni_rdf2[:20].plot.bar(x = '科系名稱', y= ['二年級男女比例'], title = '男女比前20名科系長條圖', fontsize = 12, grid = True)\n",
    "            display(uni_rdf2.loc[:20, ['科系名稱', '二年級男女比例']])\n",
    "            print('附註：\\n欄位中若出現\"NaN\"，代表沒有該年級男生數與女生數資料\\n欄位中若出現\"inf\"，代表該年級沒有女生只有男生')\n",
    "            plt.show()\n",
    "        elif grade == 3:\n",
    "            uni_rdf3[:20].plot.bar(x = '科系名稱', y= ['三年級男女比例'], title = '男女比前20名科系長條圖', fontsize = 12, grid = True)\n",
    "            display(uni_rdf3.loc[:20, ['科系名稱', '三年級男女比例']])\n",
    "            print('附註：\\n欄位中若出現\"NaN\"，代表沒有該年級男生數與女生數資料\\n欄位中若出現\"inf\"，代表該年級沒有女生只有男生')\n",
    "            plt.show()\n",
    "        elif grade == 4:\n",
    "            uni_rdf4[:20].plot.bar(x = '科系名稱', y= ['四年級男女比例'], title = '男女比前20名科系長條圖', fontsize = 12, grid = True)\n",
    "            display(uni_rdf4.loc[:20, ['科系名稱', '四年級男女比例']])\n",
    "            print('附註：\\n欄位中若出現\"NaN\"，代表沒有該年級男生數與女生數資料\\n欄位中若出現\"inf\"，代表該年級沒有女生只有男生')\n",
    "            plt.show()\n",
    "        elif grade == 5:\n",
    "            uni_rdf5[:20].plot.bar(x = '科系名稱', y= ['五年級男女比例'], title = '男女比前20名科系長條圖', fontsize = 12, grid = True)\n",
    "            display(uni_rdf5.loc[:20, ['科系名稱', '五年級男女比例']])\n",
    "            print('附註：\\n欄位中若出現\"NaN\"，代表沒有該年級男生數與女生數資料\\n欄位中若出現\"inf\"，代表該年級沒有女生只有男生')\n",
    "            plt.show()\n",
    "        elif grade == 6:\n",
    "            uni_rdf6[:20].plot.bar(x = '科系名稱', y= ['六年級男女比例'], title = '男女比前20名科系長條圖', fontsize = 12, grid = True)\n",
    "            display(uni_rdf6.loc[:20, ['科系名稱', '六年級男女比例']])\n",
    "            print('附註：\\n欄位中若出現\"NaN\"，代表沒有該年級男生數與女生數資料\\n欄位中若出現\"inf\"，代表該年級沒有女生只有男生')\n",
    "            plt.show()\n",
    "        elif grade == 7:\n",
    "            uni_rdf7[:20].plot.bar(x = '科系名稱', y= ['七年級男女比例'], title = '男女比前20名科系長條圖', fontsize = 12, grid = True)\n",
    "            display(uni_rdf7.loc[:20, ['科系名稱', '七年級男女比例']])\n",
    "            print('附註：\\n欄位中若出現\"NaN\"，代表沒有該年級男生數與女生數資料\\n欄位中若出現\"inf\"，代表該年級沒有女生只有男生')\n",
    "            plt.show()\n",
    "    interact_manual(ff3, grade = grade_dict)"
   ]
  },
  {
   "cell_type": "markdown",
   "metadata": {},
   "source": [
    "函式4：顯示科系男生人數前20名"
   ]
  },
  {
   "cell_type": "code",
   "execution_count": 15,
   "metadata": {
    "collapsed": true
   },
   "outputs": [],
   "source": [
    "def f4(uni_mdf0, uni_mdf1, uni_mdf2, uni_mdf3, uni_mdf4, uni_mdf5, uni_mdf6, uni_mdf7):\n",
    "    def ff4(grade):\n",
    "        if grade == 0:\n",
    "            uni_mdf0[:20].plot.bar(x = '科系名稱', y= ['男生計'], title = '男生人數前20名科系長條圖', fontsize = 12, grid = True)\n",
    "            display(uni_mdf0.loc[:20, ['科系名稱', '男生計']])\n",
    "            plt.show()\n",
    "        elif grade == 1:\n",
    "            uni_mdf1[:20].plot.bar(x = '科系名稱', y= ['一年級男生'], title = '男生人數前20名科系長條圖', fontsize = 12, grid = True)\n",
    "            display(uni_mdf1.loc[:20, ['科系名稱', '一年級男生']])\n",
    "            plt.show()\n",
    "        elif grade == 2:\n",
    "            uni_mdf2[:20].plot.bar(x = '科系名稱', y= ['二年級男生'], title = '男生人數前20名科系長條圖', fontsize = 12, grid = True)\n",
    "            display(uni_mdf2.loc[:20, ['科系名稱', '二年級男生']])\n",
    "            plt.show()\n",
    "        elif grade == 3:\n",
    "            uni_mdf3[:20].plot.bar(x = '科系名稱', y= ['三年級男生'], title = '男生人數前20名科系長條圖', fontsize = 12, grid = True)\n",
    "            display(uni_mdf3.loc[:20, ['科系名稱', '三年級男生']])\n",
    "            plt.show()\n",
    "        elif grade == 4:\n",
    "            uni_mdf4[:20].plot.bar(x = '科系名稱', y= ['四年級男生'], title = '男生人數前20名科系長條圖', fontsize = 12, grid = True)\n",
    "            display(uni_mdf4.loc[:20, ['科系名稱', '四年級男生']])\n",
    "            plt.show()\n",
    "        elif grade == 5:\n",
    "            uni_mdf5[:20].plot.bar(x = '科系名稱', y= ['五年級男生'], title = '男生人數前20名科系長條圖', fontsize = 12, grid = True)\n",
    "            display(uni_mdf5.loc[:20, ['科系名稱', '五年級男生']])\n",
    "            plt.show()\n",
    "        elif grade == 6:\n",
    "            uni_mdf6[:20].plot.bar(x = '科系名稱', y= ['六年級男生'], title = '男生人數前20名科系長條圖', fontsize = 12, grid = True)\n",
    "            display(uni_mdf6.loc[:20, ['科系名稱', '六年級男生']])\n",
    "            plt.show()\n",
    "        elif grade == 7:\n",
    "            uni_mdf7[:20].plot.bar(x = '科系名稱', y= ['七年級男生'], title = '男生人數前20名科系長條圖', fontsize = 12, grid = True)\n",
    "            display(uni_mdf7.loc[:20, ['科系名稱', '七年級男生']])\n",
    "            plt.show()\n",
    "    interact_manual(ff4, grade = grade_dict)"
   ]
  },
  {
   "cell_type": "markdown",
   "metadata": {},
   "source": [
    "函式5：顯示科系女生人數前20名"
   ]
  },
  {
   "cell_type": "code",
   "execution_count": 16,
   "metadata": {
    "collapsed": true
   },
   "outputs": [],
   "source": [
    "def f5(uni_fdf0, uni_fdf1, uni_fdf2, uni_fdf3, uni_fdf4, uni_fdf5, uni_fdf6, uni_fdf7):\n",
    "    def ff5(grade):\n",
    "        if grade == 0:\n",
    "            uni_fdf0[:20].plot.bar(x = '科系名稱', y= ['女生計'], title = '女生人數前20名科系長條圖', fontsize = 12, grid = True)\n",
    "            display(uni_fdf0.loc[:20, ['科系名稱', '女生計']])\n",
    "            plt.show()\n",
    "        elif grade == 1:\n",
    "            uni_fdf1[:20].plot.bar(x = '科系名稱', y= ['一年級女生'], title = '女生人數前20名科系長條圖', fontsize = 12, grid = True)\n",
    "            display(uni_fdf1.loc[:20, ['科系名稱', '一年級女生']])\n",
    "            plt.show()\n",
    "        elif grade == 2:\n",
    "            uni_fdf2[:20].plot.bar(x = '科系名稱', y= ['二年級女生'], title = '女生人數前20名科系長條圖', fontsize = 12, grid = True)\n",
    "            display(uni_fdf2.loc[:20, ['科系名稱', '二年級女生']])\n",
    "            plt.show()\n",
    "        elif grade == 3:\n",
    "            uni_fdf3[:20].plot.bar(x = '科系名稱', y= ['三年級女生'], title = '女生人數前20名科系長條圖', fontsize = 12, grid = True)\n",
    "            display(uni_fdf3.loc[:20, ['科系名稱', '三年級女生']])\n",
    "            plt.show()\n",
    "        elif grade == 4:\n",
    "            uni_fdf4[:20].plot.bar(x = '科系名稱', y= ['四年級女生'], title = '女生人數前20名科系長條圖', fontsize = 12, grid = True)\n",
    "            display(uni_fdf4.loc[:20, ['科系名稱', '四年級女生']])\n",
    "            plt.show()\n",
    "        elif grade == 5:\n",
    "            uni_fdf5[:20].plot.bar(x = '科系名稱', y= ['五年級女生'], title = '女生人數前20名科系長條圖', fontsize = 12, grid = True)\n",
    "            display(uni_fdf5.loc[:20, ['科系名稱', '五年級女生']])\n",
    "            plt.show()\n",
    "        elif grade == 6:\n",
    "            uni_fdf6[:20].plot.bar(x = '科系名稱', y= ['六年級女生'], title = '女生人數前20名科系長條圖', fontsize = 12, grid = True)\n",
    "            display(uni_fdf6.loc[:20, ['科系名稱', '六年級女生']])\n",
    "            plt.show()\n",
    "        elif grade == 7:\n",
    "            uni_fdf7[:20].plot.bar(x = '科系名稱', y= ['七年級女生'], title = '女生人數前20名科系長條圖', fontsize = 12, grid = True)\n",
    "            display(uni_fdf7.loc[:20, ['科系名稱', '七年級女生']])\n",
    "            plt.show()\n",
    "    interact_manual(ff5, grade = grade_dict)"
   ]
  },
  {
   "cell_type": "markdown",
   "metadata": {},
   "source": [
    "函式6：顯示科系男女資訊"
   ]
  },
  {
   "cell_type": "code",
   "execution_count": 17,
   "metadata": {
    "collapsed": true
   },
   "outputs": [],
   "source": [
    "def f6(df_uni, uni_df):\n",
    "    dpm_list = df_uni['科系名稱'].unique().tolist()\n",
    "    def ff6(department):\n",
    "        display(uni_df.loc[uni_df['科系名稱'] == department,])\n",
    "        print('附註：\\n欄位中若出現\"NaN\"，代表沒有該年級男生數與女生數資料\\n欄位中若出現\"inf\"，代表該年級沒有男生只有女生')\n",
    "        display(df_uni.loc[df_uni['科系名稱'] == department, '男生計':'七年級女生'])\n",
    "        temp = df_uni.loc[df_uni['科系名稱'] == department, '一年級男生':'七年級女生'].values.tolist()\n",
    "        male = [temp[0][0], temp[0][2], temp[0][4], temp[0][6], temp[0][8], temp[0][10], temp[0][12]]\n",
    "        female = [temp[0][1], temp[0][3], temp[0][5], temp[0][7], temp[0][9], temp[0][11], temp[0][13]]\n",
    "        index = ['一年級', '二年級', '三年級', '四年級', '五年級', '六年級', '七年級']\n",
    "        number = pd.DataFrame({'男生': male, '女生': female}, index = index)\n",
    "        number = number[['男生', '女生']]\n",
    "        number.plot.bar(title = '男女生人數長條圖', fontsize = 12, grid = True)\n",
    "        plt.show()\n",
    "    interact_manual(ff6, department = dpm_list)"
   ]
  },
  {
   "cell_type": "markdown",
   "metadata": {},
   "source": [
    "互動功能製作"
   ]
  },
  {
   "cell_type": "code",
   "execution_count": 20,
   "metadata": {
    "scrolled": false
   },
   "outputs": [
    {
     "data": {
      "application/vnd.jupyter.widget-view+json": {
       "model_id": "5470dc61655041bdb6cb92fda35b9baf",
       "version_major": 2,
       "version_minor": 0
      },
      "text/plain": [
       "A Jupyter Widget"
      ]
     },
     "metadata": {},
     "output_type": "display_data"
    },
    {
     "data": {
      "text/plain": [
       "<function __main__.choose_uni>"
      ]
     },
     "execution_count": 20,
     "metadata": {},
     "output_type": "execute_result"
    }
   ],
   "source": [
    "interact_manual(choose_uni, request = req_dict, university = uni_list, types = tp_list, level = lv_list)"
   ]
  },
  {
   "cell_type": "code",
   "execution_count": null,
   "metadata": {
    "collapsed": true
   },
   "outputs": [],
   "source": []
  }
 ],
 "metadata": {
  "kernelspec": {
   "display_name": "Python 3",
   "language": "python",
   "name": "python3"
  },
  "language_info": {
   "codemirror_mode": {
    "name": "ipython",
    "version": 3
   },
   "file_extension": ".py",
   "mimetype": "text/x-python",
   "name": "python",
   "nbconvert_exporter": "python",
   "pygments_lexer": "ipython3",
   "version": "3.6.3"
  }
 },
 "nbformat": 4,
 "nbformat_minor": 2
}
