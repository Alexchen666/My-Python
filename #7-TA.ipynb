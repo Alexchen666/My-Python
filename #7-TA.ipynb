{
 "cells": [
  {
   "cell_type": "markdown",
   "metadata": {},
   "source": [
    "# Adam"
   ]
  },
  {
   "cell_type": "code",
   "execution_count": 1,
   "metadata": {
    "collapsed": true
   },
   "outputs": [],
   "source": [
    "%matplotlib inline\n",
    "import numpy as np\n",
    "import matplotlib.pyplot as plt"
   ]
  },
  {
   "cell_type": "code",
   "execution_count": 2,
   "metadata": {},
   "outputs": [
    {
     "name": "stderr",
     "output_type": "stream",
     "text": [
      "Using TensorFlow backend.\n"
     ]
    }
   ],
   "source": [
    "from keras.datasets import mnist"
   ]
  },
  {
   "cell_type": "code",
   "execution_count": 3,
   "metadata": {
    "collapsed": true
   },
   "outputs": [],
   "source": [
    "(x_train, y_train), (x_test, y_test)=mnist.load_data()"
   ]
  },
  {
   "cell_type": "code",
   "execution_count": 4,
   "metadata": {},
   "outputs": [
    {
     "data": {
      "text/plain": [
       "60000"
      ]
     },
     "execution_count": 4,
     "metadata": {},
     "output_type": "execute_result"
    }
   ],
   "source": [
    "len(x_train)"
   ]
  },
  {
   "cell_type": "code",
   "execution_count": 5,
   "metadata": {},
   "outputs": [
    {
     "data": {
      "text/plain": [
       "10000"
      ]
     },
     "execution_count": 5,
     "metadata": {},
     "output_type": "execute_result"
    }
   ],
   "source": [
    "len(x_test)"
   ]
  },
  {
   "cell_type": "code",
   "execution_count": 6,
   "metadata": {},
   "outputs": [
    {
     "data": {
      "text/plain": [
       "array([[  0,   0,   0,   0,   0,   0,   0,   0,   0,   0,   0,   0,   0,\n",
       "          0,   0,   0,   0,   0,   0,   0,   0,   0,   0,   0,   0,   0,\n",
       "          0,   0],\n",
       "       [  0,   0,   0,   0,   0,   0,   0,   0,   0,   0,   0,   0,   0,\n",
       "          0,   0,   0,   0,   0,   0,   0,   0,   0,   0,   0,   0,   0,\n",
       "          0,   0],\n",
       "       [  0,   0,   0,   0,   0,   0,   0,   0,   0,   0,   0,   0,   0,\n",
       "          0,   0,   0,   0,   0,   0,   0,   0,   0,   0,   0,   0,   0,\n",
       "          0,   0],\n",
       "       [  0,   0,   0,   0,   0,   0,   0,   0,   0,   0,   0,   0,   0,\n",
       "          0,   0,   0,   0,   0,   0,   0,   0,   0,   0,   0,   0,   0,\n",
       "          0,   0],\n",
       "       [  0,   0,   0,   0,   0,   0,   0,   0,   0,   0,   0,   0,   0,\n",
       "          0,   0,   0,   0,   0,   0,   0,   0,   0,   0,   0,   0,   0,\n",
       "          0,   0],\n",
       "       [  0,   0,   0,   0,   0,   0,   0,   0,   0,   0,   0,  48, 134,\n",
       "        253, 255, 253, 253, 213,  36,   0,   0,   0,   0,   0,   0,   0,\n",
       "          0,   0],\n",
       "       [  0,   0,   0,   0,   0,   0,   0,   0,   0,   0, 143, 221, 251,\n",
       "        251, 253, 251, 251, 251, 212,   0,   0,   0,   0,   0,   0,   0,\n",
       "          0,   0],\n",
       "       [  0,   0,   0,   0,   0,   0,   0,   0,   0,   0, 190, 251, 251,\n",
       "        251, 253, 251, 251, 251, 251,   0,   0,   0,   0,   0,   0,   0,\n",
       "          0,   0],\n",
       "       [  0,   0,   0,   0,   0,   0,   0,   0,   0,   0,  43, 188, 188,\n",
       "        188, 189, 236, 251, 251, 251, 139,   0,   0,   0,   0,   0,   0,\n",
       "          0,   0],\n",
       "       [  0,   0,   0,   0,   0,   0,   0,   0,   0,   0,   0,   0,   0,\n",
       "          0,   0, 190, 251, 251, 251, 158,   0,   0,   0,   0,   0,   0,\n",
       "          0,   0],\n",
       "       [  0,   0,   0,   0,   0,   0,   0,   0,   0,   0,   0,   0,   0,\n",
       "          0,   0, 191, 253, 253, 253, 159,   0,   0,   0,   0,   0,   0,\n",
       "          0,   0],\n",
       "       [  0,   0,   0,   0,   0,   0,   0,   0,   0,  12,  32,  32,  32,\n",
       "         12,   0, 190, 251, 251, 251,  39,   0,   0,   0,   0,   0,   0,\n",
       "          0,   0],\n",
       "       [  0,   0,   0,   0,   0,   0,   0,   0,   0, 174, 251, 251, 251,\n",
       "        173, 128, 221, 251, 251, 251,   0,   0,   0,   0,   0,   0,   0,\n",
       "          0,   0],\n",
       "       [  0,   0,   0,   0,   0,   0,   0,   0,   0, 253, 251, 251, 251,\n",
       "        251, 253, 251, 251, 196, 188,   0,   0,   0,   0,   0,   0,   0,\n",
       "          0,   0],\n",
       "       [  0,   0,   0,   0,   0,   0,   0,   0,   0, 253, 251, 251, 251,\n",
       "        251, 253, 251, 251,  31,   0,   0,   0,   0,   0,   0,   0,   0,\n",
       "          0,   0],\n",
       "       [  0,   0,   0,   0,   0,   0,   0,   0,   0, 159, 230, 253, 253,\n",
       "        253, 255, 253, 253,  91,   0,   0,   0,   0,   0,   0,   0,   0,\n",
       "          0,   0],\n",
       "       [  0,   0,   0,   0,   0,   0,   0,   0,   0,   0,  47,  62, 209,\n",
       "        251, 253, 251, 251, 188,   0,   0,   0,   0,   0,   0,   0,   0,\n",
       "          0,   0],\n",
       "       [  0,   0,   0,   0,   0,   0,   0,   0,   0,   0,   0,   0,  32,\n",
       "        126, 253, 251, 251, 220,  48,   0,   0,   0,   0,   0,   0,   0,\n",
       "          0,   0],\n",
       "       [  0,   0,   0,   0,   0,   0,   0,   0,   0,   0,   0,   0,   0,\n",
       "          0, 253, 251, 251, 235,  70,   0,   0,   0,   0,   0,   0,   0,\n",
       "          0,   0],\n",
       "       [  0,   0,   0,   0,   0,   0,   0,   0,   0,   0,   0,   0,   0,\n",
       "          0, 153, 251, 251, 188,   0,   0,   0,   0,   0,   0,   0,   0,\n",
       "          0,   0],\n",
       "       [  0,   0,   0,   0,   0,   0,   0,   0, 159, 255, 253, 173,  96,\n",
       "         96, 155, 253, 253, 189,   0,   0,   0,   0,   0,   0,   0,   0,\n",
       "          0,   0],\n",
       "       [  0,   0,   0,   0,   0,   0,   0,  40, 217, 253, 251, 251, 251,\n",
       "        251, 253, 251, 251,  69,   0,   0,   0,   0,   0,   0,   0,   0,\n",
       "          0,   0],\n",
       "       [  0,   0,   0,   0,   0,   0,   0,   0, 158, 253, 251, 251, 251,\n",
       "        251, 253, 235, 126,  15,   0,   0,   0,   0,   0,   0,   0,   0,\n",
       "          0,   0],\n",
       "       [  0,   0,   0,   0,   0,   0,   0,   0, 158, 253, 251, 251, 251,\n",
       "        251, 253, 180,   0,   0,   0,   0,   0,   0,   0,   0,   0,   0,\n",
       "          0,   0],\n",
       "       [  0,   0,   0,   0,   0,   0,   0,   0,  59,  95,  94,  94,  94,\n",
       "         94, 193,  23,   0,   0,   0,   0,   0,   0,   0,   0,   0,   0,\n",
       "          0,   0],\n",
       "       [  0,   0,   0,   0,   0,   0,   0,   0,   0,   0,   0,   0,   0,\n",
       "          0,   0,   0,   0,   0,   0,   0,   0,   0,   0,   0,   0,   0,\n",
       "          0,   0],\n",
       "       [  0,   0,   0,   0,   0,   0,   0,   0,   0,   0,   0,   0,   0,\n",
       "          0,   0,   0,   0,   0,   0,   0,   0,   0,   0,   0,   0,   0,\n",
       "          0,   0],\n",
       "       [  0,   0,   0,   0,   0,   0,   0,   0,   0,   0,   0,   0,   0,\n",
       "          0,   0,   0,   0,   0,   0,   0,   0,   0,   0,   0,   0,   0,\n",
       "          0,   0]], dtype=uint8)"
      ]
     },
     "execution_count": 6,
     "metadata": {},
     "output_type": "execute_result"
    }
   ],
   "source": [
    "x_train[8794]"
   ]
  },
  {
   "cell_type": "code",
   "execution_count": 7,
   "metadata": {},
   "outputs": [
    {
     "data": {
      "text/plain": [
       "<matplotlib.image.AxesImage at 0x1a9750aa6d8>"
      ]
     },
     "execution_count": 7,
     "metadata": {},
     "output_type": "execute_result"
    },
    {
     "data": {
      "image/png": "[encoded data removed]",
      "text/plain": [
       "<Figure size 432x288 with 1 Axes>"
      ]
     },
     "metadata": {
      "needs_background": "light"
     },
     "output_type": "display_data"
    }
   ],
   "source": [
    "plt.imshow(x_train[8794], cmap=\"Greys\")"
   ]
  },
  {
   "cell_type": "code",
   "execution_count": 8,
   "metadata": {},
   "outputs": [
    {
     "data": {
      "text/plain": [
       "3"
      ]
     },
     "execution_count": 8,
     "metadata": {},
     "output_type": "execute_result"
    }
   ],
   "source": [
    "y_train[8794]"
   ]
  },
  {
   "cell_type": "code",
   "execution_count": 9,
   "metadata": {},
   "outputs": [
    {
     "data": {
      "text/plain": [
       "(28, 28)"
      ]
     },
     "execution_count": 9,
     "metadata": {},
     "output_type": "execute_result"
    }
   ],
   "source": [
    "x_train[8794].shape"
   ]
  },
  {
   "cell_type": "code",
   "execution_count": 10,
   "metadata": {
    "collapsed": true
   },
   "outputs": [],
   "source": [
    "x_train = x_train.reshape(60000,784)\n",
    "x_test = x_test.reshape(10000,784)"
   ]
  },
  {
   "cell_type": "code",
   "execution_count": 11,
   "metadata": {},
   "outputs": [
    {
     "data": {
      "text/plain": [
       "(784,)"
      ]
     },
     "execution_count": 11,
     "metadata": {},
     "output_type": "execute_result"
    }
   ],
   "source": [
    "x_train[8794].shape"
   ]
  },
  {
   "cell_type": "code",
   "execution_count": 12,
   "metadata": {
    "collapsed": true
   },
   "outputs": [],
   "source": [
    "from keras.utils import np_utils"
   ]
  },
  {
   "cell_type": "code",
   "execution_count": 13,
   "metadata": {
    "collapsed": true
   },
   "outputs": [],
   "source": [
    "y_train = np_utils.to_categorical(y_train, 10)"
   ]
  },
  {
   "cell_type": "code",
   "execution_count": 14,
   "metadata": {
    "collapsed": true
   },
   "outputs": [],
   "source": [
    "y_test = np_utils.to_categorical(y_test, 10)"
   ]
  },
  {
   "cell_type": "code",
   "execution_count": 15,
   "metadata": {},
   "outputs": [
    {
     "data": {
      "text/plain": [
       "array([0., 0., 0., 1., 0., 0., 0., 0., 0., 0.], dtype=float32)"
      ]
     },
     "execution_count": 15,
     "metadata": {},
     "output_type": "execute_result"
    }
   ],
   "source": [
    "y_train[8794]"
   ]
  },
  {
   "cell_type": "code",
   "execution_count": 16,
   "metadata": {
    "collapsed": true
   },
   "outputs": [],
   "source": [
    "from keras.models import Sequential\n",
    "from keras.layers import Dense,Activation\n",
    "from keras.optimizers import  SGD"
   ]
  },
  {
   "cell_type": "code",
   "execution_count": 17,
   "metadata": {
    "collapsed": true
   },
   "outputs": [],
   "source": [
    "model_1 = Sequential()"
   ]
  },
  {
   "cell_type": "code",
   "execution_count": 18,
   "metadata": {},
   "outputs": [
    {
     "name": "stdout",
     "output_type": "stream",
     "text": [
      "WARNING:tensorflow:From D:\\Anaconda\\lib\\site-packages\\tensorflow\\python\\framework\\op_def_library.py:263: colocate_with (from tensorflow.python.framework.ops) is deprecated and will be removed in a future version.\n",
      "Instructions for updating:\n",
      "Colocations handled automatically by placer.\n"
     ]
    }
   ],
   "source": [
    "model_1.add(Dense(4, input_dim=784))\n",
    "model_1.add(Activation(\"sigmoid\"))\n",
    "model_1.add(Dense(2))\n",
    "model_1.add(Activation(\"sigmoid\"))\n",
    "model_1.add(Dense(10))\n",
    "model_1.add(Activation(\"softmax\"))\n",
    "model_1.compile(loss = 'mse', \n",
    "              optimizer = SGD(lr=0.087),\n",
    "              metrics = [\"accuracy\"])"
   ]
  },
  {
   "cell_type": "code",
   "execution_count": 19,
   "metadata": {},
   "outputs": [
    {
     "name": "stdout",
     "output_type": "stream",
     "text": [
      "_________________________________________________________________\n",
      "Layer (type)                 Output Shape              Param #   \n",
      "=================================================================\n",
      "dense_1 (Dense)              (None, 4)                 3140      \n",
      "_________________________________________________________________\n",
      "activation_1 (Activation)    (None, 4)                 0         \n",
      "_________________________________________________________________\n",
      "dense_2 (Dense)              (None, 2)                 10        \n",
      "_________________________________________________________________\n",
      "activation_2 (Activation)    (None, 2)                 0         \n",
      "_________________________________________________________________\n",
      "dense_3 (Dense)              (None, 10)                30        \n",
      "_________________________________________________________________\n",
      "activation_3 (Activation)    (None, 10)                0         \n",
      "=================================================================\n",
      "Total params: 3,180\n",
      "Trainable params: 3,180\n",
      "Non-trainable params: 0\n",
      "_________________________________________________________________\n"
     ]
    }
   ],
   "source": [
    "model_1.summary()"
   ]
  },
  {
   "cell_type": "code",
   "execution_count": 20,
   "metadata": {},
   "outputs": [
    {
     "name": "stdout",
     "output_type": "stream",
     "text": [
      "WARNING:tensorflow:From D:\\Anaconda\\lib\\site-packages\\tensorflow\\python\\ops\\math_ops.py:3066: to_int32 (from tensorflow.python.ops.math_ops) is deprecated and will be removed in a future version.\n",
      "Instructions for updating:\n",
      "Use tf.cast instead.\n",
      "Train on 60000 samples, validate on 10000 samples\n",
      "Epoch 1/20\n",
      "60000/60000 [==============================] - 3s 44us/step - loss: 0.0901 - acc: 0.1275 - val_loss: 0.0898 - val_acc: 0.1402\n",
      "Epoch 2/20\n",
      "60000/60000 [==============================] - 2s 33us/step - loss: 0.0896 - acc: 0.1485 - val_loss: 0.0894 - val_acc: 0.1453\n",
      "Epoch 3/20\n",
      "60000/60000 [==============================] - 2s 32us/step - loss: 0.0893 - acc: 0.1529 - val_loss: 0.0892 - val_acc: 0.1503\n",
      "Epoch 4/20\n",
      "60000/60000 [==============================] - 2s 34us/step - loss: 0.0891 - acc: 0.1489 - val_loss: 0.0890 - val_acc: 0.1247\n",
      "Epoch 5/20\n",
      "60000/60000 [==============================] - 2s 33us/step - loss: 0.0889 - acc: 0.1256 - val_loss: 0.0888 - val_acc: 0.1178\n",
      "Epoch 6/20\n",
      "60000/60000 [==============================] - 2s 32us/step - loss: 0.0887 - acc: 0.1173 - val_loss: 0.0886 - val_acc: 0.1125\n",
      "Epoch 7/20\n",
      "60000/60000 [==============================] - 2s 33us/step - loss: 0.0885 - acc: 0.1131 - val_loss: 0.0884 - val_acc: 0.1082\n",
      "Epoch 8/20\n",
      "60000/60000 [==============================] - 2s 32us/step - loss: 0.0883 - acc: 0.1111 - val_loss: 0.0882 - val_acc: 0.1090\n",
      "Epoch 9/20\n",
      "60000/60000 [==============================] - 2s 33us/step - loss: 0.0881 - acc: 0.1109 - val_loss: 0.0881 - val_acc: 0.1106\n",
      "Epoch 10/20\n",
      "60000/60000 [==============================] - 2s 32us/step - loss: 0.0880 - acc: 0.1115 - val_loss: 0.0879 - val_acc: 0.1082\n",
      "Epoch 11/20\n",
      "60000/60000 [==============================] - 2s 31us/step - loss: 0.0878 - acc: 0.1105 - val_loss: 0.0877 - val_acc: 0.1097\n",
      "Epoch 12/20\n",
      "60000/60000 [==============================] - 2s 32us/step - loss: 0.0875 - acc: 0.1106 - val_loss: 0.0874 - val_acc: 0.1092\n",
      "Epoch 13/20\n",
      "60000/60000 [==============================] - 2s 32us/step - loss: 0.0873 - acc: 0.1108 - val_loss: 0.0872 - val_acc: 0.1097\n",
      "Epoch 14/20\n",
      "60000/60000 [==============================] - 2s 32us/step - loss: 0.0871 - acc: 0.1124 - val_loss: 0.0870 - val_acc: 0.1096\n",
      "Epoch 15/20\n",
      "60000/60000 [==============================] - 2s 32us/step - loss: 0.0868 - acc: 0.1133 - val_loss: 0.0867 - val_acc: 0.1131\n",
      "Epoch 16/20\n",
      "60000/60000 [==============================] - 2s 32us/step - loss: 0.0866 - acc: 0.1166 - val_loss: 0.0865 - val_acc: 0.1156\n",
      "Epoch 17/20\n",
      "60000/60000 [==============================] - 2s 32us/step - loss: 0.0863 - acc: 0.1187 - val_loss: 0.0862 - val_acc: 0.1137\n",
      "Epoch 18/20\n",
      "60000/60000 [==============================] - 2s 32us/step - loss: 0.0860 - acc: 0.1177 - val_loss: 0.0859 - val_acc: 0.1142\n",
      "Epoch 19/20\n",
      "60000/60000 [==============================] - 2s 32us/step - loss: 0.0856 - acc: 0.1201 - val_loss: 0.0856 - val_acc: 0.1133\n",
      "Epoch 20/20\n",
      "60000/60000 [==============================] - 2s 32us/step - loss: 0.0853 - acc: 0.1195 - val_loss: 0.0852 - val_acc: 0.1166\n"
     ]
    }
   ],
   "source": [
    "model_1_20 = model_1.fit(x_train, y_train, \n",
    "          batch_size=100, \n",
    "          epochs=20, \n",
    "          verbose=1, \n",
    "          validation_data=(x_test, y_test))"
   ]
  },
  {
   "cell_type": "code",
   "execution_count": 21,
   "metadata": {
    "collapsed": true
   },
   "outputs": [],
   "source": [
    "from ipywidgets import interact_manual"
   ]
  },
  {
   "cell_type": "code",
   "execution_count": 22,
   "metadata": {
    "collapsed": true
   },
   "outputs": [],
   "source": [
    "predict = model_1.predict_classes(x_test)"
   ]
  },
  {
   "cell_type": "code",
   "execution_count": 23,
   "metadata": {},
   "outputs": [
    {
     "data": {
      "text/plain": [
       "array([0.0573738 , 0.07575384, 0.0574095 , 0.09768799, 0.05213743,\n",
       "       0.0769859 , 0.04688735, 0.43402034, 0.05471536, 0.04702845],\n",
       "      dtype=float32)"
      ]
     },
     "execution_count": 23,
     "metadata": {},
     "output_type": "execute_result"
    }
   ],
   "source": [
    "model_1.predict(x_test)[0]"
   ]
  },
  {
   "cell_type": "code",
   "execution_count": 24,
   "metadata": {
    "collapsed": true
   },
   "outputs": [],
   "source": [
    "def test(num):\n",
    "    plt.imshow(x_test[num].reshape(28,28), cmap=\"Greys\")\n",
    "    print(\"神經網路判斷為:\", predict[num])"
   ]
  },
  {
   "cell_type": "code",
   "execution_count": 25,
   "metadata": {},
   "outputs": [
    {
     "data": {
      "application/vnd.jupyter.widget-view+json": {
       "model_id": "6442db042d34453a930947d47ac2dfab",
       "version_major": 2,
       "version_minor": 0
      },
      "text/plain": [
       "interactive(children=(IntSlider(value=4999, description='num', max=9999), Button(description='Run Interact', s…"
      ]
     },
     "metadata": {},
     "output_type": "display_data"
    },
    {
     "data": {
      "text/plain": [
       "<function __main__.test(num)>"
      ]
     },
     "execution_count": 25,
     "metadata": {},
     "output_type": "execute_result"
    }
   ],
   "source": [
    "interact_manual(test, num =(0,9999))"
   ]
  },
  {
   "cell_type": "code",
   "execution_count": 26,
   "metadata": {},
   "outputs": [
    {
     "name": "stdout",
     "output_type": "stream",
     "text": [
      "10000/10000 [==============================] - 0s 33us/step\n"
     ]
    }
   ],
   "source": [
    "score = model_1.evaluate(x_test,y_test)"
   ]
  },
  {
   "cell_type": "code",
   "execution_count": 27,
   "metadata": {},
   "outputs": [
    {
     "name": "stdout",
     "output_type": "stream",
     "text": [
      "測試資料的 loss: 0.08523958916664123\n",
      "測試資料正確率: 0.1166\n"
     ]
    }
   ],
   "source": [
    "print('測試資料的 loss:', score[0])\n",
    "print('測試資料正確率:', score[1])"
   ]
  },
  {
   "cell_type": "code",
   "execution_count": 28,
   "metadata": {
    "collapsed": true
   },
   "outputs": [],
   "source": [
    "x_train_1 = x_train / x_train.max()\n",
    "x_test_1 = x_test / x_test.max()"
   ]
  },
  {
   "cell_type": "code",
   "execution_count": 29,
   "metadata": {},
   "outputs": [
    {
     "data": {
      "text/plain": [
       "1.0"
      ]
     },
     "execution_count": 29,
     "metadata": {},
     "output_type": "execute_result"
    }
   ],
   "source": [
    "x_train_1.max()"
   ]
  },
  {
   "cell_type": "code",
   "execution_count": 30,
   "metadata": {
    "collapsed": true
   },
   "outputs": [],
   "source": [
    "x_train_2 = (x_train - x_train.min()) / (x_train.max() - x_train.min())\n",
    "x_test_2 = (x_test - x_test.min()) / (x_test.max() - x_test.min())"
   ]
  },
  {
   "cell_type": "code",
   "execution_count": 31,
   "metadata": {},
   "outputs": [
    {
     "data": {
      "text/plain": [
       "1.0"
      ]
     },
     "execution_count": 31,
     "metadata": {},
     "output_type": "execute_result"
    }
   ],
   "source": [
    "x_train_2.max()"
   ]
  },
  {
   "cell_type": "code",
   "execution_count": 32,
   "metadata": {},
   "outputs": [
    {
     "name": "stdout",
     "output_type": "stream",
     "text": [
      "_________________________________________________________________\n",
      "Layer (type)                 Output Shape              Param #   \n",
      "=================================================================\n",
      "dense_4 (Dense)              (None, 4)                 3140      \n",
      "_________________________________________________________________\n",
      "activation_4 (Activation)    (None, 4)                 0         \n",
      "_________________________________________________________________\n",
      "dense_5 (Dense)              (None, 2)                 10        \n",
      "_________________________________________________________________\n",
      "activation_5 (Activation)    (None, 2)                 0         \n",
      "_________________________________________________________________\n",
      "dense_6 (Dense)              (None, 10)                30        \n",
      "_________________________________________________________________\n",
      "activation_6 (Activation)    (None, 10)                0         \n",
      "=================================================================\n",
      "Total params: 3,180\n",
      "Trainable params: 3,180\n",
      "Non-trainable params: 0\n",
      "_________________________________________________________________\n"
     ]
    }
   ],
   "source": [
    "model_2 = Sequential()\n",
    "model_2.add(Dense(4, input_dim=784))\n",
    "model_2.add(Activation(\"sigmoid\"))\n",
    "model_2.add(Dense(2))\n",
    "model_2.add(Activation(\"sigmoid\"))\n",
    "model_2.add(Dense(10))\n",
    "model_2.add(Activation(\"softmax\"))\n",
    "model_2.compile(loss = 'mse', \n",
    "              optimizer = SGD(lr=0.05),\n",
    "              metrics = [\"accuracy\"])\n",
    "model_2.summary()"
   ]
  },
  {
   "cell_type": "code",
   "execution_count": 33,
   "metadata": {},
   "outputs": [
    {
     "name": "stdout",
     "output_type": "stream",
     "text": [
      "Train on 60000 samples, validate on 10000 samples\n",
      "Epoch 1/20\n",
      "60000/60000 [==============================] - 3s 49us/step - loss: 0.0904 - acc: 0.0993 - val_loss: 0.0903 - val_acc: 0.1032\n",
      "Epoch 2/20\n",
      "60000/60000 [==============================] - 2s 36us/step - loss: 0.0903 - acc: 0.0993 - val_loss: 0.0902 - val_acc: 0.1032\n",
      "Epoch 3/20\n",
      "60000/60000 [==============================] - 2s 36us/step - loss: 0.0902 - acc: 0.0993 - val_loss: 0.0902 - val_acc: 0.1032\n",
      "Epoch 4/20\n",
      "60000/60000 [==============================] - 2s 36us/step - loss: 0.0902 - acc: 0.0993 - val_loss: 0.0901 - val_acc: 0.1032\n",
      "Epoch 5/20\n",
      "60000/60000 [==============================] - 2s 36us/step - loss: 0.0901 - acc: 0.0993 - val_loss: 0.0901 - val_acc: 0.1032\n",
      "Epoch 6/20\n",
      "60000/60000 [==============================] - 2s 36us/step - loss: 0.0901 - acc: 0.0993 - val_loss: 0.0900 - val_acc: 0.1032\n",
      "Epoch 7/20\n",
      "60000/60000 [==============================] - 2s 36us/step - loss: 0.0900 - acc: 0.0992 - val_loss: 0.0900 - val_acc: 0.1036\n",
      "Epoch 8/20\n",
      "60000/60000 [==============================] - 2s 36us/step - loss: 0.0900 - acc: 0.0990 - val_loss: 0.0900 - val_acc: 0.1014\n",
      "Epoch 9/20\n",
      "60000/60000 [==============================] - 2s 35us/step - loss: 0.0900 - acc: 0.0986 - val_loss: 0.0899 - val_acc: 0.0986\n",
      "Epoch 10/20\n",
      "60000/60000 [==============================] - 2s 35us/step - loss: 0.0899 - acc: 0.0970 - val_loss: 0.0899 - val_acc: 0.0954\n",
      "Epoch 11/20\n",
      "60000/60000 [==============================] - 2s 35us/step - loss: 0.0899 - acc: 0.0962 - val_loss: 0.0899 - val_acc: 0.0906\n",
      "Epoch 12/20\n",
      "60000/60000 [==============================] - 2s 35us/step - loss: 0.0899 - acc: 0.0988 - val_loss: 0.0899 - val_acc: 0.1134\n",
      "Epoch 13/20\n",
      "60000/60000 [==============================] - 2s 36us/step - loss: 0.0899 - acc: 0.1267 - val_loss: 0.0899 - val_acc: 0.1419\n",
      "Epoch 14/20\n",
      "60000/60000 [==============================] - 2s 35us/step - loss: 0.0899 - acc: 0.1432 - val_loss: 0.0898 - val_acc: 0.1401\n",
      "Epoch 15/20\n",
      "60000/60000 [==============================] - 2s 35us/step - loss: 0.0899 - acc: 0.1318 - val_loss: 0.0898 - val_acc: 0.1270\n",
      "Epoch 16/20\n",
      "60000/60000 [==============================] - 2s 35us/step - loss: 0.0898 - acc: 0.1219 - val_loss: 0.0898 - val_acc: 0.1214\n",
      "Epoch 17/20\n",
      "60000/60000 [==============================] - 2s 35us/step - loss: 0.0898 - acc: 0.1173 - val_loss: 0.0898 - val_acc: 0.1183\n",
      "Epoch 18/20\n",
      "60000/60000 [==============================] - 2s 35us/step - loss: 0.0898 - acc: 0.1145 - val_loss: 0.0898 - val_acc: 0.1155\n",
      "Epoch 19/20\n",
      "60000/60000 [==============================] - 2s 35us/step - loss: 0.0898 - acc: 0.1137 - val_loss: 0.0898 - val_acc: 0.1144\n",
      "Epoch 20/20\n",
      "60000/60000 [==============================] - 2s 35us/step - loss: 0.0898 - acc: 0.1130 - val_loss: 0.0898 - val_acc: 0.1138\n"
     ]
    }
   ],
   "source": [
    "model_2_20 = model_2.fit(x_train_1, y_train,\n",
    "                        batch_size = 100,\n",
    "                        epochs = 20,\n",
    "                        verbose = 1,\n",
    "                        validation_data = (x_test_1, y_test))"
   ]
  },
  {
   "cell_type": "code",
   "execution_count": 35,
   "metadata": {},
   "outputs": [
    {
     "data": {
      "image/png": "[encoded data removed]",
      "text/plain": [
       "<Figure size 432x288 with 1 Axes>"
      ]
     },
     "metadata": {
      "needs_background": "light"
     },
     "output_type": "display_data"
    }
   ],
   "source": [
    "plt.plot(model_1_20.history[\"acc\"])\n",
    "plt.plot(model_2_20.history[\"acc\"])\n",
    "\n",
    "plt.title(\"model training accuracy\")\n",
    "plt.ylabel(\"accuracy\")\n",
    "plt.xlabel(\"epoch\")\n",
    "plt.legend([\"model_1\", \"model_2\"], loc = \"best\")\n",
    "plt.show()"
   ]
  },
  {
   "cell_type": "code",
   "execution_count": 37,
   "metadata": {},
   "outputs": [
    {
     "data": {
      "image/png": "[encoded data removed]",
      "text/plain": [
       "<Figure size 432x288 with 1 Axes>"
      ]
     },
     "metadata": {
      "needs_background": "light"
     },
     "output_type": "display_data"
    }
   ],
   "source": [
    "plt.plot(model_1_20.history[\"val_loss\"])\n",
    "plt.plot(model_2_20.history[\"val_loss\"])\n",
    "\n",
    "plt.title(\"model validation loss\")\n",
    "plt.ylabel(\"loss\")\n",
    "plt.xlabel(\"epoch\")\n",
    "plt.legend([\"model_1\", \"model_2\"], loc = \"best\")\n",
    "plt.show()"
   ]
  },
  {
   "cell_type": "code",
   "execution_count": null,
   "metadata": {
    "collapsed": true
   },
   "outputs": [],
   "source": []
  }
 ],
 "metadata": {
  "kernelspec": {
   "display_name": "Python 3",
   "language": "python",
   "name": "python3"
  },
  "language_info": {
   "codemirror_mode": {
    "name": "ipython",
    "version": 3
   },
   "file_extension": ".py",
   "mimetype": "text/x-python",
   "name": "python",
   "nbconvert_exporter": "python",
   "pygments_lexer": "ipython3",
   "version": "3.6.3"
  }
 },
 "nbformat": 4,
 "nbformat_minor": 2
}
