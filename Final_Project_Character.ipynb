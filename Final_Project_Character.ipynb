{
 "cells": [
  {
   "cell_type": "markdown",
   "metadata": {},
   "source": [
    "# 用單個字進行新聞標題預測"
   ]
  },
  {
   "cell_type": "markdown",
   "metadata": {},
   "source": [
    "參考網路上資料：https://juejin.im/entry/5a44bc4c6fb9a0451f313f2f?fbclid=IwAR2k7F9mi1vkJ5PGSiXKvODnmmhXv3NKxRwnNk3jG_qGgQTNT_lSPk93sik"
   ]
  },
  {
   "cell_type": "markdown",
   "metadata": {},
   "source": [
    "## 神經網路架構\n",
    "\n",
    "1. 將 6513 維的文字壓到 256 維\n",
    "2. 用 128 個神經元的 LSTM 做隱藏層\n",
    "3. 加一層 dropout 避免 over-fitting\n",
    "4. 再加一層 8 個神經元的隱藏層\n",
    "5. 因為 y 是 one-hot encoding，所以 Activation Function 是 softmax\n",
    "6. 用 categorical_crossentropy 做 loss function, optimizer 用 Adam\n",
    "\n",
    "### 輸入：新聞標題(拆成單個字，並轉換成ID)\n",
    "### 輸出：標題類別編號"
   ]
  },
  {
   "cell_type": "markdown",
   "metadata": {},
   "source": [
    "## 1. 資料預處理"
   ]
  },
  {
   "cell_type": "code",
   "execution_count": 1,
   "metadata": {
    "collapsed": true
   },
   "outputs": [],
   "source": [
    "%matplotlib inline\n",
    "import matplotlib.pyplot as plt\n",
    "import numpy as np\n",
    "import pandas as pd"
   ]
  },
  {
   "cell_type": "markdown",
   "metadata": {},
   "source": [
    "讀入5份爬蟲的新聞標題資料並接合"
   ]
  },
  {
   "cell_type": "code",
   "execution_count": 2,
   "metadata": {
    "collapsed": true
   },
   "outputs": [],
   "source": [
    "df1 = pd.read_excel('總資料整理1.xlsx')\n",
    "df2 = pd.read_excel('總資料整理2.xlsx')\n",
    "df3 = pd.read_excel('總資料整理3.xlsx')\n",
    "df4 = pd.read_excel('總資料整理4.xlsx')\n",
    "df5 = pd.read_excel('總資料整理5.xlsx')"
   ]
  },
  {
   "cell_type": "code",
   "execution_count": 3,
   "metadata": {
    "collapsed": true
   },
   "outputs": [],
   "source": [
    "df = pd.concat([df1, df2, df3, df4, df5], axis = 0)"
   ]
  },
  {
   "cell_type": "markdown",
   "metadata": {},
   "source": [
    "分析新聞標題類型"
   ]
  },
  {
   "cell_type": "code",
   "execution_count": 4,
   "metadata": {},
   "outputs": [
    {
     "data": {
      "text/plain": [
       "array(['娛樂', '生活', '社會', '政治', '財經', '國際', '體育'], dtype=object)"
      ]
     },
     "execution_count": 4,
     "metadata": {},
     "output_type": "execute_result"
    }
   ],
   "source": [
    "df.類別.unique()"
   ]
  },
  {
   "cell_type": "markdown",
   "metadata": {},
   "source": [
    "讀取標題"
   ]
  },
  {
   "cell_type": "code",
   "execution_count": 5,
   "metadata": {
    "collapsed": true
   },
   "outputs": [],
   "source": [
    "A=[]\n",
    "A=df['標題']"
   ]
  },
  {
   "cell_type": "markdown",
   "metadata": {},
   "source": [
    "將每句標題中的特殊字元去除"
   ]
  },
  {
   "cell_type": "code",
   "execution_count": 7,
   "metadata": {
    "collapsed": true
   },
   "outputs": [],
   "source": [
    "import re"
   ]
  },
  {
   "cell_type": "code",
   "execution_count": 8,
   "metadata": {
    "collapsed": true
   },
   "outputs": [],
   "source": [
    "r1 = u'[a-zA-Z0-9’!\"#$%&\\'()*+,-./:;<=>?@，。?★、…【】〈〉～「」é；《》？“”‘’！[\\\\]^_`{|}~]+'\n",
    "r2 = \"[\\s+\\.\\!\\/_,$%^*(+\\\"\\']+|[+——！，。？、~@#￥%……&*（）]+\"\n",
    "r3 =  \"[.!//_,$&%^*()<>+\\\"'?@#-|:~{}]+|[——！\\\\\\\\，。=？、：“”‘’《》【】￥……（）]+\"\n",
    "r4 =  \"\\\\【.*?】+|\\\\《.*?》+|\\\\#.*?#+|[.!/_,$&%^*()<>+\"\"'?@|:~{}#]+|[——！\\\\\\，。=？、：“”‘’￥……（）《》【】]\""
   ]
  },
  {
   "cell_type": "code",
   "execution_count": 9,
   "metadata": {
    "collapsed": true
   },
   "outputs": [],
   "source": [
    "A1=[]\n",
    "for i in A:\n",
    "    i=re.sub(r1,'',i)\n",
    "    A1.append(i)"
   ]
  },
  {
   "cell_type": "code",
   "execution_count": 10,
   "metadata": {
    "collapsed": true
   },
   "outputs": [],
   "source": [
    "A2=[]\n",
    "for i in A1:\n",
    "    i=re.sub(r2,'',i)\n",
    "    A2.append(i)"
   ]
  },
  {
   "cell_type": "code",
   "execution_count": 11,
   "metadata": {
    "collapsed": true
   },
   "outputs": [],
   "source": [
    "A3=[]\n",
    "for i in A2:\n",
    "    i=re.sub(r3,'',i)\n",
    "    A3.append(i)"
   ]
  },
  {
   "cell_type": "code",
   "execution_count": 12,
   "metadata": {
    "collapsed": true
   },
   "outputs": [],
   "source": [
    "A4=[]\n",
    "for i in A3:\n",
    "    i=re.sub(r4,'',i)\n",
    "    A4.append(i)"
   ]
  },
  {
   "cell_type": "code",
   "execution_count": 13,
   "metadata": {},
   "outputs": [
    {
     "data": {
      "text/plain": [
       "'原創鄧超彭于晏相約看球賽對鏡頭互做鬼臉二人彼此調侃友誼深厚'"
      ]
     },
     "execution_count": 13,
     "metadata": {},
     "output_type": "execute_result"
    }
   ],
   "source": [
    "A4[0]"
   ]
  },
  {
   "cell_type": "markdown",
   "metadata": {},
   "source": [
    "新建一個新的DataFrame，只包含我們需要用到的資料 'label' 與 'title'"
   ]
  },
  {
   "cell_type": "code",
   "execution_count": 14,
   "metadata": {
    "collapsed": true
   },
   "outputs": [],
   "source": [
    "L = list(df['label'])"
   ]
  },
  {
   "cell_type": "code",
   "execution_count": 15,
   "metadata": {
    "collapsed": true
   },
   "outputs": [],
   "source": [
    "dfu = pd.DataFrame({'label' : L,\n",
    "                                'title' : A4}, \n",
    "                                columns=['label','title'])"
   ]
  },
  {
   "cell_type": "markdown",
   "metadata": {},
   "source": [
    "將title的每個字分開"
   ]
  },
  {
   "cell_type": "code",
   "execution_count": 16,
   "metadata": {
    "collapsed": true
   },
   "outputs": [],
   "source": [
    "dfu['words'] = dfu['title'].apply(lambda x: re.findall('[\\x80-\\xff]{3}|[\\w\\W]', x))"
   ]
  },
  {
   "cell_type": "code",
   "execution_count": 17,
   "metadata": {},
   "outputs": [
    {
     "data": {
      "text/html": [
       "<div>\n",
       "<style>\n",
       "    .dataframe thead tr:only-child th {\n",
       "        text-align: right;\n",
       "    }\n",
       "\n",
       "    .dataframe thead th {\n",
       "        text-align: left;\n",
       "    }\n",
       "\n",
       "    .dataframe tbody tr th {\n",
       "        vertical-align: top;\n",
       "    }\n",
       "</style>\n",
       "<table border=\"1\" class=\"dataframe\">\n",
       "  <thead>\n",
       "    <tr style=\"text-align: right;\">\n",
       "      <th></th>\n",
       "      <th>label</th>\n",
       "      <th>title</th>\n",
       "      <th>words</th>\n",
       "    </tr>\n",
       "  </thead>\n",
       "  <tbody>\n",
       "    <tr>\n",
       "      <th>0</th>\n",
       "      <td>1</td>\n",
       "      <td>原創鄧超彭于晏相約看球賽對鏡頭互做鬼臉二人彼此調侃友誼深厚</td>\n",
       "      <td>[原, 創, 鄧, 超, 彭, 于, 晏, 相, 約, 看, 球, 賽, 對, 鏡, 頭, ...</td>\n",
       "    </tr>\n",
       "    <tr>\n",
       "      <th>1</th>\n",
       "      <td>1</td>\n",
       "      <td>孫東雲將註銷帳號月日入伍服兵役</td>\n",
       "      <td>[孫, 東, 雲, 將, 註, 銷, 帳, 號, 月, 日, 入, 伍, 服, 兵, 役]</td>\n",
       "    </tr>\n",
       "    <tr>\n",
       "      <th>2</th>\n",
       "      <td>1</td>\n",
       "      <td>王小帥朋友圈是什麼情況王小帥朋友圈發了什麼內容</td>\n",
       "      <td>[王, 小, 帥, 朋, 友, 圈, 是, 什, 麼, 情, 況, 王, 小, 帥, 朋, ...</td>\n",
       "    </tr>\n",
       "    <tr>\n",
       "      <th>3</th>\n",
       "      <td>1</td>\n",
       "      <td>楊明逸大雪焚心殺青最慘富二代為愛入局</td>\n",
       "      <td>[楊, 明, 逸, 大, 雪, 焚, 心, 殺, 青, 最, 慘, 富, 二, 代, 為, ...</td>\n",
       "    </tr>\n",
       "    <tr>\n",
       "      <th>4</th>\n",
       "      <td>1</td>\n",
       "      <td>樂基兒挺八月孕肚腳踩恨天高與閨蜜大跳熱舞組圖</td>\n",
       "      <td>[樂, 基, 兒, 挺, 八, 月, 孕, 肚, 腳, 踩, 恨, 天, 高, 與, 閨, ...</td>\n",
       "    </tr>\n",
       "  </tbody>\n",
       "</table>\n",
       "</div>"
      ],
      "text/plain": [
       "   label                          title  \\\n",
       "0      1  原創鄧超彭于晏相約看球賽對鏡頭互做鬼臉二人彼此調侃友誼深厚   \n",
       "1      1                孫東雲將註銷帳號月日入伍服兵役   \n",
       "2      1        王小帥朋友圈是什麼情況王小帥朋友圈發了什麼內容   \n",
       "3      1             楊明逸大雪焚心殺青最慘富二代為愛入局   \n",
       "4      1         樂基兒挺八月孕肚腳踩恨天高與閨蜜大跳熱舞組圖   \n",
       "\n",
       "                                               words  \n",
       "0  [原, 創, 鄧, 超, 彭, 于, 晏, 相, 約, 看, 球, 賽, 對, 鏡, 頭, ...  \n",
       "1      [孫, 東, 雲, 將, 註, 銷, 帳, 號, 月, 日, 入, 伍, 服, 兵, 役]  \n",
       "2  [王, 小, 帥, 朋, 友, 圈, 是, 什, 麼, 情, 況, 王, 小, 帥, 朋, ...  \n",
       "3  [楊, 明, 逸, 大, 雪, 焚, 心, 殺, 青, 最, 慘, 富, 二, 代, 為, ...  \n",
       "4  [樂, 基, 兒, 挺, 八, 月, 孕, 肚, 腳, 踩, 恨, 天, 高, 與, 閨, ...  "
      ]
     },
     "execution_count": 17,
     "metadata": {},
     "output_type": "execute_result"
    }
   ],
   "source": [
    "dfu.head()"
   ]
  },
  {
   "cell_type": "markdown",
   "metadata": {},
   "source": [
    "建立字典，裡面包含了words中出現的所有字，'0'是該字出現的次數欄，'id'是為該字建立的id欄"
   ]
  },
  {
   "cell_type": "code",
   "execution_count": 18,
   "metadata": {
    "collapsed": true
   },
   "outputs": [],
   "source": [
    "all_words = []\n",
    "for w in dfu['words']:\n",
    "    all_words.extend(w)\n",
    "word_dict = pd.DataFrame(pd.Series(all_words).value_counts())\n",
    "word_dict['id'] = list(range(1, len(word_dict)+1))"
   ]
  },
  {
   "cell_type": "code",
   "execution_count": 19,
   "metadata": {},
   "outputs": [
    {
     "data": {
      "text/html": [
       "<div>\n",
       "<style>\n",
       "    .dataframe thead tr:only-child th {\n",
       "        text-align: right;\n",
       "    }\n",
       "\n",
       "    .dataframe thead th {\n",
       "        text-align: left;\n",
       "    }\n",
       "\n",
       "    .dataframe tbody tr th {\n",
       "        vertical-align: top;\n",
       "    }\n",
       "</style>\n",
       "<table border=\"1\" class=\"dataframe\">\n",
       "  <thead>\n",
       "    <tr style=\"text-align: right;\">\n",
       "      <th></th>\n",
       "      <th>0</th>\n",
       "      <th>id</th>\n",
       "    </tr>\n",
       "  </thead>\n",
       "  <tbody>\n",
       "    <tr>\n",
       "      <th>國</th>\n",
       "      <td>72763</td>\n",
       "      <td>1</td>\n",
       "    </tr>\n",
       "    <tr>\n",
       "      <th>人</th>\n",
       "      <td>69210</td>\n",
       "      <td>2</td>\n",
       "    </tr>\n",
       "    <tr>\n",
       "      <th>大</th>\n",
       "      <td>65927</td>\n",
       "      <td>3</td>\n",
       "    </tr>\n",
       "    <tr>\n",
       "      <th>的</th>\n",
       "      <td>58807</td>\n",
       "      <td>4</td>\n",
       "    </tr>\n",
       "    <tr>\n",
       "      <th>美</th>\n",
       "      <td>57337</td>\n",
       "      <td>5</td>\n",
       "    </tr>\n",
       "    <tr>\n",
       "      <th>中</th>\n",
       "      <td>53116</td>\n",
       "      <td>6</td>\n",
       "    </tr>\n",
       "    <tr>\n",
       "      <th>一</th>\n",
       "      <td>42670</td>\n",
       "      <td>7</td>\n",
       "    </tr>\n",
       "    <tr>\n",
       "      <th>不</th>\n",
       "      <td>42647</td>\n",
       "      <td>8</td>\n",
       "    </tr>\n",
       "    <tr>\n",
       "      <th>年</th>\n",
       "      <td>42202</td>\n",
       "      <td>9</td>\n",
       "    </tr>\n",
       "    <tr>\n",
       "      <th>日</th>\n",
       "      <td>35110</td>\n",
       "      <td>10</td>\n",
       "    </tr>\n",
       "    <tr>\n",
       "      <th>新</th>\n",
       "      <td>31147</td>\n",
       "      <td>11</td>\n",
       "    </tr>\n",
       "    <tr>\n",
       "      <th>女</th>\n",
       "      <td>29646</td>\n",
       "      <td>12</td>\n",
       "    </tr>\n",
       "    <tr>\n",
       "      <th>出</th>\n",
       "      <td>28172</td>\n",
       "      <td>13</td>\n",
       "    </tr>\n",
       "    <tr>\n",
       "      <th>會</th>\n",
       "      <td>27743</td>\n",
       "      <td>14</td>\n",
       "    </tr>\n",
       "    <tr>\n",
       "      <th>被</th>\n",
       "      <td>27061</td>\n",
       "      <td>15</td>\n",
       "    </tr>\n",
       "    <tr>\n",
       "      <th>賽</th>\n",
       "      <td>25542</td>\n",
       "      <td>16</td>\n",
       "    </tr>\n",
       "    <tr>\n",
       "      <th>台</th>\n",
       "      <td>25370</td>\n",
       "      <td>17</td>\n",
       "    </tr>\n",
       "    <tr>\n",
       "      <th>高</th>\n",
       "      <td>25266</td>\n",
       "      <td>18</td>\n",
       "    </tr>\n",
       "    <tr>\n",
       "      <th>上</th>\n",
       "      <td>24586</td>\n",
       "      <td>19</td>\n",
       "    </tr>\n",
       "    <tr>\n",
       "      <th>生</th>\n",
       "      <td>24275</td>\n",
       "      <td>20</td>\n",
       "    </tr>\n",
       "    <tr>\n",
       "      <th>球</th>\n",
       "      <td>23883</td>\n",
       "      <td>21</td>\n",
       "    </tr>\n",
       "    <tr>\n",
       "      <th>子</th>\n",
       "      <td>23763</td>\n",
       "      <td>22</td>\n",
       "    </tr>\n",
       "    <tr>\n",
       "      <th>家</th>\n",
       "      <td>23088</td>\n",
       "      <td>23</td>\n",
       "    </tr>\n",
       "    <tr>\n",
       "      <th>成</th>\n",
       "      <td>23056</td>\n",
       "      <td>24</td>\n",
       "    </tr>\n",
       "    <tr>\n",
       "      <th>有</th>\n",
       "      <td>22913</td>\n",
       "      <td>25</td>\n",
       "    </tr>\n",
       "    <tr>\n",
       "      <th>是</th>\n",
       "      <td>22589</td>\n",
       "      <td>26</td>\n",
       "    </tr>\n",
       "    <tr>\n",
       "      <th>小</th>\n",
       "      <td>22292</td>\n",
       "      <td>27</td>\n",
       "    </tr>\n",
       "    <tr>\n",
       "      <th>最</th>\n",
       "      <td>22253</td>\n",
       "      <td>28</td>\n",
       "    </tr>\n",
       "    <tr>\n",
       "      <th>法</th>\n",
       "      <td>22180</td>\n",
       "      <td>29</td>\n",
       "    </tr>\n",
       "    <tr>\n",
       "      <th>網</th>\n",
       "      <td>22122</td>\n",
       "      <td>30</td>\n",
       "    </tr>\n",
       "    <tr>\n",
       "      <th>...</th>\n",
       "      <td>...</td>\n",
       "      <td>...</td>\n",
       "    </tr>\n",
       "    <tr>\n",
       "      <th>銻</th>\n",
       "      <td>1</td>\n",
       "      <td>6484</td>\n",
       "    </tr>\n",
       "    <tr>\n",
       "      <th>ไ</th>\n",
       "      <td>1</td>\n",
       "      <td>6485</td>\n",
       "    </tr>\n",
       "    <tr>\n",
       "      <th>訐</th>\n",
       "      <td>1</td>\n",
       "      <td>6486</td>\n",
       "    </tr>\n",
       "    <tr>\n",
       "      <th>猫</th>\n",
       "      <td>1</td>\n",
       "      <td>6487</td>\n",
       "    </tr>\n",
       "    <tr>\n",
       "      <th>团</th>\n",
       "      <td>1</td>\n",
       "      <td>6488</td>\n",
       "    </tr>\n",
       "    <tr>\n",
       "      <th>〡</th>\n",
       "      <td>1</td>\n",
       "      <td>6489</td>\n",
       "    </tr>\n",
       "    <tr>\n",
       "      <th>销</th>\n",
       "      <td>1</td>\n",
       "      <td>6490</td>\n",
       "    </tr>\n",
       "    <tr>\n",
       "      <th>珙</th>\n",
       "      <td>1</td>\n",
       "      <td>6491</td>\n",
       "    </tr>\n",
       "    <tr>\n",
       "      <th>讥</th>\n",
       "      <td>1</td>\n",
       "      <td>6492</td>\n",
       "    </tr>\n",
       "    <tr>\n",
       "      <th>徴</th>\n",
       "      <td>1</td>\n",
       "      <td>6493</td>\n",
       "    </tr>\n",
       "    <tr>\n",
       "      <th>㎜</th>\n",
       "      <td>1</td>\n",
       "      <td>6494</td>\n",
       "    </tr>\n",
       "    <tr>\n",
       "      <th>楢</th>\n",
       "      <td>1</td>\n",
       "      <td>6495</td>\n",
       "    </tr>\n",
       "    <tr>\n",
       "      <th>閂</th>\n",
       "      <td>1</td>\n",
       "      <td>6496</td>\n",
       "    </tr>\n",
       "    <tr>\n",
       "      <th>搟</th>\n",
       "      <td>1</td>\n",
       "      <td>6497</td>\n",
       "    </tr>\n",
       "    <tr>\n",
       "      <th>閾</th>\n",
       "      <td>1</td>\n",
       "      <td>6498</td>\n",
       "    </tr>\n",
       "    <tr>\n",
       "      <th>櫸</th>\n",
       "      <td>1</td>\n",
       "      <td>6499</td>\n",
       "    </tr>\n",
       "    <tr>\n",
       "      <th>冇</th>\n",
       "      <td>1</td>\n",
       "      <td>6500</td>\n",
       "    </tr>\n",
       "    <tr>\n",
       "      <th>醖</th>\n",
       "      <td>1</td>\n",
       "      <td>6501</td>\n",
       "    </tr>\n",
       "    <tr>\n",
       "      <th>旧</th>\n",
       "      <td>1</td>\n",
       "      <td>6502</td>\n",
       "    </tr>\n",
       "    <tr>\n",
       "      <th>僞</th>\n",
       "      <td>1</td>\n",
       "      <td>6503</td>\n",
       "    </tr>\n",
       "    <tr>\n",
       "      <th>连</th>\n",
       "      <td>1</td>\n",
       "      <td>6504</td>\n",
       "    </tr>\n",
       "    <tr>\n",
       "      <th>ღ</th>\n",
       "      <td>1</td>\n",
       "      <td>6505</td>\n",
       "    </tr>\n",
       "    <tr>\n",
       "      <th>敉</th>\n",
       "      <td>1</td>\n",
       "      <td>6506</td>\n",
       "    </tr>\n",
       "    <tr>\n",
       "      <th>羮</th>\n",
       "      <td>1</td>\n",
       "      <td>6507</td>\n",
       "    </tr>\n",
       "    <tr>\n",
       "      <th>眥</th>\n",
       "      <td>1</td>\n",
       "      <td>6508</td>\n",
       "    </tr>\n",
       "    <tr>\n",
       "      <th>鯕</th>\n",
       "      <td>1</td>\n",
       "      <td>6509</td>\n",
       "    </tr>\n",
       "    <tr>\n",
       "      <th>※</th>\n",
       "      <td>1</td>\n",
       "      <td>6510</td>\n",
       "    </tr>\n",
       "    <tr>\n",
       "      <th>憷</th>\n",
       "      <td>1</td>\n",
       "      <td>6511</td>\n",
       "    </tr>\n",
       "    <tr>\n",
       "      <th>凃</th>\n",
       "      <td>1</td>\n",
       "      <td>6512</td>\n",
       "    </tr>\n",
       "    <tr>\n",
       "      <th>ㄝ</th>\n",
       "      <td>1</td>\n",
       "      <td>6513</td>\n",
       "    </tr>\n",
       "  </tbody>\n",
       "</table>\n",
       "<p>6513 rows × 2 columns</p>\n",
       "</div>"
      ],
      "text/plain": [
       "        0    id\n",
       "國   72763     1\n",
       "人   69210     2\n",
       "大   65927     3\n",
       "的   58807     4\n",
       "美   57337     5\n",
       "中   53116     6\n",
       "一   42670     7\n",
       "不   42647     8\n",
       "年   42202     9\n",
       "日   35110    10\n",
       "新   31147    11\n",
       "女   29646    12\n",
       "出   28172    13\n",
       "會   27743    14\n",
       "被   27061    15\n",
       "賽   25542    16\n",
       "台   25370    17\n",
       "高   25266    18\n",
       "上   24586    19\n",
       "生   24275    20\n",
       "球   23883    21\n",
       "子   23763    22\n",
       "家   23088    23\n",
       "成   23056    24\n",
       "有   22913    25\n",
       "是   22589    26\n",
       "小   22292    27\n",
       "最   22253    28\n",
       "法   22180    29\n",
       "網   22122    30\n",
       "..    ...   ...\n",
       "銻       1  6484\n",
       "ไ       1  6485\n",
       "訐       1  6486\n",
       "猫       1  6487\n",
       "团       1  6488\n",
       "〡       1  6489\n",
       "销       1  6490\n",
       "珙       1  6491\n",
       "讥       1  6492\n",
       "徴       1  6493\n",
       "㎜       1  6494\n",
       "楢       1  6495\n",
       "閂       1  6496\n",
       "搟       1  6497\n",
       "閾       1  6498\n",
       "櫸       1  6499\n",
       "冇       1  6500\n",
       "醖       1  6501\n",
       "旧       1  6502\n",
       "僞       1  6503\n",
       "连       1  6504\n",
       "ღ       1  6505\n",
       "敉       1  6506\n",
       "羮       1  6507\n",
       "眥       1  6508\n",
       "鯕       1  6509\n",
       "※       1  6510\n",
       "憷       1  6511\n",
       "凃       1  6512\n",
       "ㄝ       1  6513\n",
       "\n",
       "[6513 rows x 2 columns]"
      ]
     },
     "execution_count": 19,
     "metadata": {},
     "output_type": "execute_result"
    }
   ],
   "source": [
    "word_dict"
   ]
  },
  {
   "cell_type": "markdown",
   "metadata": {},
   "source": [
    "將words中的每個字映射到字典中對應的id"
   ]
  },
  {
   "cell_type": "code",
   "execution_count": 20,
   "metadata": {
    "collapsed": true
   },
   "outputs": [],
   "source": [
    "dfu['wordidlist'] = dfu['words'].apply(lambda x: list(word_dict['id'][x]))"
   ]
  },
  {
   "cell_type": "code",
   "execution_count": 21,
   "metadata": {},
   "outputs": [
    {
     "data": {
      "text/html": [
       "<div>\n",
       "<style>\n",
       "    .dataframe thead tr:only-child th {\n",
       "        text-align: right;\n",
       "    }\n",
       "\n",
       "    .dataframe thead th {\n",
       "        text-align: left;\n",
       "    }\n",
       "\n",
       "    .dataframe tbody tr th {\n",
       "        vertical-align: top;\n",
       "    }\n",
       "</style>\n",
       "<table border=\"1\" class=\"dataframe\">\n",
       "  <thead>\n",
       "    <tr style=\"text-align: right;\">\n",
       "      <th></th>\n",
       "      <th>label</th>\n",
       "      <th>title</th>\n",
       "      <th>words</th>\n",
       "      <th>wordidlist</th>\n",
       "    </tr>\n",
       "  </thead>\n",
       "  <tbody>\n",
       "    <tr>\n",
       "      <th>0</th>\n",
       "      <td>1</td>\n",
       "      <td>原創鄧超彭于晏相約看球賽對鏡頭互做鬼臉二人彼此調侃友誼深厚</td>\n",
       "      <td>[原, 創, 鄧, 超, 彭, 于, 晏, 相, 約, 看, 球, 賽, 對, 鏡, 頭, ...</td>\n",
       "      <td>[239, 178, 1142, 191, 1524, 2490, 2843, 253, 3...</td>\n",
       "    </tr>\n",
       "    <tr>\n",
       "      <th>1</th>\n",
       "      <td>1</td>\n",
       "      <td>孫東雲將註銷帳號月日入伍服兵役</td>\n",
       "      <td>[孫, 東, 雲, 將, 註, 銷, 帳, 號, 月, 日, 入, 伍, 服, 兵, 役]</td>\n",
       "      <td>[994, 170, 655, 47, 2453, 642, 1476, 646, 84, ...</td>\n",
       "    </tr>\n",
       "    <tr>\n",
       "      <th>2</th>\n",
       "      <td>1</td>\n",
       "      <td>王小帥朋友圈是什麼情況王小帥朋友圈發了什麼內容</td>\n",
       "      <td>[王, 小, 帥, 朋, 友, 圈, 是, 什, 麼, 情, 況, 王, 小, 帥, 朋, ...</td>\n",
       "      <td>[48, 27, 976, 1407, 113, 762, 26, 557, 294, 13...</td>\n",
       "    </tr>\n",
       "    <tr>\n",
       "      <th>3</th>\n",
       "      <td>1</td>\n",
       "      <td>楊明逸大雪焚心殺青最慘富二代為愛入局</td>\n",
       "      <td>[楊, 明, 逸, 大, 雪, 焚, 心, 殺, 青, 最, 慘, 富, 二, 代, 為, ...</td>\n",
       "      <td>[460, 92, 2537, 3, 704, 2391, 71, 299, 487, 28...</td>\n",
       "    </tr>\n",
       "    <tr>\n",
       "      <th>4</th>\n",
       "      <td>1</td>\n",
       "      <td>樂基兒挺八月孕肚腳踩恨天高與閨蜜大跳熱舞組圖</td>\n",
       "      <td>[樂, 基, 兒, 挺, 八, 月, 孕, 肚, 腳, 踩, 恨, 天, 高, 與, 閨, ...</td>\n",
       "      <td>[241, 270, 175, 828, 479, 84, 979, 1765, 1093,...</td>\n",
       "    </tr>\n",
       "  </tbody>\n",
       "</table>\n",
       "</div>"
      ],
      "text/plain": [
       "   label                          title  \\\n",
       "0      1  原創鄧超彭于晏相約看球賽對鏡頭互做鬼臉二人彼此調侃友誼深厚   \n",
       "1      1                孫東雲將註銷帳號月日入伍服兵役   \n",
       "2      1        王小帥朋友圈是什麼情況王小帥朋友圈發了什麼內容   \n",
       "3      1             楊明逸大雪焚心殺青最慘富二代為愛入局   \n",
       "4      1         樂基兒挺八月孕肚腳踩恨天高與閨蜜大跳熱舞組圖   \n",
       "\n",
       "                                               words  \\\n",
       "0  [原, 創, 鄧, 超, 彭, 于, 晏, 相, 約, 看, 球, 賽, 對, 鏡, 頭, ...   \n",
       "1      [孫, 東, 雲, 將, 註, 銷, 帳, 號, 月, 日, 入, 伍, 服, 兵, 役]   \n",
       "2  [王, 小, 帥, 朋, 友, 圈, 是, 什, 麼, 情, 況, 王, 小, 帥, 朋, ...   \n",
       "3  [楊, 明, 逸, 大, 雪, 焚, 心, 殺, 青, 最, 慘, 富, 二, 代, 為, ...   \n",
       "4  [樂, 基, 兒, 挺, 八, 月, 孕, 肚, 腳, 踩, 恨, 天, 高, 與, 閨, ...   \n",
       "\n",
       "                                          wordidlist  \n",
       "0  [239, 178, 1142, 191, 1524, 2490, 2843, 253, 3...  \n",
       "1  [994, 170, 655, 47, 2453, 642, 1476, 646, 84, ...  \n",
       "2  [48, 27, 976, 1407, 113, 762, 26, 557, 294, 13...  \n",
       "3  [460, 92, 2537, 3, 704, 2391, 71, 299, 487, 28...  \n",
       "4  [241, 270, 175, 828, 479, 84, 979, 1765, 1093,...  "
      ]
     },
     "execution_count": 21,
     "metadata": {},
     "output_type": "execute_result"
    }
   ],
   "source": [
    "dfu.head()"
   ]
  },
  {
   "cell_type": "markdown",
   "metadata": {},
   "source": [
    "找尋長度最長的字串"
   ]
  },
  {
   "cell_type": "code",
   "execution_count": 22,
   "metadata": {},
   "outputs": [
    {
     "name": "stdout",
     "output_type": "stream",
     "text": [
      "56\n"
     ]
    }
   ],
   "source": [
    "maxn = 0\n",
    "\n",
    "for i in dfu['wordidlist']:\n",
    "    if len(i) > maxn:\n",
    "        maxn = len(i)\n",
    "\n",
    "print(maxn)"
   ]
  },
  {
   "cell_type": "markdown",
   "metadata": {},
   "source": [
    "## 2. 建立LSTM模型"
   ]
  },
  {
   "cell_type": "code",
   "execution_count": 23,
   "metadata": {},
   "outputs": [
    {
     "name": "stderr",
     "output_type": "stream",
     "text": [
      "Using TensorFlow backend.\n"
     ]
    }
   ],
   "source": [
    "from keras.preprocessing import sequence"
   ]
  },
  {
   "cell_type": "markdown",
   "metadata": {},
   "source": [
    "將每個wordidlist padding成長度為25"
   ]
  },
  {
   "cell_type": "code",
   "execution_count": 24,
   "metadata": {
    "collapsed": true
   },
   "outputs": [],
   "source": [
    "maxlen = 25\n",
    "dfu['wordidlist'] = list(sequence.pad_sequences(dfu['wordidlist'], maxlen=maxlen))"
   ]
  },
  {
   "cell_type": "code",
   "execution_count": 25,
   "metadata": {
    "collapsed": true
   },
   "outputs": [],
   "source": [
    "from keras.utils import np_utils\n",
    "from keras.models import Sequential\n",
    "from keras.layers import Dense, Activation\n",
    "import keras.optimizers"
   ]
  },
  {
   "cell_type": "code",
   "execution_count": 26,
   "metadata": {
    "collapsed": true
   },
   "outputs": [],
   "source": [
    "from sklearn.model_selection import train_test_split"
   ]
  },
  {
   "cell_type": "markdown",
   "metadata": {},
   "source": [
    "將Input 與 Output 轉為 numpy array"
   ]
  },
  {
   "cell_type": "code",
   "execution_count": 27,
   "metadata": {
    "collapsed": true
   },
   "outputs": [],
   "source": [
    "X = np.array(list(dfu['wordidlist']))\n",
    "Y = np.array(list(dfu['label']))"
   ]
  },
  {
   "cell_type": "code",
   "execution_count": 28,
   "metadata": {},
   "outputs": [
    {
     "data": {
      "text/plain": [
       "1"
      ]
     },
     "execution_count": 28,
     "metadata": {},
     "output_type": "execute_result"
    }
   ],
   "source": [
    "Y[1]"
   ]
  },
  {
   "cell_type": "markdown",
   "metadata": {},
   "source": [
    "分離訓練與測試資料，並將Output 轉為 One-hot encoding的形式"
   ]
  },
  {
   "cell_type": "code",
   "execution_count": 36,
   "metadata": {
    "collapsed": true
   },
   "outputs": [],
   "source": [
    "x_train, x_test, y_train, y_test = train_test_split(X,Y, test_size=0.3, random_state = 508)"
   ]
  },
  {
   "cell_type": "code",
   "execution_count": 37,
   "metadata": {
    "collapsed": true
   },
   "outputs": [],
   "source": [
    "y_train = np_utils.to_categorical(y_train)\n",
    "y_test = np_utils.to_categorical(y_test)"
   ]
  },
  {
   "cell_type": "code",
   "execution_count": 38,
   "metadata": {},
   "outputs": [
    {
     "data": {
      "text/plain": [
       "(341292, 8)"
      ]
     },
     "execution_count": 38,
     "metadata": {},
     "output_type": "execute_result"
    }
   ],
   "source": [
    "y_train.shape"
   ]
  },
  {
   "cell_type": "code",
   "execution_count": 39,
   "metadata": {
    "collapsed": true
   },
   "outputs": [],
   "source": [
    "from keras.layers import Embedding, LSTM, Dropout"
   ]
  },
  {
   "cell_type": "markdown",
   "metadata": {},
   "source": [
    "下面是訓練的神經網路模型，用dropout是為了避免over-fitting"
   ]
  },
  {
   "cell_type": "code",
   "execution_count": 40,
   "metadata": {},
   "outputs": [
    {
     "name": "stdout",
     "output_type": "stream",
     "text": [
      "_________________________________________________________________\n",
      "Layer (type)                 Output Shape              Param #   \n",
      "=================================================================\n",
      "embedding_2 (Embedding)      (None, None, 256)         1667584   \n",
      "_________________________________________________________________\n",
      "lstm_2 (LSTM)                (None, 128)               197120    \n",
      "_________________________________________________________________\n",
      "dropout_2 (Dropout)          (None, 128)               0         \n",
      "_________________________________________________________________\n",
      "dense_2 (Dense)              (None, 8)                 1032      \n",
      "_________________________________________________________________\n",
      "activation_2 (Activation)    (None, 8)                 0         \n",
      "=================================================================\n",
      "Total params: 1,865,736\n",
      "Trainable params: 1,865,736\n",
      "Non-trainable params: 0\n",
      "_________________________________________________________________\n"
     ]
    }
   ],
   "source": [
    "model = Sequential()\n",
    "model.add(Embedding(len(word_dict)+1, 256))\n",
    "model.add(LSTM(128))\n",
    "model.add(Dropout(0.3))\n",
    "model.add(Dense(y_train.shape[1]))\n",
    "model.add(Activation('softmax'))\n",
    "model.compile(loss='categorical_crossentropy', optimizer='adam', metrics=['accuracy'])\n",
    "model.summary()"
   ]
  },
  {
   "cell_type": "markdown",
   "metadata": {},
   "source": [
    "訓練5個epoch，正確率約為82%"
   ]
  },
  {
   "cell_type": "code",
   "execution_count": 41,
   "metadata": {},
   "outputs": [
    {
     "name": "stdout",
     "output_type": "stream",
     "text": [
      "Epoch 1/5\n",
      "341292/341292 [==============================] - 57s 168us/step - loss: 0.7859 - acc: 0.7178\n",
      "Epoch 2/5\n",
      "341292/341292 [==============================] - 57s 166us/step - loss: 0.5643 - acc: 0.7966\n",
      "Epoch 3/5\n",
      "341292/341292 [==============================] - 56s 165us/step - loss: 0.5320 - acc: 0.8060\n",
      "Epoch 4/5\n",
      "341292/341292 [==============================] - 56s 165us/step - loss: 0.5095 - acc: 0.8137\n",
      "Epoch 5/5\n",
      "341292/341292 [==============================] - 56s 165us/step - loss: 0.4900 - acc: 0.8196\n"
     ]
    },
    {
     "data": {
      "text/plain": [
       "<keras.callbacks.History at 0x253223bbc88>"
      ]
     },
     "execution_count": 41,
     "metadata": {},
     "output_type": "execute_result"
    }
   ],
   "source": [
    "model.fit(x_train, y_train, batch_size=1000, epochs=5)"
   ]
  },
  {
   "cell_type": "code",
   "execution_count": 42,
   "metadata": {},
   "outputs": [
    {
     "name": "stdout",
     "output_type": "stream",
     "text": [
      "146269/146269 [==============================] - 48s 328us/step\n"
     ]
    }
   ],
   "source": [
    "score = model.evaluate(x_test, y_test)"
   ]
  },
  {
   "cell_type": "markdown",
   "metadata": {},
   "source": [
    "測試資料的正確率也落在80%左右"
   ]
  },
  {
   "cell_type": "code",
   "execution_count": 43,
   "metadata": {},
   "outputs": [
    {
     "name": "stdout",
     "output_type": "stream",
     "text": [
      "loss: 0.533040630892\n",
      "正確率 0.805194538834\n"
     ]
    }
   ],
   "source": [
    "print('loss:', score[0])\n",
    "print('正確率', score[1])"
   ]
  },
  {
   "cell_type": "markdown",
   "metadata": {},
   "source": [
    "## 3. 將結果進行動態呈現"
   ]
  },
  {
   "cell_type": "code",
   "execution_count": 44,
   "metadata": {
    "collapsed": true
   },
   "outputs": [],
   "source": [
    "from ipywidgets import interact_manual"
   ]
  },
  {
   "cell_type": "code",
   "execution_count": 45,
   "metadata": {
    "collapsed": true
   },
   "outputs": [],
   "source": [
    "predict = model.predict_classes(x_test)"
   ]
  },
  {
   "cell_type": "code",
   "execution_count": 75,
   "metadata": {
    "collapsed": true
   },
   "outputs": [],
   "source": [
    "def test(num):\n",
    "    print(int(np.dot(y_test[num], [0, 1, 2, 3, 4, 5, 6, 7])))\n",
    "    print('神經網路判斷為:', predict[num])"
   ]
  },
  {
   "cell_type": "code",
   "execution_count": 76,
   "metadata": {},
   "outputs": [
    {
     "data": {
      "application/vnd.jupyter.widget-view+json": {
       "model_id": "6b5f6495cf924f2d9345663f0bb8fe9c",
       "version_major": 2,
       "version_minor": 0
      },
      "text/plain": [
       "A Jupyter Widget"
      ]
     },
     "metadata": {},
     "output_type": "display_data"
    },
    {
     "data": {
      "text/plain": [
       "<function __main__.test>"
      ]
     },
     "execution_count": 76,
     "metadata": {},
     "output_type": "execute_result"
    }
   ],
   "source": [
    "interact_manual(test, num=(0, len(y_test)-1))"
   ]
  },
  {
   "cell_type": "markdown",
   "metadata": {},
   "source": [
    "## 4. 儲存model與權重"
   ]
  },
  {
   "cell_type": "code",
   "execution_count": 48,
   "metadata": {
    "collapsed": true
   },
   "outputs": [],
   "source": [
    "model_json = model.to_json()\n",
    "open('my_model.json', 'w').write(model_json)\n",
    "model.save_weights('my_model_weights.h5')"
   ]
  },
  {
   "cell_type": "markdown",
   "metadata": {},
   "source": [
    "## 5. 修改模型再訓練一次"
   ]
  },
  {
   "cell_type": "markdown",
   "metadata": {},
   "source": [
    "和上一個model的差別在於，這裡的LSTM層的神經元數目為原來的2倍"
   ]
  },
  {
   "cell_type": "code",
   "execution_count": 51,
   "metadata": {},
   "outputs": [
    {
     "name": "stdout",
     "output_type": "stream",
     "text": [
      "_________________________________________________________________\n",
      "Layer (type)                 Output Shape              Param #   \n",
      "=================================================================\n",
      "embedding_4 (Embedding)      (None, None, 256)         1667584   \n",
      "_________________________________________________________________\n",
      "lstm_7 (LSTM)                (None, 256)               525312    \n",
      "_________________________________________________________________\n",
      "dropout_7 (Dropout)          (None, 256)               0         \n",
      "_________________________________________________________________\n",
      "dense_4 (Dense)              (None, 8)                 2056      \n",
      "_________________________________________________________________\n",
      "activation_4 (Activation)    (None, 8)                 0         \n",
      "=================================================================\n",
      "Total params: 2,194,952\n",
      "Trainable params: 2,194,952\n",
      "Non-trainable params: 0\n",
      "_________________________________________________________________\n"
     ]
    }
   ],
   "source": [
    "model2 = Sequential()\n",
    "model2.add(Embedding(len(word_dict)+1, 256))\n",
    "model2.add(LSTM(256))\n",
    "model2.add(Dropout(0.3))\n",
    "model2.add(Dense(y_train.shape[1]))\n",
    "model2.add(Activation('softmax'))\n",
    "model2.compile(loss='categorical_crossentropy', optimizer='adam', metrics=['accuracy'])\n",
    "model2.summary()"
   ]
  },
  {
   "cell_type": "markdown",
   "metadata": {},
   "source": [
    "然而結果並沒有太大的差距，正確率仍在82%左右"
   ]
  },
  {
   "cell_type": "code",
   "execution_count": 52,
   "metadata": {},
   "outputs": [
    {
     "name": "stdout",
     "output_type": "stream",
     "text": [
      "Epoch 1/5\n",
      "341292/341292 [==============================] - 102s 300us/step - loss: 0.7848 - acc: 0.7129\n",
      "Epoch 2/5\n",
      "341292/341292 [==============================] - 99s 290us/step - loss: 0.5627 - acc: 0.7967\n",
      "Epoch 3/5\n",
      "341292/341292 [==============================] - 99s 291us/step - loss: 0.5324 - acc: 0.8053\n",
      "Epoch 4/5\n",
      "341292/341292 [==============================] - 99s 291us/step - loss: 0.5083 - acc: 0.8136\n",
      "Epoch 5/5\n",
      "341292/341292 [==============================] - 99s 291us/step - loss: 0.4876 - acc: 0.8205\n"
     ]
    },
    {
     "data": {
      "text/plain": [
       "<keras.callbacks.History at 0x253260dccf8>"
      ]
     },
     "execution_count": 52,
     "metadata": {},
     "output_type": "execute_result"
    }
   ],
   "source": [
    "model2.fit(x_train, y_train, batch_size=1000, epochs=5)"
   ]
  },
  {
   "cell_type": "code",
   "execution_count": 53,
   "metadata": {},
   "outputs": [
    {
     "name": "stdout",
     "output_type": "stream",
     "text": [
      "146269/146269 [==============================] - 56s 382us/step\n"
     ]
    }
   ],
   "source": [
    "score2 = model2.evaluate(x_test, y_test)"
   ]
  },
  {
   "cell_type": "markdown",
   "metadata": {},
   "source": [
    "測試資料的正確率依然在80%左右"
   ]
  },
  {
   "cell_type": "code",
   "execution_count": 54,
   "metadata": {},
   "outputs": [
    {
     "name": "stdout",
     "output_type": "stream",
     "text": [
      "loss: 0.534489005691\n",
      "正確率 0.804538213836\n"
     ]
    }
   ],
   "source": [
    "print('loss:', score2[0])\n",
    "print('正確率', score2[1])"
   ]
  },
  {
   "cell_type": "markdown",
   "metadata": {},
   "source": [
    "## 6. 將結果進行動態呈現"
   ]
  },
  {
   "cell_type": "code",
   "execution_count": 55,
   "metadata": {
    "collapsed": true
   },
   "outputs": [],
   "source": [
    "predict2 = model2.predict_classes(x_test)"
   ]
  },
  {
   "cell_type": "code",
   "execution_count": 77,
   "metadata": {
    "collapsed": true
   },
   "outputs": [],
   "source": [
    "def test2(num):\n",
    "    print(int(np.dot(y_test[num], [0, 1, 2, 3, 4, 5, 6, 7])))\n",
    "    print('神經網路判斷為:', predict2[num])"
   ]
  },
  {
   "cell_type": "code",
   "execution_count": 78,
   "metadata": {},
   "outputs": [
    {
     "data": {
      "application/vnd.jupyter.widget-view+json": {
       "model_id": "48b88f2710dd430f83de3fe3bfd19631",
       "version_major": 2,
       "version_minor": 0
      },
      "text/plain": [
       "A Jupyter Widget"
      ]
     },
     "metadata": {},
     "output_type": "display_data"
    },
    {
     "data": {
      "text/plain": [
       "<function __main__.test2>"
      ]
     },
     "execution_count": 78,
     "metadata": {},
     "output_type": "execute_result"
    }
   ],
   "source": [
    "interact_manual(test2, num=(0, len(y_test)-1))"
   ]
  },
  {
   "cell_type": "markdown",
   "metadata": {},
   "source": [
    "## 7. 儲存model與權重"
   ]
  },
  {
   "cell_type": "code",
   "execution_count": 59,
   "metadata": {
    "collapsed": true
   },
   "outputs": [],
   "source": [
    "model_json2 = model2.to_json()\n",
    "open('my_model2.json', 'w').write(model_json2)\n",
    "model2.save_weights('my_model_weights2.h5')"
   ]
  },
  {
   "cell_type": "markdown",
   "metadata": {},
   "source": [
    "## 8. 修改模型再訓練一次"
   ]
  },
  {
   "cell_type": "markdown",
   "metadata": {},
   "source": [
    "再將LSTM層的神經元數目增加1倍"
   ]
  },
  {
   "cell_type": "code",
   "execution_count": 62,
   "metadata": {},
   "outputs": [
    {
     "name": "stdout",
     "output_type": "stream",
     "text": [
      "_________________________________________________________________\n",
      "Layer (type)                 Output Shape              Param #   \n",
      "=================================================================\n",
      "embedding_6 (Embedding)      (None, None, 256)         1667584   \n",
      "_________________________________________________________________\n",
      "lstm_9 (LSTM)                (None, 512)               1574912   \n",
      "_________________________________________________________________\n",
      "dropout_9 (Dropout)          (None, 512)               0         \n",
      "_________________________________________________________________\n",
      "dense_6 (Dense)              (None, 8)                 4104      \n",
      "_________________________________________________________________\n",
      "activation_6 (Activation)    (None, 8)                 0         \n",
      "=================================================================\n",
      "Total params: 3,246,600\n",
      "Trainable params: 3,246,600\n",
      "Non-trainable params: 0\n",
      "_________________________________________________________________\n"
     ]
    }
   ],
   "source": [
    "model3 = Sequential()\n",
    "model3.add(Embedding(len(word_dict)+1, 256))\n",
    "model3.add(LSTM(512))\n",
    "model3.add(Dropout(0.3))\n",
    "model3.add(Dense(y_train.shape[1]))\n",
    "model3.add(Activation('softmax'))\n",
    "model3.compile(loss='categorical_crossentropy', optimizer='adam', metrics=['accuracy'])\n",
    "model3.summary()"
   ]
  },
  {
   "cell_type": "markdown",
   "metadata": {},
   "source": [
    "準確率仍在82%"
   ]
  },
  {
   "cell_type": "code",
   "execution_count": 63,
   "metadata": {},
   "outputs": [
    {
     "name": "stdout",
     "output_type": "stream",
     "text": [
      "Epoch 1/5\n",
      "341292/341292 [==============================] - 256s 751us/step - loss: 0.7656 - acc: 0.7207\n",
      "Epoch 2/5\n",
      "341292/341292 [==============================] - 254s 744us/step - loss: 0.5620 - acc: 0.7959\n",
      "Epoch 3/5\n",
      "341292/341292 [==============================] - 253s 743us/step - loss: 0.5310 - acc: 0.8062\n",
      "Epoch 4/5\n",
      "341292/341292 [==============================] - 253s 743us/step - loss: 0.5072 - acc: 0.8134\n",
      "Epoch 5/5\n",
      "341292/341292 [==============================] - 255s 746us/step - loss: 0.4846 - acc: 0.8210\n"
     ]
    },
    {
     "data": {
      "text/plain": [
       "<keras.callbacks.History at 0x2532d8bbe48>"
      ]
     },
     "execution_count": 63,
     "metadata": {},
     "output_type": "execute_result"
    }
   ],
   "source": [
    "model3.fit(x_train, y_train, batch_size=1000, epochs=5)"
   ]
  },
  {
   "cell_type": "markdown",
   "metadata": {},
   "source": [
    "測試資料準確率也差不多是80%"
   ]
  },
  {
   "cell_type": "code",
   "execution_count": 64,
   "metadata": {},
   "outputs": [
    {
     "name": "stdout",
     "output_type": "stream",
     "text": [
      "146269/146269 [==============================] - 79s 537us/step\n",
      "loss: 0.529486226842\n",
      "正確率 0.806131169289\n"
     ]
    }
   ],
   "source": [
    "score3 = model3.evaluate(x_test, y_test)\n",
    "print('loss:', score3[0])\n",
    "print('正確率', score3[1])"
   ]
  },
  {
   "cell_type": "markdown",
   "metadata": {},
   "source": [
    "## 9. 將結果進行動態呈現"
   ]
  },
  {
   "cell_type": "code",
   "execution_count": 65,
   "metadata": {
    "collapsed": true
   },
   "outputs": [],
   "source": [
    "predict3 = model3.predict_classes(x_test)"
   ]
  },
  {
   "cell_type": "code",
   "execution_count": 73,
   "metadata": {
    "collapsed": true
   },
   "outputs": [],
   "source": [
    "def test3(num):\n",
    "    print(int(np.dot(y_test[num], [0, 1, 2, 3, 4, 5, 6, 7])))\n",
    "    print('神經網路判斷為:', predict3[num])"
   ]
  },
  {
   "cell_type": "code",
   "execution_count": 74,
   "metadata": {},
   "outputs": [
    {
     "data": {
      "application/vnd.jupyter.widget-view+json": {
       "model_id": "56956a7519f54f139118358f4991980e",
       "version_major": 2,
       "version_minor": 0
      },
      "text/plain": [
       "A Jupyter Widget"
      ]
     },
     "metadata": {},
     "output_type": "display_data"
    },
    {
     "data": {
      "text/plain": [
       "<function __main__.test3>"
      ]
     },
     "execution_count": 74,
     "metadata": {},
     "output_type": "execute_result"
    }
   ],
   "source": [
    "interact_manual(test3, num=(0, len(y_test)-1))"
   ]
  },
  {
   "cell_type": "markdown",
   "metadata": {},
   "source": [
    "## 10. 儲存model與權重"
   ]
  },
  {
   "cell_type": "code",
   "execution_count": 68,
   "metadata": {
    "collapsed": true
   },
   "outputs": [],
   "source": [
    "model_json3 = model3.to_json()\n",
    "open('my_model3.json', 'w').write(model_json3)\n",
    "model3.save_weights('my_model_weights3.h5')"
   ]
  },
  {
   "cell_type": "code",
   "execution_count": null,
   "metadata": {
    "collapsed": true
   },
   "outputs": [],
   "source": []
  }
 ],
 "metadata": {
  "kernelspec": {
   "display_name": "Python 3",
   "language": "python",
   "name": "python3"
  },
  "language_info": {
   "codemirror_mode": {
    "name": "ipython",
    "version": 3
   },
   "file_extension": ".py",
   "mimetype": "text/x-python",
   "name": "python",
   "nbconvert_exporter": "python",
   "pygments_lexer": "ipython3",
   "version": "3.6.3"
  }
 },
 "nbformat": 4,
 "nbformat_minor": 2
}
