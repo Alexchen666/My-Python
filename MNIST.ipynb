{
 "cells": [
  {
   "cell_type": "markdown",
   "metadata": {},
   "source": [
    "# MNIST訓練\n",
    "\n",
    "Layer1: 120 layers\n",
    "\n",
    "Layer2: 100 layers\n",
    "\n",
    "Layer3: 80 layers\n",
    "\n",
    "Layer4: 90 layers\n",
    "\n",
    "Activation Function: Relu\n",
    "\n",
    "Loss Function: MSE\n",
    "\n",
    "Optimizer: Adam\n",
    "\n",
    "訓練時，最高正確率：99.77%\n",
    "\n",
    "測試時正確率：97.95%"
   ]
  },
  {
   "cell_type": "code",
   "execution_count": 1,
   "metadata": {
    "collapsed": true
   },
   "outputs": [],
   "source": [
    "%matplotlib inline\n",
    "import numpy as np\n",
    "import matplotlib.pyplot as plt"
   ]
  },
  {
   "cell_type": "code",
   "execution_count": 2,
   "metadata": {},
   "outputs": [
    {
     "name": "stderr",
     "output_type": "stream",
     "text": [
      "Using TensorFlow backend.\n"
     ]
    }
   ],
   "source": [
    "from keras.datasets import mnist"
   ]
  },
  {
   "cell_type": "code",
   "execution_count": 3,
   "metadata": {
    "collapsed": true
   },
   "outputs": [],
   "source": [
    "(x_train, y_train), (x_test, y_test)=mnist.load_data()"
   ]
  },
  {
   "cell_type": "code",
   "execution_count": 4,
   "metadata": {
    "collapsed": true
   },
   "outputs": [],
   "source": [
    "x_train = x_train.reshape(60000,784)\n",
    "x_test = x_test.reshape(10000,784)"
   ]
  },
  {
   "cell_type": "code",
   "execution_count": 5,
   "metadata": {
    "collapsed": true
   },
   "outputs": [],
   "source": [
    "from keras.utils import np_utils"
   ]
  },
  {
   "cell_type": "code",
   "execution_count": 6,
   "metadata": {
    "collapsed": true
   },
   "outputs": [],
   "source": [
    "y_train = np_utils.to_categorical(y_train, 10)\n",
    "y_test = np_utils.to_categorical(y_test, 10)"
   ]
  },
  {
   "cell_type": "code",
   "execution_count": 14,
   "metadata": {
    "collapsed": true
   },
   "outputs": [],
   "source": [
    "from keras.models import Sequential\n",
    "from keras.layers import Dense,Activation\n",
    "import keras.optimizers"
   ]
  },
  {
   "cell_type": "code",
   "execution_count": 40,
   "metadata": {
    "collapsed": true
   },
   "outputs": [],
   "source": [
    "x_train_1 = (x_train - x_train.min()) / (x_train.max() - x_train.min())\n",
    "x_test_1 = (x_test - x_test.min()) / (x_test.max() - x_test.min())"
   ]
  },
  {
   "cell_type": "code",
   "execution_count": 100,
   "metadata": {},
   "outputs": [
    {
     "name": "stdout",
     "output_type": "stream",
     "text": [
      "_________________________________________________________________\n",
      "Layer (type)                 Output Shape              Param #   \n",
      "=================================================================\n",
      "dense_231 (Dense)            (None, 120)               94200     \n",
      "_________________________________________________________________\n",
      "activation_231 (Activation)  (None, 120)               0         \n",
      "_________________________________________________________________\n",
      "dense_232 (Dense)            (None, 100)               12100     \n",
      "_________________________________________________________________\n",
      "activation_232 (Activation)  (None, 100)               0         \n",
      "_________________________________________________________________\n",
      "dense_233 (Dense)            (None, 80)                8080      \n",
      "_________________________________________________________________\n",
      "activation_233 (Activation)  (None, 80)                0         \n",
      "_________________________________________________________________\n",
      "dense_234 (Dense)            (None, 90)                7290      \n",
      "_________________________________________________________________\n",
      "activation_234 (Activation)  (None, 90)                0         \n",
      "_________________________________________________________________\n",
      "dense_235 (Dense)            (None, 10)                910       \n",
      "_________________________________________________________________\n",
      "activation_235 (Activation)  (None, 10)                0         \n",
      "=================================================================\n",
      "Total params: 122,580\n",
      "Trainable params: 122,580\n",
      "Non-trainable params: 0\n",
      "_________________________________________________________________\n"
     ]
    }
   ],
   "source": [
    "model_1 = Sequential()\n",
    "model_1.add(Dense(120, input_dim=784))\n",
    "model_1.add(Activation(\"relu\"))\n",
    "model_1.add(Dense(100))\n",
    "model_1.add(Activation(\"relu\"))\n",
    "model_1.add(Dense(80))\n",
    "model_1.add(Activation(\"relu\"))\n",
    "model_1.add(Dense(90))\n",
    "model_1.add(Activation(\"relu\"))\n",
    "model_1.add(Dense(10))\n",
    "model_1.add(Activation(\"relu\"))\n",
    "model_1.compile(loss = 'mse', \n",
    "              optimizer = 'Adam',\n",
    "              metrics = [\"accuracy\"])\n",
    "model_1.summary()"
   ]
  },
  {
   "cell_type": "code",
   "execution_count": 101,
   "metadata": {},
   "outputs": [
    {
     "name": "stdout",
     "output_type": "stream",
     "text": [
      "Train on 60000 samples, validate on 10000 samples\n",
      "Epoch 1/50\n",
      "60000/60000 [==============================] - 8s 131us/step - loss: 0.0144 - acc: 0.9237 - val_loss: 0.0073 - val_acc: 0.9602\n",
      "Epoch 2/50\n",
      "60000/60000 [==============================] - 5s 81us/step - loss: 0.0058 - acc: 0.9700 - val_loss: 0.0055 - val_acc: 0.9702\n",
      "Epoch 3/50\n",
      "60000/60000 [==============================] - 5s 80us/step - loss: 0.0040 - acc: 0.9787 - val_loss: 0.0047 - val_acc: 0.9723\n",
      "Epoch 4/50\n",
      "60000/60000 [==============================] - 5s 80us/step - loss: 0.0032 - acc: 0.9832 - val_loss: 0.0045 - val_acc: 0.9731\n",
      "Epoch 5/50\n",
      "60000/60000 [==============================] - 5s 87us/step - loss: 0.0026 - acc: 0.9863 - val_loss: 0.0042 - val_acc: 0.9744\n",
      "Epoch 6/50\n",
      "60000/60000 [==============================] - 5s 83us/step - loss: 0.0023 - acc: 0.9877 - val_loss: 0.0041 - val_acc: 0.9751\n",
      "Epoch 7/50\n",
      "60000/60000 [==============================] - 5s 82us/step - loss: 0.0020 - acc: 0.9895 - val_loss: 0.0038 - val_acc: 0.9767\n",
      "Epoch 8/50\n",
      "60000/60000 [==============================] - 5s 82us/step - loss: 0.0017 - acc: 0.9906 - val_loss: 0.0037 - val_acc: 0.9781\n",
      "Epoch 9/50\n",
      "60000/60000 [==============================] - 5s 81us/step - loss: 0.0015 - acc: 0.9921 - val_loss: 0.0038 - val_acc: 0.9761\n",
      "Epoch 10/50\n",
      "60000/60000 [==============================] - 5s 82us/step - loss: 0.0016 - acc: 0.9912 - val_loss: 0.0038 - val_acc: 0.9772\n",
      "Epoch 11/50\n",
      "60000/60000 [==============================] - 5s 85us/step - loss: 0.0014 - acc: 0.9922 - val_loss: 0.0037 - val_acc: 0.9767\n",
      "Epoch 12/50\n",
      "60000/60000 [==============================] - 5s 82us/step - loss: 0.0013 - acc: 0.9929 - val_loss: 0.0039 - val_acc: 0.9765\n",
      "Epoch 13/50\n",
      "60000/60000 [==============================] - 5s 83us/step - loss: 0.0012 - acc: 0.9935 - val_loss: 0.0037 - val_acc: 0.9781\n",
      "Epoch 14/50\n",
      "60000/60000 [==============================] - 5s 83us/step - loss: 0.0011 - acc: 0.9944 - val_loss: 0.0038 - val_acc: 0.9773\n",
      "Epoch 15/50\n",
      "60000/60000 [==============================] - 5s 82us/step - loss: 0.0012 - acc: 0.9933 - val_loss: 0.0037 - val_acc: 0.9786\n",
      "Epoch 16/50\n",
      "60000/60000 [==============================] - 5s 82us/step - loss: 0.0011 - acc: 0.9941 - val_loss: 0.0039 - val_acc: 0.9761\n",
      "Epoch 17/50\n",
      "60000/60000 [==============================] - 5s 82us/step - loss: 8.9066e-04 - acc: 0.9951 - val_loss: 0.0038 - val_acc: 0.9772\n",
      "Epoch 18/50\n",
      "60000/60000 [==============================] - 5s 82us/step - loss: 0.0010 - acc: 0.9942 - val_loss: 0.0040 - val_acc: 0.9760\n",
      "Epoch 19/50\n",
      "60000/60000 [==============================] - 5s 82us/step - loss: 9.1811e-04 - acc: 0.9951 - val_loss: 0.0034 - val_acc: 0.9795\n",
      "Epoch 20/50\n",
      "60000/60000 [==============================] - 5s 83us/step - loss: 8.7669e-04 - acc: 0.9951 - val_loss: 0.0039 - val_acc: 0.9771\n",
      "Epoch 21/50\n",
      "60000/60000 [==============================] - 5s 82us/step - loss: 8.0371e-04 - acc: 0.9955 - val_loss: 0.0035 - val_acc: 0.9796\n",
      "Epoch 22/50\n",
      "60000/60000 [==============================] - 5s 83us/step - loss: 8.5917e-04 - acc: 0.9950 - val_loss: 0.0037 - val_acc: 0.9775\n",
      "Epoch 23/50\n",
      "60000/60000 [==============================] - 5s 82us/step - loss: 7.2217e-04 - acc: 0.9961 - val_loss: 0.0036 - val_acc: 0.9785\n",
      "Epoch 24/50\n",
      "60000/60000 [==============================] - 5s 84us/step - loss: 7.2857e-04 - acc: 0.9959 - val_loss: 0.0042 - val_acc: 0.9758\n",
      "Epoch 25/50\n",
      "60000/60000 [==============================] - 5s 88us/step - loss: 7.5008e-04 - acc: 0.9957 - val_loss: 0.0035 - val_acc: 0.9800\n",
      "Epoch 26/50\n",
      "60000/60000 [==============================] - 5s 88us/step - loss: 7.4266e-04 - acc: 0.9959 - val_loss: 0.0033 - val_acc: 0.9802\n",
      "Epoch 27/50\n",
      "60000/60000 [==============================] - 5s 87us/step - loss: 5.4141e-04 - acc: 0.9971 - val_loss: 0.0036 - val_acc: 0.9781\n",
      "Epoch 28/50\n",
      "60000/60000 [==============================] - 5s 84us/step - loss: 6.9569e-04 - acc: 0.9962 - val_loss: 0.0038 - val_acc: 0.9768\n",
      "Epoch 29/50\n",
      "60000/60000 [==============================] - 5s 82us/step - loss: 7.9139e-04 - acc: 0.9955 - val_loss: 0.0034 - val_acc: 0.9798\n",
      "Epoch 30/50\n",
      "60000/60000 [==============================] - 5s 82us/step - loss: 5.2575e-04 - acc: 0.9972 - val_loss: 0.0037 - val_acc: 0.9777\n",
      "Epoch 31/50\n",
      "60000/60000 [==============================] - 5s 82us/step - loss: 6.6314e-04 - acc: 0.9961 - val_loss: 0.0035 - val_acc: 0.9796\n",
      "Epoch 32/50\n",
      "60000/60000 [==============================] - 5s 83us/step - loss: 6.6882e-04 - acc: 0.9964 - val_loss: 0.0033 - val_acc: 0.9805\n",
      "Epoch 33/50\n",
      "60000/60000 [==============================] - 5s 83us/step - loss: 5.5082e-04 - acc: 0.9971 - val_loss: 0.0033 - val_acc: 0.9814\n",
      "Epoch 34/50\n",
      "60000/60000 [==============================] - 5s 83us/step - loss: 5.7670e-04 - acc: 0.9967 - val_loss: 0.0039 - val_acc: 0.9769\n",
      "Epoch 35/50\n",
      "60000/60000 [==============================] - 5s 83us/step - loss: 6.1074e-04 - acc: 0.9967 - val_loss: 0.0039 - val_acc: 0.9768\n",
      "Epoch 36/50\n",
      "60000/60000 [==============================] - 5s 84us/step - loss: 6.2143e-04 - acc: 0.9966 - val_loss: 0.0036 - val_acc: 0.9783\n",
      "Epoch 37/50\n",
      "60000/60000 [==============================] - 5s 82us/step - loss: 5.5527e-04 - acc: 0.9969 - val_loss: 0.0034 - val_acc: 0.9805\n",
      "Epoch 38/50\n",
      "60000/60000 [==============================] - 5s 83us/step - loss: 5.4796e-04 - acc: 0.9970 - val_loss: 0.0039 - val_acc: 0.9768\n",
      "Epoch 39/50\n",
      "60000/60000 [==============================] - 5s 84us/step - loss: 6.6605e-04 - acc: 0.9962 - val_loss: 0.0040 - val_acc: 0.9768\n",
      "Epoch 40/50\n",
      "60000/60000 [==============================] - 5s 83us/step - loss: 5.0785e-04 - acc: 0.9971 - val_loss: 0.0038 - val_acc: 0.9773\n",
      "Epoch 41/50\n",
      "60000/60000 [==============================] - 5s 83us/step - loss: 4.7707e-04 - acc: 0.9975 - val_loss: 0.0038 - val_acc: 0.9783\n",
      "Epoch 42/50\n",
      "60000/60000 [==============================] - 5s 83us/step - loss: 6.1969e-04 - acc: 0.9964 - val_loss: 0.0035 - val_acc: 0.9798\n",
      "Epoch 43/50\n",
      "60000/60000 [==============================] - 5s 81us/step - loss: 4.7999e-04 - acc: 0.9974 - val_loss: 0.0032 - val_acc: 0.9811\n",
      "Epoch 44/50\n",
      "60000/60000 [==============================] - 5s 83us/step - loss: 4.1141e-04 - acc: 0.9977 - val_loss: 0.0040 - val_acc: 0.9769\n",
      "Epoch 45/50\n",
      "60000/60000 [==============================] - 5s 83us/step - loss: 5.5429e-04 - acc: 0.9969 - val_loss: 0.0037 - val_acc: 0.9779\n",
      "Epoch 46/50\n",
      "60000/60000 [==============================] - 5s 84us/step - loss: 5.6094e-04 - acc: 0.9968 - val_loss: 0.0041 - val_acc: 0.9767\n",
      "Epoch 47/50\n",
      "60000/60000 [==============================] - 5s 83us/step - loss: 5.0541e-04 - acc: 0.9972 - val_loss: 0.0035 - val_acc: 0.9798\n",
      "Epoch 48/50\n",
      "60000/60000 [==============================] - 5s 83us/step - loss: 4.7248e-04 - acc: 0.9973 - val_loss: 0.0036 - val_acc: 0.9792\n",
      "Epoch 49/50\n",
      "60000/60000 [==============================] - 5s 85us/step - loss: 4.7339e-04 - acc: 0.9973 - val_loss: 0.0037 - val_acc: 0.9795\n",
      "Epoch 50/50\n",
      "60000/60000 [==============================] - 5s 83us/step - loss: 4.9929e-04 - acc: 0.9972 - val_loss: 0.0034 - val_acc: 0.9795\n"
     ]
    }
   ],
   "source": [
    "model_1_50 = model_1.fit(x_train_1, y_train,\n",
    "                        batch_size = 100,\n",
    "                        epochs = 50,\n",
    "                        verbose = 1,\n",
    "                        validation_data = (x_test_1, y_test))"
   ]
  },
  {
   "cell_type": "code",
   "execution_count": 102,
   "metadata": {},
   "outputs": [
    {
     "name": "stdout",
     "output_type": "stream",
     "text": [
      "10000/10000 [==============================] - 1s 119us/step\n"
     ]
    }
   ],
   "source": [
    "score = model_1.evaluate(x_test_1,y_test)"
   ]
  },
  {
   "cell_type": "code",
   "execution_count": 103,
   "metadata": {},
   "outputs": [
    {
     "name": "stdout",
     "output_type": "stream",
     "text": [
      "測試資料的 loss: 0.00343644755004\n",
      "測試資料正確率: 0.9795\n"
     ]
    }
   ],
   "source": [
    "print('測試資料的 loss:', score[0])\n",
    "print('測試資料正確率:', score[1])"
   ]
  },
  {
   "cell_type": "code",
   "execution_count": 104,
   "metadata": {},
   "outputs": [
    {
     "data": {
      "text/plain": [
       "Text(0.5,0,'epoch')"
      ]
     },
     "execution_count": 104,
     "metadata": {},
     "output_type": "execute_result"
    },
    {
     "data": {
      "image/png": "[encoded data removed]",
      "text/plain": [
       "<Figure size 432x288 with 1 Axes>"
      ]
     },
     "metadata": {},
     "output_type": "display_data"
    }
   ],
   "source": [
    "plt.plot(model_1_50.history[\"acc\"])\n",
    "plt.title(\"model training accuracy\")\n",
    "plt.ylabel(\"accuracy\")\n",
    "plt.xlabel(\"epoch\")"
   ]
  },
  {
   "cell_type": "code",
   "execution_count": 105,
   "metadata": {},
   "outputs": [
    {
     "data": {
      "text/plain": [
       "Text(0.5,0,'epoch')"
      ]
     },
     "execution_count": 105,
     "metadata": {},
     "output_type": "execute_result"
    },
    {
     "data": {
      "image/png": "[encoded data removed]",
      "text/plain": [
       "<Figure size 432x288 with 1 Axes>"
      ]
     },
     "metadata": {},
     "output_type": "display_data"
    }
   ],
   "source": [
    "plt.plot(model_1_50.history[\"val_loss\"])\n",
    "plt.title(\"model training accuracy\")\n",
    "plt.ylabel(\"accuracy\")\n",
    "plt.xlabel(\"epoch\")"
   ]
  },
  {
   "cell_type": "code",
   "execution_count": null,
   "metadata": {
    "collapsed": true
   },
   "outputs": [],
   "source": []
  }
 ],
 "metadata": {
  "kernelspec": {
   "display_name": "Python 3",
   "language": "python",
   "name": "python3"
  },
  "language_info": {
   "codemirror_mode": {
    "name": "ipython",
    "version": 3
   },
   "file_extension": ".py",
   "mimetype": "text/x-python",
   "name": "python",
   "nbconvert_exporter": "python",
   "pygments_lexer": "ipython3",
   "version": "3.6.3"
  }
 },
 "nbformat": 4,
 "nbformat_minor": 2
}
