{
 "cells": [
  {
   "cell_type": "code",
   "execution_count": 1,
   "metadata": {
    "collapsed": true
   },
   "outputs": [],
   "source": [
    "%matplotlib inline\n",
    "import matplotlib.pyplot as plt\n",
    "import numpy as np\n",
    "import pandas as pd"
   ]
  },
  {
   "cell_type": "code",
   "execution_count": 2,
   "metadata": {
    "collapsed": true
   },
   "outputs": [],
   "source": [
    "df1 = pd.read_excel('總資料整理1.xlsx')\n",
    "df2 = pd.read_excel('總資料整理2.xlsx')\n",
    "df3 = pd.read_excel('總資料整理3.xlsx')\n",
    "df4 = pd.read_excel('總資料整理4.xlsx')\n",
    "df5 = pd.read_excel('總資料整理5.xlsx')"
   ]
  },
  {
   "cell_type": "code",
   "execution_count": 3,
   "metadata": {
    "collapsed": true
   },
   "outputs": [],
   "source": [
    "df = pd.concat([df1, df2, df3, df4, df5], axis = 0)"
   ]
  },
  {
   "cell_type": "code",
   "execution_count": 4,
   "metadata": {},
   "outputs": [
    {
     "data": {
      "text/plain": [
       "array(['娛樂', '生活', '社會', '政治', '財經', '國際', '體育'], dtype=object)"
      ]
     },
     "execution_count": 4,
     "metadata": {},
     "output_type": "execute_result"
    }
   ],
   "source": [
    "df.類別.unique()"
   ]
  },
  {
   "cell_type": "code",
   "execution_count": 5,
   "metadata": {
    "collapsed": true
   },
   "outputs": [],
   "source": [
    "A=[]\n",
    "A=df['標題']"
   ]
  },
  {
   "cell_type": "code",
   "execution_count": 6,
   "metadata": {},
   "outputs": [
    {
     "name": "stdout",
     "output_type": "stream",
     "text": [
      "487561\r"
     ]
    }
   ],
   "source": [
    "B=[]\n",
    "a=0\n",
    "for i in A:\n",
    "    B.append(list(i))\n",
    "    a=a+1\n",
    "    print(a,end='\\r'),"
   ]
  },
  {
   "cell_type": "code",
   "execution_count": 7,
   "metadata": {
    "collapsed": true
   },
   "outputs": [],
   "source": [
    "import re"
   ]
  },
  {
   "cell_type": "code",
   "execution_count": 8,
   "metadata": {
    "collapsed": true
   },
   "outputs": [],
   "source": [
    "r1 = u'[a-zA-Z0-9’!\"#$%&\\'()*+,-./:;<=>?@，。?★、…【】〈〉～「」é；《》？“”‘’！[\\\\]^_`{|}~]+'\n",
    "r2 = \"[\\s+\\.\\!\\/_,$%^*(+\\\"\\']+|[+——！，。？、~@#￥%……&*（）]+\"\n",
    "r3 =  \"[.!//_,$&%^*()<>+\\\"'?@#-|:~{}]+|[——！\\\\\\\\，。=？、：“”‘’《》【】￥……（）]+\"\n",
    "r4 =  \"\\\\【.*?】+|\\\\《.*?》+|\\\\#.*?#+|[.!/_,$&%^*()<>+\"\"'?@|:~{}#]+|[——！\\\\\\，。=？、：“”‘’￥……（）《》【】]\""
   ]
  },
  {
   "cell_type": "code",
   "execution_count": 9,
   "metadata": {
    "collapsed": true
   },
   "outputs": [],
   "source": [
    "A1=[]\n",
    "for i in A:\n",
    "    i=re.sub(r1,'',i)\n",
    "    A1.append(i)"
   ]
  },
  {
   "cell_type": "code",
   "execution_count": 10,
   "metadata": {
    "collapsed": true
   },
   "outputs": [],
   "source": [
    "A2=[]\n",
    "for i in A1:\n",
    "    i=re.sub(r2,'',i)\n",
    "    A2.append(i)"
   ]
  },
  {
   "cell_type": "code",
   "execution_count": 11,
   "metadata": {
    "collapsed": true
   },
   "outputs": [],
   "source": [
    "A3=[]\n",
    "for i in A2:\n",
    "    i=re.sub(r3,'',i)\n",
    "    A3.append(i)"
   ]
  },
  {
   "cell_type": "code",
   "execution_count": 12,
   "metadata": {
    "collapsed": true
   },
   "outputs": [],
   "source": [
    "A4=[]\n",
    "for i in A3:\n",
    "    i=re.sub(r4,'',i)\n",
    "    A4.append(i)"
   ]
  },
  {
   "cell_type": "code",
   "execution_count": 13,
   "metadata": {},
   "outputs": [
    {
     "data": {
      "text/plain": [
       "'原創鄧超彭于晏相約看球賽對鏡頭互做鬼臉二人彼此調侃友誼深厚'"
      ]
     },
     "execution_count": 13,
     "metadata": {},
     "output_type": "execute_result"
    }
   ],
   "source": [
    "A4[0]"
   ]
  },
  {
   "cell_type": "code",
   "execution_count": 14,
   "metadata": {
    "collapsed": true
   },
   "outputs": [],
   "source": [
    "L = list(df['label'])"
   ]
  },
  {
   "cell_type": "code",
   "execution_count": 15,
   "metadata": {
    "collapsed": true
   },
   "outputs": [],
   "source": [
    "dfu = pd.DataFrame({'label' : L,\n",
    "                                'title' : A4}, \n",
    "                                columns=['label','title'])"
   ]
  },
  {
   "cell_type": "code",
   "execution_count": 16,
   "metadata": {
    "collapsed": true
   },
   "outputs": [],
   "source": [
    "dfu['words'] = dfu['title'].apply(lambda x: re.findall('[\\x80-\\xff]{3}|[\\w\\W]', x))"
   ]
  },
  {
   "cell_type": "code",
   "execution_count": 17,
   "metadata": {},
   "outputs": [
    {
     "data": {
      "text/html": [
       "<div>\n",
       "<style>\n",
       "    .dataframe thead tr:only-child th {\n",
       "        text-align: right;\n",
       "    }\n",
       "\n",
       "    .dataframe thead th {\n",
       "        text-align: left;\n",
       "    }\n",
       "\n",
       "    .dataframe tbody tr th {\n",
       "        vertical-align: top;\n",
       "    }\n",
       "</style>\n",
       "<table border=\"1\" class=\"dataframe\">\n",
       "  <thead>\n",
       "    <tr style=\"text-align: right;\">\n",
       "      <th></th>\n",
       "      <th>label</th>\n",
       "      <th>title</th>\n",
       "      <th>words</th>\n",
       "    </tr>\n",
       "  </thead>\n",
       "  <tbody>\n",
       "    <tr>\n",
       "      <th>0</th>\n",
       "      <td>1</td>\n",
       "      <td>原創鄧超彭于晏相約看球賽對鏡頭互做鬼臉二人彼此調侃友誼深厚</td>\n",
       "      <td>[原, 創, 鄧, 超, 彭, 于, 晏, 相, 約, 看, 球, 賽, 對, 鏡, 頭, ...</td>\n",
       "    </tr>\n",
       "    <tr>\n",
       "      <th>1</th>\n",
       "      <td>1</td>\n",
       "      <td>孫東雲將註銷帳號月日入伍服兵役</td>\n",
       "      <td>[孫, 東, 雲, 將, 註, 銷, 帳, 號, 月, 日, 入, 伍, 服, 兵, 役]</td>\n",
       "    </tr>\n",
       "    <tr>\n",
       "      <th>2</th>\n",
       "      <td>1</td>\n",
       "      <td>王小帥朋友圈是什麼情況王小帥朋友圈發了什麼內容</td>\n",
       "      <td>[王, 小, 帥, 朋, 友, 圈, 是, 什, 麼, 情, 況, 王, 小, 帥, 朋, ...</td>\n",
       "    </tr>\n",
       "    <tr>\n",
       "      <th>3</th>\n",
       "      <td>1</td>\n",
       "      <td>楊明逸大雪焚心殺青最慘富二代為愛入局</td>\n",
       "      <td>[楊, 明, 逸, 大, 雪, 焚, 心, 殺, 青, 最, 慘, 富, 二, 代, 為, ...</td>\n",
       "    </tr>\n",
       "    <tr>\n",
       "      <th>4</th>\n",
       "      <td>1</td>\n",
       "      <td>樂基兒挺八月孕肚腳踩恨天高與閨蜜大跳熱舞組圖</td>\n",
       "      <td>[樂, 基, 兒, 挺, 八, 月, 孕, 肚, 腳, 踩, 恨, 天, 高, 與, 閨, ...</td>\n",
       "    </tr>\n",
       "  </tbody>\n",
       "</table>\n",
       "</div>"
      ],
      "text/plain": [
       "   label                          title  \\\n",
       "0      1  原創鄧超彭于晏相約看球賽對鏡頭互做鬼臉二人彼此調侃友誼深厚   \n",
       "1      1                孫東雲將註銷帳號月日入伍服兵役   \n",
       "2      1        王小帥朋友圈是什麼情況王小帥朋友圈發了什麼內容   \n",
       "3      1             楊明逸大雪焚心殺青最慘富二代為愛入局   \n",
       "4      1         樂基兒挺八月孕肚腳踩恨天高與閨蜜大跳熱舞組圖   \n",
       "\n",
       "                                               words  \n",
       "0  [原, 創, 鄧, 超, 彭, 于, 晏, 相, 約, 看, 球, 賽, 對, 鏡, 頭, ...  \n",
       "1      [孫, 東, 雲, 將, 註, 銷, 帳, 號, 月, 日, 入, 伍, 服, 兵, 役]  \n",
       "2  [王, 小, 帥, 朋, 友, 圈, 是, 什, 麼, 情, 況, 王, 小, 帥, 朋, ...  \n",
       "3  [楊, 明, 逸, 大, 雪, 焚, 心, 殺, 青, 最, 慘, 富, 二, 代, 為, ...  \n",
       "4  [樂, 基, 兒, 挺, 八, 月, 孕, 肚, 腳, 踩, 恨, 天, 高, 與, 閨, ...  "
      ]
     },
     "execution_count": 17,
     "metadata": {},
     "output_type": "execute_result"
    }
   ],
   "source": [
    "dfu.head()"
   ]
  },
  {
   "cell_type": "code",
   "execution_count": 18,
   "metadata": {
    "collapsed": true
   },
   "outputs": [],
   "source": [
    "all_words = []\n",
    "for w in dfu['words']:\n",
    "    all_words.extend(w)\n",
    "word_dict = pd.DataFrame(pd.Series(all_words).value_counts())\n",
    "word_dict['id'] = list(range(1, len(word_dict)+1))"
   ]
  },
  {
   "cell_type": "code",
   "execution_count": 19,
   "metadata": {},
   "outputs": [
    {
     "data": {
      "text/html": [
       "<div>\n",
       "<style>\n",
       "    .dataframe thead tr:only-child th {\n",
       "        text-align: right;\n",
       "    }\n",
       "\n",
       "    .dataframe thead th {\n",
       "        text-align: left;\n",
       "    }\n",
       "\n",
       "    .dataframe tbody tr th {\n",
       "        vertical-align: top;\n",
       "    }\n",
       "</style>\n",
       "<table border=\"1\" class=\"dataframe\">\n",
       "  <thead>\n",
       "    <tr style=\"text-align: right;\">\n",
       "      <th></th>\n",
       "      <th>0</th>\n",
       "      <th>id</th>\n",
       "    </tr>\n",
       "  </thead>\n",
       "  <tbody>\n",
       "    <tr>\n",
       "      <th>國</th>\n",
       "      <td>72763</td>\n",
       "      <td>1</td>\n",
       "    </tr>\n",
       "    <tr>\n",
       "      <th>人</th>\n",
       "      <td>69210</td>\n",
       "      <td>2</td>\n",
       "    </tr>\n",
       "    <tr>\n",
       "      <th>大</th>\n",
       "      <td>65927</td>\n",
       "      <td>3</td>\n",
       "    </tr>\n",
       "    <tr>\n",
       "      <th>的</th>\n",
       "      <td>58807</td>\n",
       "      <td>4</td>\n",
       "    </tr>\n",
       "    <tr>\n",
       "      <th>美</th>\n",
       "      <td>57337</td>\n",
       "      <td>5</td>\n",
       "    </tr>\n",
       "    <tr>\n",
       "      <th>中</th>\n",
       "      <td>53116</td>\n",
       "      <td>6</td>\n",
       "    </tr>\n",
       "    <tr>\n",
       "      <th>一</th>\n",
       "      <td>42670</td>\n",
       "      <td>7</td>\n",
       "    </tr>\n",
       "    <tr>\n",
       "      <th>不</th>\n",
       "      <td>42647</td>\n",
       "      <td>8</td>\n",
       "    </tr>\n",
       "    <tr>\n",
       "      <th>年</th>\n",
       "      <td>42202</td>\n",
       "      <td>9</td>\n",
       "    </tr>\n",
       "    <tr>\n",
       "      <th>日</th>\n",
       "      <td>35110</td>\n",
       "      <td>10</td>\n",
       "    </tr>\n",
       "    <tr>\n",
       "      <th>新</th>\n",
       "      <td>31147</td>\n",
       "      <td>11</td>\n",
       "    </tr>\n",
       "    <tr>\n",
       "      <th>女</th>\n",
       "      <td>29646</td>\n",
       "      <td>12</td>\n",
       "    </tr>\n",
       "    <tr>\n",
       "      <th>出</th>\n",
       "      <td>28172</td>\n",
       "      <td>13</td>\n",
       "    </tr>\n",
       "    <tr>\n",
       "      <th>會</th>\n",
       "      <td>27743</td>\n",
       "      <td>14</td>\n",
       "    </tr>\n",
       "    <tr>\n",
       "      <th>被</th>\n",
       "      <td>27061</td>\n",
       "      <td>15</td>\n",
       "    </tr>\n",
       "    <tr>\n",
       "      <th>賽</th>\n",
       "      <td>25542</td>\n",
       "      <td>16</td>\n",
       "    </tr>\n",
       "    <tr>\n",
       "      <th>台</th>\n",
       "      <td>25370</td>\n",
       "      <td>17</td>\n",
       "    </tr>\n",
       "    <tr>\n",
       "      <th>高</th>\n",
       "      <td>25266</td>\n",
       "      <td>18</td>\n",
       "    </tr>\n",
       "    <tr>\n",
       "      <th>上</th>\n",
       "      <td>24586</td>\n",
       "      <td>19</td>\n",
       "    </tr>\n",
       "    <tr>\n",
       "      <th>生</th>\n",
       "      <td>24275</td>\n",
       "      <td>20</td>\n",
       "    </tr>\n",
       "    <tr>\n",
       "      <th>球</th>\n",
       "      <td>23883</td>\n",
       "      <td>21</td>\n",
       "    </tr>\n",
       "    <tr>\n",
       "      <th>子</th>\n",
       "      <td>23763</td>\n",
       "      <td>22</td>\n",
       "    </tr>\n",
       "    <tr>\n",
       "      <th>家</th>\n",
       "      <td>23088</td>\n",
       "      <td>23</td>\n",
       "    </tr>\n",
       "    <tr>\n",
       "      <th>成</th>\n",
       "      <td>23056</td>\n",
       "      <td>24</td>\n",
       "    </tr>\n",
       "    <tr>\n",
       "      <th>有</th>\n",
       "      <td>22913</td>\n",
       "      <td>25</td>\n",
       "    </tr>\n",
       "    <tr>\n",
       "      <th>是</th>\n",
       "      <td>22589</td>\n",
       "      <td>26</td>\n",
       "    </tr>\n",
       "    <tr>\n",
       "      <th>小</th>\n",
       "      <td>22292</td>\n",
       "      <td>27</td>\n",
       "    </tr>\n",
       "    <tr>\n",
       "      <th>最</th>\n",
       "      <td>22253</td>\n",
       "      <td>28</td>\n",
       "    </tr>\n",
       "    <tr>\n",
       "      <th>法</th>\n",
       "      <td>22180</td>\n",
       "      <td>29</td>\n",
       "    </tr>\n",
       "    <tr>\n",
       "      <th>網</th>\n",
       "      <td>22122</td>\n",
       "      <td>30</td>\n",
       "    </tr>\n",
       "    <tr>\n",
       "      <th>...</th>\n",
       "      <td>...</td>\n",
       "      <td>...</td>\n",
       "    </tr>\n",
       "    <tr>\n",
       "      <th>坏</th>\n",
       "      <td>1</td>\n",
       "      <td>6484</td>\n",
       "    </tr>\n",
       "    <tr>\n",
       "      <th>僂</th>\n",
       "      <td>1</td>\n",
       "      <td>6485</td>\n",
       "    </tr>\n",
       "    <tr>\n",
       "      <th>甑</th>\n",
       "      <td>1</td>\n",
       "      <td>6486</td>\n",
       "    </tr>\n",
       "    <tr>\n",
       "      <th>砝</th>\n",
       "      <td>1</td>\n",
       "      <td>6487</td>\n",
       "    </tr>\n",
       "    <tr>\n",
       "      <th>顶</th>\n",
       "      <td>1</td>\n",
       "      <td>6488</td>\n",
       "    </tr>\n",
       "    <tr>\n",
       "      <th>辖</th>\n",
       "      <td>1</td>\n",
       "      <td>6489</td>\n",
       "    </tr>\n",
       "    <tr>\n",
       "      <th>歭</th>\n",
       "      <td>1</td>\n",
       "      <td>6490</td>\n",
       "    </tr>\n",
       "    <tr>\n",
       "      <th>賁</th>\n",
       "      <td>1</td>\n",
       "      <td>6491</td>\n",
       "    </tr>\n",
       "    <tr>\n",
       "      <th>娄</th>\n",
       "      <td>1</td>\n",
       "      <td>6492</td>\n",
       "    </tr>\n",
       "    <tr>\n",
       "      <th>噻</th>\n",
       "      <td>1</td>\n",
       "      <td>6493</td>\n",
       "    </tr>\n",
       "    <tr>\n",
       "      <th>摰</th>\n",
       "      <td>1</td>\n",
       "      <td>6494</td>\n",
       "    </tr>\n",
       "    <tr>\n",
       "      <th>眅</th>\n",
       "      <td>1</td>\n",
       "      <td>6495</td>\n",
       "    </tr>\n",
       "    <tr>\n",
       "      <th>矓</th>\n",
       "      <td>1</td>\n",
       "      <td>6496</td>\n",
       "    </tr>\n",
       "    <tr>\n",
       "      <th>畯</th>\n",
       "      <td>1</td>\n",
       "      <td>6497</td>\n",
       "    </tr>\n",
       "    <tr>\n",
       "      <th>ｋ</th>\n",
       "      <td>1</td>\n",
       "      <td>6498</td>\n",
       "    </tr>\n",
       "    <tr>\n",
       "      <th>眭</th>\n",
       "      <td>1</td>\n",
       "      <td>6499</td>\n",
       "    </tr>\n",
       "    <tr>\n",
       "      <th>箎</th>\n",
       "      <td>1</td>\n",
       "      <td>6500</td>\n",
       "    </tr>\n",
       "    <tr>\n",
       "      <th>㵘</th>\n",
       "      <td>1</td>\n",
       "      <td>6501</td>\n",
       "    </tr>\n",
       "    <tr>\n",
       "      <th>畬</th>\n",
       "      <td>1</td>\n",
       "      <td>6502</td>\n",
       "    </tr>\n",
       "    <tr>\n",
       "      <th>ね</th>\n",
       "      <td>1</td>\n",
       "      <td>6503</td>\n",
       "    </tr>\n",
       "    <tr>\n",
       "      <th>翥</th>\n",
       "      <td>1</td>\n",
       "      <td>6504</td>\n",
       "    </tr>\n",
       "    <tr>\n",
       "      <th>鐙</th>\n",
       "      <td>1</td>\n",
       "      <td>6505</td>\n",
       "    </tr>\n",
       "    <tr>\n",
       "      <th>嘜</th>\n",
       "      <td>1</td>\n",
       "      <td>6506</td>\n",
       "    </tr>\n",
       "    <tr>\n",
       "      <th>å²</th>\n",
       "      <td>1</td>\n",
       "      <td>6507</td>\n",
       "    </tr>\n",
       "    <tr>\n",
       "      <th>簌</th>\n",
       "      <td>1</td>\n",
       "      <td>6508</td>\n",
       "    </tr>\n",
       "    <tr>\n",
       "      <th>堺</th>\n",
       "      <td>1</td>\n",
       "      <td>6509</td>\n",
       "    </tr>\n",
       "    <tr>\n",
       "      <th>岜</th>\n",
       "      <td>1</td>\n",
       "      <td>6510</td>\n",
       "    </tr>\n",
       "    <tr>\n",
       "      <th>鏹</th>\n",
       "      <td>1</td>\n",
       "      <td>6511</td>\n",
       "    </tr>\n",
       "    <tr>\n",
       "      <th>联</th>\n",
       "      <td>1</td>\n",
       "      <td>6512</td>\n",
       "    </tr>\n",
       "    <tr>\n",
       "      <th>¢å¸</th>\n",
       "      <td>1</td>\n",
       "      <td>6513</td>\n",
       "    </tr>\n",
       "  </tbody>\n",
       "</table>\n",
       "<p>6513 rows × 2 columns</p>\n",
       "</div>"
      ],
      "text/plain": [
       "         0    id\n",
       "國    72763     1\n",
       "人    69210     2\n",
       "大    65927     3\n",
       "的    58807     4\n",
       "美    57337     5\n",
       "中    53116     6\n",
       "一    42670     7\n",
       "不    42647     8\n",
       "年    42202     9\n",
       "日    35110    10\n",
       "新    31147    11\n",
       "女    29646    12\n",
       "出    28172    13\n",
       "會    27743    14\n",
       "被    27061    15\n",
       "賽    25542    16\n",
       "台    25370    17\n",
       "高    25266    18\n",
       "上    24586    19\n",
       "生    24275    20\n",
       "球    23883    21\n",
       "子    23763    22\n",
       "家    23088    23\n",
       "成    23056    24\n",
       "有    22913    25\n",
       "是    22589    26\n",
       "小    22292    27\n",
       "最    22253    28\n",
       "法    22180    29\n",
       "網    22122    30\n",
       "..     ...   ...\n",
       "坏        1  6484\n",
       "僂        1  6485\n",
       "甑        1  6486\n",
       "砝        1  6487\n",
       "顶        1  6488\n",
       "辖        1  6489\n",
       "歭        1  6490\n",
       "賁        1  6491\n",
       "娄        1  6492\n",
       "噻        1  6493\n",
       "摰        1  6494\n",
       "眅        1  6495\n",
       "矓        1  6496\n",
       "畯        1  6497\n",
       "ｋ        1  6498\n",
       "眭        1  6499\n",
       "箎        1  6500\n",
       "㵘        1  6501\n",
       "畬        1  6502\n",
       "ね        1  6503\n",
       "翥        1  6504\n",
       "鐙        1  6505\n",
       "嘜        1  6506\n",
       "å²      1  6507\n",
       "簌        1  6508\n",
       "堺        1  6509\n",
       "岜        1  6510\n",
       "鏹        1  6511\n",
       "联        1  6512\n",
       "¢å¸      1  6513\n",
       "\n",
       "[6513 rows x 2 columns]"
      ]
     },
     "execution_count": 19,
     "metadata": {},
     "output_type": "execute_result"
    }
   ],
   "source": [
    "word_dict"
   ]
  },
  {
   "cell_type": "code",
   "execution_count": 20,
   "metadata": {
    "collapsed": true
   },
   "outputs": [],
   "source": [
    "dfu['wordidlist'] = dfu['words'].apply(lambda x: list(word_dict['id'][x]))"
   ]
  },
  {
   "cell_type": "code",
   "execution_count": 21,
   "metadata": {},
   "outputs": [
    {
     "data": {
      "text/html": [
       "<div>\n",
       "<style>\n",
       "    .dataframe thead tr:only-child th {\n",
       "        text-align: right;\n",
       "    }\n",
       "\n",
       "    .dataframe thead th {\n",
       "        text-align: left;\n",
       "    }\n",
       "\n",
       "    .dataframe tbody tr th {\n",
       "        vertical-align: top;\n",
       "    }\n",
       "</style>\n",
       "<table border=\"1\" class=\"dataframe\">\n",
       "  <thead>\n",
       "    <tr style=\"text-align: right;\">\n",
       "      <th></th>\n",
       "      <th>label</th>\n",
       "      <th>title</th>\n",
       "      <th>words</th>\n",
       "      <th>wordidlist</th>\n",
       "    </tr>\n",
       "  </thead>\n",
       "  <tbody>\n",
       "    <tr>\n",
       "      <th>0</th>\n",
       "      <td>1</td>\n",
       "      <td>原創鄧超彭于晏相約看球賽對鏡頭互做鬼臉二人彼此調侃友誼深厚</td>\n",
       "      <td>[原, 創, 鄧, 超, 彭, 于, 晏, 相, 約, 看, 球, 賽, 對, 鏡, 頭, ...</td>\n",
       "      <td>[239, 178, 1142, 191, 1525, 2489, 2844, 253, 3...</td>\n",
       "    </tr>\n",
       "    <tr>\n",
       "      <th>1</th>\n",
       "      <td>1</td>\n",
       "      <td>孫東雲將註銷帳號月日入伍服兵役</td>\n",
       "      <td>[孫, 東, 雲, 將, 註, 銷, 帳, 號, 月, 日, 入, 伍, 服, 兵, 役]</td>\n",
       "      <td>[994, 170, 655, 47, 2456, 642, 1476, 646, 84, ...</td>\n",
       "    </tr>\n",
       "    <tr>\n",
       "      <th>2</th>\n",
       "      <td>1</td>\n",
       "      <td>王小帥朋友圈是什麼情況王小帥朋友圈發了什麼內容</td>\n",
       "      <td>[王, 小, 帥, 朋, 友, 圈, 是, 什, 麼, 情, 況, 王, 小, 帥, 朋, ...</td>\n",
       "      <td>[48, 27, 977, 1407, 113, 762, 26, 557, 294, 13...</td>\n",
       "    </tr>\n",
       "    <tr>\n",
       "      <th>3</th>\n",
       "      <td>1</td>\n",
       "      <td>楊明逸大雪焚心殺青最慘富二代為愛入局</td>\n",
       "      <td>[楊, 明, 逸, 大, 雪, 焚, 心, 殺, 青, 最, 慘, 富, 二, 代, 為, ...</td>\n",
       "      <td>[460, 92, 2538, 3, 704, 2389, 71, 299, 487, 28...</td>\n",
       "    </tr>\n",
       "    <tr>\n",
       "      <th>4</th>\n",
       "      <td>1</td>\n",
       "      <td>樂基兒挺八月孕肚腳踩恨天高與閨蜜大跳熱舞組圖</td>\n",
       "      <td>[樂, 基, 兒, 挺, 八, 月, 孕, 肚, 腳, 踩, 恨, 天, 高, 與, 閨, ...</td>\n",
       "      <td>[241, 270, 175, 827, 479, 84, 980, 1767, 1093,...</td>\n",
       "    </tr>\n",
       "  </tbody>\n",
       "</table>\n",
       "</div>"
      ],
      "text/plain": [
       "   label                          title  \\\n",
       "0      1  原創鄧超彭于晏相約看球賽對鏡頭互做鬼臉二人彼此調侃友誼深厚   \n",
       "1      1                孫東雲將註銷帳號月日入伍服兵役   \n",
       "2      1        王小帥朋友圈是什麼情況王小帥朋友圈發了什麼內容   \n",
       "3      1             楊明逸大雪焚心殺青最慘富二代為愛入局   \n",
       "4      1         樂基兒挺八月孕肚腳踩恨天高與閨蜜大跳熱舞組圖   \n",
       "\n",
       "                                               words  \\\n",
       "0  [原, 創, 鄧, 超, 彭, 于, 晏, 相, 約, 看, 球, 賽, 對, 鏡, 頭, ...   \n",
       "1      [孫, 東, 雲, 將, 註, 銷, 帳, 號, 月, 日, 入, 伍, 服, 兵, 役]   \n",
       "2  [王, 小, 帥, 朋, 友, 圈, 是, 什, 麼, 情, 況, 王, 小, 帥, 朋, ...   \n",
       "3  [楊, 明, 逸, 大, 雪, 焚, 心, 殺, 青, 最, 慘, 富, 二, 代, 為, ...   \n",
       "4  [樂, 基, 兒, 挺, 八, 月, 孕, 肚, 腳, 踩, 恨, 天, 高, 與, 閨, ...   \n",
       "\n",
       "                                          wordidlist  \n",
       "0  [239, 178, 1142, 191, 1525, 2489, 2844, 253, 3...  \n",
       "1  [994, 170, 655, 47, 2456, 642, 1476, 646, 84, ...  \n",
       "2  [48, 27, 977, 1407, 113, 762, 26, 557, 294, 13...  \n",
       "3  [460, 92, 2538, 3, 704, 2389, 71, 299, 487, 28...  \n",
       "4  [241, 270, 175, 827, 479, 84, 980, 1767, 1093,...  "
      ]
     },
     "execution_count": 21,
     "metadata": {},
     "output_type": "execute_result"
    }
   ],
   "source": [
    "dfu.head()"
   ]
  },
  {
   "cell_type": "code",
   "execution_count": 22,
   "metadata": {},
   "outputs": [
    {
     "name": "stdout",
     "output_type": "stream",
     "text": [
      "56\n"
     ]
    }
   ],
   "source": [
    "maxn = 0\n",
    "\n",
    "for i in dfu['wordidlist']:\n",
    "    if len(i) > maxn:\n",
    "        maxn = len(i)\n",
    "\n",
    "print(maxn)"
   ]
  },
  {
   "cell_type": "code",
   "execution_count": 23,
   "metadata": {},
   "outputs": [
    {
     "name": "stderr",
     "output_type": "stream",
     "text": [
      "Using TensorFlow backend.\n"
     ]
    }
   ],
   "source": [
    "from keras.preprocessing import sequence"
   ]
  },
  {
   "cell_type": "code",
   "execution_count": 24,
   "metadata": {
    "collapsed": true
   },
   "outputs": [],
   "source": [
    "maxlen = 25\n",
    "dfu['wordidlist'] = list(sequence.pad_sequences(dfu['wordidlist'], maxlen=maxlen))"
   ]
  },
  {
   "cell_type": "code",
   "execution_count": 25,
   "metadata": {
    "collapsed": true
   },
   "outputs": [],
   "source": [
    "from keras.utils import np_utils\n",
    "from keras.models import Sequential\n",
    "from keras.layers import Dense, Activation\n",
    "import keras.optimizers"
   ]
  },
  {
   "cell_type": "code",
   "execution_count": 26,
   "metadata": {
    "collapsed": true
   },
   "outputs": [],
   "source": [
    "from sklearn.model_selection import train_test_split"
   ]
  },
  {
   "cell_type": "code",
   "execution_count": 27,
   "metadata": {
    "collapsed": true
   },
   "outputs": [],
   "source": [
    "X = np.array(list(dfu['wordidlist']))\n",
    "Y = np.array(list(dfu['label']))"
   ]
  },
  {
   "cell_type": "code",
   "execution_count": 28,
   "metadata": {},
   "outputs": [
    {
     "data": {
      "text/plain": [
       "1"
      ]
     },
     "execution_count": 28,
     "metadata": {},
     "output_type": "execute_result"
    }
   ],
   "source": [
    "Y[1]"
   ]
  },
  {
   "cell_type": "code",
   "execution_count": 29,
   "metadata": {
    "collapsed": true
   },
   "outputs": [],
   "source": [
    "x_train, x_test, y_train, y_test = train_test_split(X,Y, test_size=0.3, random_state = 508)"
   ]
  },
  {
   "cell_type": "code",
   "execution_count": 30,
   "metadata": {
    "collapsed": true
   },
   "outputs": [],
   "source": [
    "y_train = np_utils.to_categorical(y_train)\n",
    "y_test = np_utils.to_categorical(y_test)"
   ]
  },
  {
   "cell_type": "code",
   "execution_count": 31,
   "metadata": {},
   "outputs": [
    {
     "data": {
      "text/plain": [
       "(341292, 8)"
      ]
     },
     "execution_count": 31,
     "metadata": {},
     "output_type": "execute_result"
    }
   ],
   "source": [
    "y_train.shape"
   ]
  },
  {
   "cell_type": "code",
   "execution_count": 32,
   "metadata": {
    "collapsed": true
   },
   "outputs": [],
   "source": [
    "from keras.layers import Embedding, LSTM, Dropout"
   ]
  },
  {
   "cell_type": "code",
   "execution_count": 34,
   "metadata": {},
   "outputs": [
    {
     "name": "stdout",
     "output_type": "stream",
     "text": [
      "_________________________________________________________________\n",
      "Layer (type)                 Output Shape              Param #   \n",
      "=================================================================\n",
      "embedding_2 (Embedding)      (None, None, 256)         1667584   \n",
      "_________________________________________________________________\n",
      "lstm_3 (LSTM)                (None, None, 128)         197120    \n",
      "_________________________________________________________________\n",
      "lstm_4 (LSTM)                (None, 128)               131584    \n",
      "_________________________________________________________________\n",
      "dense_1 (Dense)              (None, 8)                 1032      \n",
      "_________________________________________________________________\n",
      "activation_1 (Activation)    (None, 8)                 0         \n",
      "=================================================================\n",
      "Total params: 1,997,320\n",
      "Trainable params: 1,997,320\n",
      "Non-trainable params: 0\n",
      "_________________________________________________________________\n"
     ]
    }
   ],
   "source": [
    "model = Sequential()\n",
    "model.add(Embedding(len(word_dict)+1, 256))\n",
    "model.add(LSTM(128, return_sequences=True))\n",
    "model.add(LSTM(128))\n",
    "model.add(Dense(y_train.shape[1]))\n",
    "model.add(Activation('softmax'))\n",
    "model.compile(loss='categorical_crossentropy', optimizer='adam', metrics=['accuracy'])\n",
    "model.summary()"
   ]
  },
  {
   "cell_type": "code",
   "execution_count": 35,
   "metadata": {},
   "outputs": [
    {
     "name": "stdout",
     "output_type": "stream",
     "text": [
      "WARNING:tensorflow:From D:\\Anaconda\\lib\\site-packages\\tensorflow\\python\\ops\\math_ops.py:3066: to_int32 (from tensorflow.python.ops.math_ops) is deprecated and will be removed in a future version.\n",
      "Instructions for updating:\n",
      "Use tf.cast instead.\n",
      "Epoch 1/5\n",
      "341292/341292 [==============================] - 116s 340us/step - loss: 0.7966 - acc: 0.7057\n",
      "Epoch 2/5\n",
      "341292/341292 [==============================] - 98s 288us/step - loss: 0.5599 - acc: 0.7965\n",
      "Epoch 3/5\n",
      "341292/341292 [==============================] - 98s 288us/step - loss: 0.5262 - acc: 0.8072\n",
      "Epoch 4/5\n",
      "341292/341292 [==============================] - 98s 288us/step - loss: 0.5024 - acc: 0.8157\n",
      "Epoch 5/5\n",
      "341292/341292 [==============================] - 98s 288us/step - loss: 0.4809 - acc: 0.8219\n"
     ]
    },
    {
     "data": {
      "text/plain": [
       "<keras.callbacks.History at 0x1e2264039e8>"
      ]
     },
     "execution_count": 35,
     "metadata": {},
     "output_type": "execute_result"
    }
   ],
   "source": [
    "model.fit(x_train, y_train, batch_size=1000, epochs=5)"
   ]
  },
  {
   "cell_type": "code",
   "execution_count": 36,
   "metadata": {},
   "outputs": [
    {
     "name": "stdout",
     "output_type": "stream",
     "text": [
      "146269/146269 [==============================] - 84s 572us/step\n",
      "loss: 0.53311475461\n",
      "正確率 0.803916072447\n"
     ]
    }
   ],
   "source": [
    "score = model.evaluate(x_test, y_test)\n",
    "print('loss:', score[0])\n",
    "print('正確率', score[1])"
   ]
  },
  {
   "cell_type": "code",
   "execution_count": 37,
   "metadata": {
    "collapsed": true
   },
   "outputs": [],
   "source": [
    "from ipywidgets import interact_manual"
   ]
  },
  {
   "cell_type": "code",
   "execution_count": 38,
   "metadata": {
    "collapsed": true
   },
   "outputs": [],
   "source": [
    "predict = model.predict_classes(x_test)"
   ]
  },
  {
   "cell_type": "code",
   "execution_count": 39,
   "metadata": {
    "collapsed": true
   },
   "outputs": [],
   "source": [
    "def test(num):\n",
    "    print(int(np.dot(y_test[num], [0, 1, 2, 3, 4, 5, 6, 7])))\n",
    "    print('神經網路判斷為:', predict[num])"
   ]
  },
  {
   "cell_type": "code",
   "execution_count": 40,
   "metadata": {},
   "outputs": [
    {
     "data": {
      "application/vnd.jupyter.widget-view+json": {
       "model_id": "9e9a897ff67e45fcb7e976945930abe7",
       "version_major": 2,
       "version_minor": 0
      },
      "text/plain": [
       "A Jupyter Widget"
      ]
     },
     "metadata": {},
     "output_type": "display_data"
    },
    {
     "data": {
      "text/plain": [
       "<function __main__.test>"
      ]
     },
     "execution_count": 40,
     "metadata": {},
     "output_type": "execute_result"
    }
   ],
   "source": [
    "interact_manual(test, num=(0, len(y_test)-1))"
   ]
  },
  {
   "cell_type": "code",
   "execution_count": 41,
   "metadata": {
    "collapsed": true
   },
   "outputs": [],
   "source": [
    "model_json = model.to_json()\n",
    "open('my_model_2RNN.json', 'w').write(model_json)\n",
    "model.save_weights('my_model_weights_2RNN.h5')"
   ]
  },
  {
   "cell_type": "code",
   "execution_count": null,
   "metadata": {
    "collapsed": true
   },
   "outputs": [],
   "source": []
  }
 ],
 "metadata": {
  "kernelspec": {
   "display_name": "Python 3",
   "language": "python",
   "name": "python3"
  },
  "language_info": {
   "codemirror_mode": {
    "name": "ipython",
    "version": 3
   },
   "file_extension": ".py",
   "mimetype": "text/x-python",
   "name": "python",
   "nbconvert_exporter": "python",
   "pygments_lexer": "ipython3",
   "version": "3.6.3"
  }
 },
 "nbformat": 4,
 "nbformat_minor": 2
}
