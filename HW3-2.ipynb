{
 "cells": [
  {
   "cell_type": "code",
   "execution_count": 22,
   "metadata": {},
   "outputs": [
    {
     "name": "stdout",
     "output_type": "stream",
     "text": [
      "請輸入一組溫度，並以空白分隔: 32 85 96 0 7 45\n",
      "請輸入目前的溫標形式(輸入\"C\"代表攝氏，輸入\"F\"代表華氏，輸入\"K\"代表克氏): F\n",
      "請輸入欲轉換的溫標形式(輸入\"C\"代表攝氏，輸入\"F\"代表華氏，輸入\"K\"代表克氏): K\n",
      "[273.15       302.59444444 308.70555556 255.37222222 259.26111111\n",
      " 280.37222222]\n"
     ]
    },
    {
     "data": {
      "text/plain": [
       "[<matplotlib.lines.Line2D at 0x17cf18465c0>]"
      ]
     },
     "execution_count": 22,
     "metadata": {},
     "output_type": "execute_result"
    },
    {
     "data": {
      "image/png": "[encoded data removed]",
      "text/plain": [
       "<matplotlib.figure.Figure at 0x17cf05c15c0>"
      ]
     },
     "metadata": {},
     "output_type": "display_data"
    }
   ],
   "source": [
    "%matplotlib inline\n",
    "import matplotlib.pyplot as plt\n",
    "import numpy as np\n",
    "\n",
    "data = []\n",
    "new_data = []\n",
    "c_data = []\n",
    "temp = (input('請輸入一組溫度，並以空白分隔: '))\n",
    "temp2 = temp.split(' ')\n",
    "for i in temp2:\n",
    "    data.append(float(i))\n",
    "data_format = input('請輸入目前的溫標形式(輸入\"C\"代表攝氏，輸入\"F\"代表華氏，輸入\"K\"代表克氏): ')\n",
    "convert_format = input('請輸入欲轉換的溫標形式(輸入\"C\"代表攝氏，輸入\"F\"代表華氏，輸入\"K\"代表克氏): ')\n",
    "\n",
    "data = np.array(data)\n",
    "\n",
    "if (data_format == 'C') & (convert_format == 'F'):\n",
    "    new_data = 9/5*data + 32\n",
    "elif (data_format == 'C') & (convert_format == 'K'):\n",
    "    new_data = data + 273.15\n",
    "elif (data_format == 'C') & (convert_format == 'C'):\n",
    "    print('我相信你一定知道答案的，用不著我算吧XD')\n",
    "elif (data_format == 'F') & (convert_format == 'C'):\n",
    "    c_data = (data - 32) * 5/9\n",
    "elif (data_format == 'F') & (convert_format == 'K'):\n",
    "    new_data = (data + 459.67) * 5/9\n",
    "elif (data_format == 'F') & (convert_format == 'F'):\n",
    "    print('我相信你一定知道答案的，用不著我算吧XD')\n",
    "elif (data_format == 'K') & (convert_format == 'F'):\n",
    "    new_data = 9/5*data - 459.67\n",
    "elif (data_format == 'K') & (convert_format == 'C'):\n",
    "    c_data = data - 273.15\n",
    "elif (data_format == 'K') & (convert_format == 'K'):\n",
    "    print('我相信你一定知道答案的，用不著我算吧XD')\n",
    "else:\n",
    "    print('不好意思我不知道你想要問我什麼???')\n",
    "    \n",
    "if len(new_data) != 0:\n",
    "    print(new_data)\n",
    "\n",
    "if (data_format == 'C'):\n",
    "    c_data = data\n",
    "elif c_data == []:\n",
    "    if (data_format == 'F'):\n",
    "        c_data = (data - 32) * 5/9\n",
    "    elif (data_format == 'K'):\n",
    "         c_data = data - 273.15\n",
    "    else:\n",
    "        c_data = np.zeros(data.size)\n",
    "\n",
    "x = np.array(range(1, c_data.size + 1))\n",
    "plt.title('Temperature in Celcius (\"+\" means > 0°C)')\n",
    "plt.ylabel('°C')\n",
    "plt.plot(x, c_data)\n",
    "plt.plot(x[c_data > 0.0], c_data[c_data > 0.0], '+')"
   ]
  },
  {
   "cell_type": "code",
   "execution_count": null,
   "metadata": {},
   "outputs": [],
   "source": []
  }
 ],
 "metadata": {
  "kernelspec": {
   "display_name": "Python 3",
   "language": "python",
   "name": "python3"
  },
  "language_info": {
   "codemirror_mode": {
    "name": "ipython",
    "version": 3
   },
   "file_extension": ".py",
   "mimetype": "text/x-python",
   "name": "python",
   "nbconvert_exporter": "python",
   "pygments_lexer": "ipython3",
   "version": "3.6.8"
  }
 },
 "nbformat": 4,
 "nbformat_minor": 2
}
