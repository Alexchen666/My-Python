{
 "cells": [
  {
   "cell_type": "markdown",
   "metadata": {},
   "source": [
    "# Gradient Descent\n",
    "\n",
    "用互動式滑桿的方式呈現對於函數\n",
    "\n",
    "$f(x)=x^4+2x^3-x^2-3x-1$\n",
    "\n",
    "在 $x$ =-2到1.3的區間且 $\\eta$ =0.01到0.37間，使用Gradient Descent所得的結果。"
   ]
  },
  {
   "cell_type": "code",
   "execution_count": 1,
   "metadata": {
    "collapsed": true
   },
   "outputs": [],
   "source": [
    "%matplotlib inline\n",
    "import matplotlib.pyplot as plt\n",
    "import numpy as np\n",
    "from ipywidgets import interact"
   ]
  },
  {
   "cell_type": "markdown",
   "metadata": {},
   "source": [
    "$f'(x) = 4x^3+6x^2-2x-3$"
   ]
  },
  {
   "cell_type": "code",
   "execution_count": 2,
   "metadata": {
    "collapsed": true
   },
   "outputs": [],
   "source": [
    "def gd(start, η):\n",
    "    minima = 10.0\n",
    "    w = start\n",
    "    w_record = []\n",
    "    y_record = []\n",
    "\n",
    "    for i in range(100): #執行100次\n",
    "        w = w-η*(4* np.power(w,3)+6* np.power(w,2)-2*w-3)\n",
    "        y = np.power(w,4) +2* np.power(w,3) -np.power(w,2)- 3*w-1\n",
    "        w_record.append(w) #紀錄每次執行結果\n",
    "        y_record.append(y)\n",
    "        if(y == minima): #若是y已等於極小值，則停止執行\n",
    "            break\n",
    "        if(y <= minima): #若y小於等於極小值，則將y值替換為新的極小值\n",
    "            minima = y\n",
    "        if((w >=2) or (w <= -2.5)): #若w超過訂定的範圍，則停止執行\n",
    "            print('w is out of range.')\n",
    "            break\n",
    "\n",
    "    print(f'When Start Point w = {start}, Learning Rate η = {η}, the final w = {w}, the min = {minima}')\n",
    "    x_fig = np.linspace(-2, 1.3, 10000)\n",
    "    y_fig = np.power(x_fig,4) +2* np.power(x_fig,3) -np.power(x_fig,2)- 3*x_fig-1\n",
    "    plt.plot(x_fig, y_fig)\n",
    "    plt.plot(w_record, y_record, color = 'r')\n",
    "    print('\\nw are: ',  w_record)\n",
    "    print('\\nand the corresponding y are: ', y_record)"
   ]
  },
  {
   "cell_type": "code",
   "execution_count": 3,
   "metadata": {},
   "outputs": [
    {
     "data": {
      "application/vnd.jupyter.widget-view+json": {
       "model_id": "ef96723fcc954fddb38198c0bd64378f",
       "version_major": 2,
       "version_minor": 0
      },
      "text/plain": [
       "A Jupyter Widget"
      ]
     },
     "metadata": {},
     "output_type": "display_data"
    },
    {
     "data": {
      "text/plain": [
       "<function __main__.gd>"
      ]
     },
     "execution_count": 3,
     "metadata": {},
     "output_type": "execute_result"
    }
   ],
   "source": [
    "interact(gd, start = (-2., 1.3, 0.1), η = (0.01, 0.37, 0.05))"
   ]
  },
  {
   "cell_type": "markdown",
   "metadata": {
    "collapsed": true
   },
   "source": [
    "之所以會將 $\\eta$ 的範圍定在0.01到0.37之間，是因為經過測試後，發現若超過0.37，$y$ 會變得非常大，超過限制。因此最後決定定在0.37。"
   ]
  },
  {
   "cell_type": "code",
   "execution_count": null,
   "metadata": {
    "collapsed": true
   },
   "outputs": [],
   "source": []
  }
 ],
 "metadata": {
  "kernelspec": {
   "display_name": "Python 3",
   "language": "python",
   "name": "python3"
  },
  "language_info": {
   "codemirror_mode": {
    "name": "ipython",
    "version": 3
   },
   "file_extension": ".py",
   "mimetype": "text/x-python",
   "name": "python",
   "nbconvert_exporter": "python",
   "pygments_lexer": "ipython3",
   "version": "3.6.3"
  }
 },
 "nbformat": 4,
 "nbformat_minor": 2
}
