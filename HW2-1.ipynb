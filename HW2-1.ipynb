{
 "cells": [
  {
   "cell_type": "code",
   "execution_count": 15,
   "metadata": {},
   "outputs": [
    {
     "data": {
      "application/vnd.jupyter.widget-view+json": {
       "model_id": "0dbad938ab0d41b6aecbd1dcfdeae508",
       "version_major": 2,
       "version_minor": 0
      },
      "text/plain": [
       "A Jupyter Widget"
      ]
     },
     "metadata": {},
     "output_type": "display_data"
    },
    {
     "data": {
      "text/plain": [
       "<function __main__.paper_scissors_stone>"
      ]
     },
     "execution_count": 15,
     "metadata": {},
     "output_type": "execute_result"
    }
   ],
   "source": [
    "from ipywidgets import  interact_manual\n",
    "import numpy as np\n",
    "\n",
    "def paper_scissors_stone(x):\n",
    "    y = np.random.randint(1,4)\n",
    "    if y == 1:\n",
    "        print(\"對手出布\")\n",
    "    elif y == 2:\n",
    "        print(\"對手出剪刀\")\n",
    "    else:\n",
    "        print(\"對手出石頭\")\n",
    "    if (x == 1 and y == 1) or (x == 2 and y == 2) or (x==3 and y == 3):\n",
    "        print(\"平手!\")\n",
    "    elif (x == 1 and y ==2) or (x == 2 and y == 3) or (x == 3 and y == 1):\n",
    "        print(\"你輸了QAQ 拍拍\")\n",
    "    else:\n",
    "        print(\"耶! 你贏了! 恭喜!\")\n",
    "        \n",
    "interact_manual(paper_scissors_stone, x = {'布': 1, '剪刀': 2, '石頭':3})"
   ]
  },
  {
   "cell_type": "code",
   "execution_count": null,
   "metadata": {},
   "outputs": [],
   "source": []
  }
 ],
 "metadata": {
  "kernelspec": {
   "display_name": "Python 3",
   "language": "python",
   "name": "python3"
  },
  "language_info": {
   "codemirror_mode": {
    "name": "ipython",
    "version": 3
   },
   "file_extension": ".py",
   "mimetype": "text/x-python",
   "name": "python",
   "nbconvert_exporter": "python",
   "pygments_lexer": "ipython3",
   "version": "3.6.8"
  }
 },
 "nbformat": 4,
 "nbformat_minor": 2
}
