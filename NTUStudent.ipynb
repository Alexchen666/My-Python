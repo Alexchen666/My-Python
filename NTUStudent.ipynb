{
 "cells": [
  {
   "cell_type": "code",
   "execution_count": 1,
   "metadata": {
    "collapsed": true
   },
   "outputs": [],
   "source": [
    "%matplotlib inline\n",
    "import matplotlib.pyplot as plt\n",
    "import numpy as np\n",
    "import pandas as pd\n",
    "import locale\n",
    "import matplotlib as mpl\n",
    "mpl.rc('font', family = 'Noto Sans CJK TC')"
   ]
  },
  {
   "cell_type": "code",
   "execution_count": 2,
   "metadata": {
    "collapsed": true
   },
   "outputs": [],
   "source": [
    "df = pd.read_csv('http://stats.moe.gov.tw/files/detail/107/107_students.csv')\n",
    "colname = df.loc[1].values\n",
    "df = df[2:]\n",
    "df.columns = colname\n",
    "ntu = df[(df['學校名稱'] == '國立臺灣大學') & (df['等級別'] == 'B 學士')]\n",
    "ntu2 = ntu.loc[:, '科系名稱':'四年級女生'].copy()\n",
    "ntu2 = ntu2.replace('-', '0')"
   ]
  },
  {
   "cell_type": "code",
   "execution_count": 3,
   "metadata": {
    "collapsed": true
   },
   "outputs": [],
   "source": [
    "ntu2['總計'] = ntu2['總計'].apply(locale.atof)\n",
    "ntu2['男生計'] = ntu2['男生計'].apply(locale.atof)\n",
    "ntu2['女生計'] = ntu2['女生計'].apply(locale.atof)\n",
    "ntu2['一年級男生'] = ntu2['一年級男生'].apply(locale.atof)\n",
    "ntu2['一年級女生'] = ntu2['一年級女生'].apply(locale.atof)\n",
    "ntu2['二年級男生'] = ntu2['二年級男生'].apply(locale.atof)\n",
    "ntu2['二年級女生'] = ntu2['二年級女生'].apply(locale.atof)\n",
    "ntu2['三年級男生'] = ntu2['三年級男生'].apply(locale.atof)\n",
    "ntu2['三年級女生'] = ntu2['三年級女生'].apply(locale.atof)\n",
    "ntu2['四年級男生'] = ntu2['四年級男生'].apply(locale.atof)\n",
    "ntu2['四年級女生'] = ntu2['四年級女生'].apply(locale.atof)"
   ]
  },
  {
   "cell_type": "code",
   "execution_count": 4,
   "metadata": {
    "collapsed": true
   },
   "outputs": [],
   "source": [
    "ntu_pdict = {\n",
    "    \"科系名稱\": ntu2['科系名稱'],\n",
    "    \"總計\": ntu2.總計\n",
    "}\n",
    "\n",
    "ntu_pdf = pd.DataFrame(ntu_pdict)\n",
    "ntu_pdf = ntu_pdf[['科系名稱', '總計']]"
   ]
  },
  {
   "cell_type": "code",
   "execution_count": 5,
   "metadata": {
    "collapsed": true
   },
   "outputs": [],
   "source": [
    "ntu_dict = {\n",
    "    \"科系名稱\": ntu2['科系名稱'],\n",
    "    \"女男比例\": ntu2.女生計/ntu2.男生計,\n",
    "    \"一年級女男比例\": ntu2.一年級女生/ntu2.一年級男生,\n",
    "    \"二年級女男比例\": ntu2.二年級女生/ntu2.二年級男生,\n",
    "    \"三年級女男比例\": ntu2.三年級女生/ntu2.三年級男生,\n",
    "    \"四年級女男比例\": ntu2.四年級女生/ntu2.四年級男生\n",
    "}\n",
    "\n",
    "ntu_df = pd.DataFrame(ntu_dict)\n",
    "ntu_df = ntu_df[['科系名稱', '女男比例','一年級女男比例','二年級女男比例','三年級女男比例','四年級女男比例']]"
   ]
  },
  {
   "cell_type": "code",
   "execution_count": 6,
   "metadata": {
    "collapsed": true
   },
   "outputs": [],
   "source": [
    "ntu_rdict = {\n",
    "    \"科系名稱\": ntu2['科系名稱'],\n",
    "    \"男女比例\": ntu2.男生計/ntu2.女生計,\n",
    "    \"一年級男女比例\": ntu2.一年級男生/ntu2.一年級女生,\n",
    "    \"二年級男女比例\": ntu2.二年級男生/ntu2.二年級女生,\n",
    "    \"三年級男女比例\": ntu2.三年級男生/ntu2.三年級女生,\n",
    "    \"四年級男女比例\": ntu2.四年級男生/ntu2.四年級女生\n",
    "}\n",
    "\n",
    "ntu_rdf = pd.DataFrame(ntu_rdict)\n",
    "ntu_rdf = ntu_rdf[['科系名稱', '男女比例','一年級男女比例','二年級男女比例','三年級男女比例','四年級男女比例']]"
   ]
  },
  {
   "cell_type": "code",
   "execution_count": 7,
   "metadata": {
    "collapsed": true
   },
   "outputs": [],
   "source": [
    "ntu_mdict = {\n",
    "    \"科系名稱\": ntu2['科系名稱'],\n",
    "    \"男生計\": ntu2.男生計,\n",
    "    \"一年級男生\": ntu2.一年級男生,\n",
    "    \"二年級男生\": ntu2.二年級男生,\n",
    "    \"三年級男生\": ntu2.三年級男生,\n",
    "    \"四年級男生\": ntu2.四年級男生\n",
    "}\n",
    "\n",
    "ntu_mdf = pd.DataFrame(ntu_mdict)\n",
    "ntu_mdf = ntu_mdf[['科系名稱', '男生計','一年級男生','二年級男生','三年級男生','四年級男生']]"
   ]
  },
  {
   "cell_type": "code",
   "execution_count": 8,
   "metadata": {
    "collapsed": true
   },
   "outputs": [],
   "source": [
    "ntu_fdict = {\n",
    "    \"科系名稱\": ntu2['科系名稱'],\n",
    "    \"女生計\": ntu2.女生計,\n",
    "    \"一年級女生\": ntu2.一年級女生,\n",
    "    \"二年級女生\": ntu2.二年級女生,\n",
    "    \"三年級女生\": ntu2.三年級女生,\n",
    "    \"四年級女生\": ntu2.四年級女生\n",
    "}\n",
    "\n",
    "ntu_fdf = pd.DataFrame(ntu_fdict)\n",
    "ntu_fdf = ntu_fdf[['科系名稱', '女生計','一年級女生','二年級女生','三年級女生','四年級女生']]"
   ]
  },
  {
   "cell_type": "code",
   "execution_count": 9,
   "metadata": {
    "collapsed": true
   },
   "outputs": [],
   "source": [
    "ntu_pdf0 = ntu_pdf.sort_values(by = ['總計'], ascending=False)\n",
    "ntu_pdf0.index = pd.RangeIndex(start = 1, stop = len(ntu_pdf0) + 1)"
   ]
  },
  {
   "cell_type": "code",
   "execution_count": 10,
   "metadata": {
    "collapsed": true
   },
   "outputs": [],
   "source": [
    "ntu_df0 = ntu_df.sort_values(by = ['女男比例'], ascending=False)\n",
    "ntu_df1 = ntu_df.sort_values(by = ['一年級女男比例'], ascending=False)\n",
    "ntu_df2 = ntu_df.sort_values(by = ['二年級女男比例'], ascending=False)\n",
    "ntu_df3 = ntu_df.sort_values(by = ['三年級女男比例'], ascending=False)\n",
    "ntu_df4 = ntu_df.sort_values(by = ['四年級女男比例'], ascending=False)\n",
    "ntu_df0.index = pd.RangeIndex(start = 1, stop = len(ntu_df0) + 1)\n",
    "ntu_df1.index = pd.RangeIndex(start = 1, stop = len(ntu_df1) + 1)\n",
    "ntu_df2.index = pd.RangeIndex(start = 1, stop = len(ntu_df2) + 1)\n",
    "ntu_df3.index = pd.RangeIndex(start = 1, stop = len(ntu_df3) + 1)\n",
    "ntu_df4.index = pd.RangeIndex(start = 1, stop = len(ntu_df4) + 1)"
   ]
  },
  {
   "cell_type": "code",
   "execution_count": 11,
   "metadata": {
    "collapsed": true
   },
   "outputs": [],
   "source": [
    "ntu_rdf0 = ntu_rdf.sort_values(by = ['男女比例'], ascending=False)\n",
    "ntu_rdf1 = ntu_rdf.sort_values(by = ['一年級男女比例'], ascending=False)\n",
    "ntu_rdf2 = ntu_rdf.sort_values(by = ['二年級男女比例'], ascending=False)\n",
    "ntu_rdf3 = ntu_rdf.sort_values(by = ['三年級男女比例'], ascending=False)\n",
    "ntu_rdf4 = ntu_rdf.sort_values(by = ['四年級男女比例'], ascending=False)\n",
    "ntu_rdf0.index = pd.RangeIndex(start = 1, stop = len(ntu_df0) + 1)\n",
    "ntu_rdf1.index = pd.RangeIndex(start = 1, stop = len(ntu_df1) + 1)\n",
    "ntu_rdf2.index = pd.RangeIndex(start = 1, stop = len(ntu_df2) + 1)\n",
    "ntu_rdf3.index = pd.RangeIndex(start = 1, stop = len(ntu_df3) + 1)\n",
    "ntu_rdf4.index = pd.RangeIndex(start = 1, stop = len(ntu_df4) + 1)"
   ]
  },
  {
   "cell_type": "code",
   "execution_count": 12,
   "metadata": {
    "collapsed": true
   },
   "outputs": [],
   "source": [
    "ntu_mdf0 = ntu_mdf.sort_values(by = ['男生計'], ascending=False)\n",
    "ntu_mdf1 = ntu_mdf.sort_values(by = ['一年級男生'], ascending=False)\n",
    "ntu_mdf2 = ntu_mdf.sort_values(by = ['二年級男生'], ascending=False)\n",
    "ntu_mdf3 = ntu_mdf.sort_values(by = ['三年級男生'], ascending=False)\n",
    "ntu_mdf4 = ntu_mdf.sort_values(by = ['四年級男生'], ascending=False)\n",
    "ntu_mdf0.index = pd.RangeIndex(start = 1, stop = len(ntu_mdf0) + 1)\n",
    "ntu_mdf1.index = pd.RangeIndex(start = 1, stop = len(ntu_mdf1) + 1)\n",
    "ntu_mdf2.index = pd.RangeIndex(start = 1, stop = len(ntu_mdf2) + 1)\n",
    "ntu_mdf3.index = pd.RangeIndex(start = 1, stop = len(ntu_mdf3) + 1)\n",
    "ntu_mdf4.index = pd.RangeIndex(start = 1, stop = len(ntu_mdf4) + 1)"
   ]
  },
  {
   "cell_type": "code",
   "execution_count": 13,
   "metadata": {
    "collapsed": true
   },
   "outputs": [],
   "source": [
    "ntu_fdf0 = ntu_fdf.sort_values(by = ['女生計'], ascending=False)\n",
    "ntu_fdf1 = ntu_fdf.sort_values(by = ['一年級女生'], ascending=False)\n",
    "ntu_fdf2 = ntu_fdf.sort_values(by = ['二年級女生'], ascending=False)\n",
    "ntu_fdf3 = ntu_fdf.sort_values(by = ['三年級女生'], ascending=False)\n",
    "ntu_fdf4 = ntu_fdf.sort_values(by = ['四年級女生'], ascending=False)\n",
    "ntu_fdf0.index = pd.RangeIndex(start = 1, stop = len(ntu_fdf0) + 1)\n",
    "ntu_fdf1.index = pd.RangeIndex(start = 1, stop = len(ntu_fdf1) + 1)\n",
    "ntu_fdf2.index = pd.RangeIndex(start = 1, stop = len(ntu_fdf2) + 1)\n",
    "ntu_fdf3.index = pd.RangeIndex(start = 1, stop = len(ntu_fdf3) + 1)\n",
    "ntu_fdf4.index = pd.RangeIndex(start = 1, stop = len(ntu_fdf4) + 1)"
   ]
  },
  {
   "cell_type": "code",
   "execution_count": 14,
   "metadata": {
    "collapsed": true
   },
   "outputs": [],
   "source": [
    "def f1():\n",
    "    ntu_pdf0[:20].plot.bar(x = '科系名稱', y= ['總計'])\n",
    "    display(ntu_pdf0.loc[:20, ['科系名稱', '總計']])\n",
    "    plt.show()"
   ]
  },
  {
   "cell_type": "code",
   "execution_count": 15,
   "metadata": {
    "collapsed": true
   },
   "outputs": [],
   "source": [
    "def f2():\n",
    "    grade = int(input('請輸入想查詢的排名(0: 全年級, 1:一年級, 2:二年級, 3:三年級, 4:四年級): '))\n",
    "    if grade == 0:\n",
    "        ntu_df0[:20].plot.bar(x = '科系名稱', y= ['女男比例'])\n",
    "        display(ntu_df0.loc[:20, ['科系名稱', '女男比例']])\n",
    "        plt.show()\n",
    "    elif grade == 1:\n",
    "        ntu_df1[:20].plot.bar(x = '科系名稱', y= ['一年級女男比例'])\n",
    "        display(ntu_df1.loc[:20, ['科系名稱', '一年級女男比例']])\n",
    "        plt.show()\n",
    "    elif grade == 2:\n",
    "        ntu_df2[:20].plot.bar(x = '科系名稱', y= ['二年級女男比例'])\n",
    "        display(ntu_df2.loc[:20, ['科系名稱', '二年級女男比例']])\n",
    "        plt.show()\n",
    "    elif grade == 3:\n",
    "        ntu_df3[:20].plot.bar(x = '科系名稱', y= ['三年級女男比例'])\n",
    "        display(ntu_df3.loc[:20, ['科系名稱', '三年級女男比例']])\n",
    "        plt.show()\n",
    "    elif grade == 4:\n",
    "        ntu_df4[:20].plot.bar(x = '科系名稱', y= ['四年級女男比例'])\n",
    "        display(ntu_df4.loc[:20, ['科系名稱', '四年級女男比例']])\n",
    "        plt.show()\n",
    "    else:\n",
    "        print('請輸入合法值')"
   ]
  },
  {
   "cell_type": "code",
   "execution_count": 16,
   "metadata": {
    "collapsed": true
   },
   "outputs": [],
   "source": [
    "def f3():\n",
    "    grade = int(input('請輸入想查詢的排名(0: 全年級, 1:一年級, 2:二年級, 3:三年級, 4:四年級): '))\n",
    "    if grade == 0:\n",
    "        ntu_rdf0[:20].plot.bar(x = '科系名稱', y= ['男女比例'])\n",
    "        display(ntu_rdf0.loc[:20, ['科系名稱', '男女比例']])\n",
    "        plt.show()\n",
    "    elif grade == 1:\n",
    "        ntu_rdf1[:20].plot.bar(x = '科系名稱', y= ['一年級男女比例'])\n",
    "        display(ntu_rdf1.loc[:20, ['科系名稱', '一年級男女比例']])\n",
    "        plt.show()\n",
    "    elif grade == 2:\n",
    "        ntu_rdf2[:20].plot.bar(x = '科系名稱', y= ['二年級男女比例'])\n",
    "        display(ntu_rdf2.loc[:20, ['科系名稱', '二年級男女比例']])\n",
    "        plt.show()\n",
    "    elif grade == 3:\n",
    "        ntu_rdf3[:20].plot.bar(x = '科系名稱', y= ['三年級男女比例'])\n",
    "        display(ntu_rdf3.loc[:20, ['科系名稱', '三年級男女比例']])\n",
    "        plt.show()\n",
    "    elif grade == 4:\n",
    "        ntu_rdf4[:20].plot.bar(x = '科系名稱', y= ['四年級男女比例'])\n",
    "        display(ntu_rdf4.loc[:20, ['科系名稱', '四年級男女比例']])\n",
    "        plt.show()\n",
    "    else:\n",
    "        print('請輸入合法值')"
   ]
  },
  {
   "cell_type": "code",
   "execution_count": 17,
   "metadata": {
    "collapsed": true
   },
   "outputs": [],
   "source": [
    "def f4():\n",
    "    grade = int(input('請輸入想查詢的排名(0: 全年級, 1:一年級, 2:二年級, 3:三年級, 4:四年級): '))\n",
    "    if grade == 0:\n",
    "        ntu_mdf0[:20].plot.bar(x = '科系名稱', y= ['男生計'])\n",
    "        display(ntu_mdf0.loc[:20, ['科系名稱', '男生計']])\n",
    "        plt.show()\n",
    "    elif grade == 1:\n",
    "        ntu_mdf1[:20].plot.bar(x = '科系名稱', y= ['一年級男生'])\n",
    "        display(ntu_mdf1.loc[:20, ['科系名稱', '一年級男生']])\n",
    "        plt.show()\n",
    "    elif grade == 2:\n",
    "        ntu_mdf2[:20].plot.bar(x = '科系名稱', y= ['二年級男生'])\n",
    "        display(ntu_mdf2.loc[:20, ['科系名稱', '二年級男生']])\n",
    "        plt.show()\n",
    "    elif grade == 3:\n",
    "        ntu_mdf3[:20].plot.bar(x = '科系名稱', y= ['三年級男生'])\n",
    "        display(ntu_mdf3.loc[:20, ['科系名稱', '三年級男生']])\n",
    "        plt.show()\n",
    "    elif grade == 4:\n",
    "        ntu_mdf4[:20].plot.bar(x = '科系名稱', y= ['四年級男生'])\n",
    "        display(ntu_mdf4.loc[:20, ['科系名稱', '四年級男生']])\n",
    "        plt.show()\n",
    "    else:\n",
    "        print('請輸入合法值')"
   ]
  },
  {
   "cell_type": "code",
   "execution_count": 18,
   "metadata": {
    "collapsed": true
   },
   "outputs": [],
   "source": [
    "def f5():\n",
    "    grade = int(input('請輸入想查詢的排名(0: 全年級, 1:一年級, 2:二年級, 3:三年級, 4:四年級): '))\n",
    "    if grade == 0:\n",
    "        ntu_fdf0[:20].plot.bar(x = '科系名稱', y= ['女生計'])\n",
    "        display(ntu_fdf0.loc[:20, ['科系名稱', '女生計']])\n",
    "        plt.show()\n",
    "    elif grade == 1:\n",
    "        ntu_fdf1[:20].plot.bar(x = '科系名稱', y= ['一年級女生'])\n",
    "        display(ntu_fdf1.loc[:20, ['科系名稱', '一年級女生']])\n",
    "        plt.show()\n",
    "    elif grade == 2:\n",
    "        ntu_fdf2[:20].plot.bar(x = '科系名稱', y= ['二年級女生'])\n",
    "        display(ntu_fdf2.loc[:20, ['科系名稱', '二年級女生']])\n",
    "        plt.show()\n",
    "    elif grade == 3:\n",
    "        ntu_fdf3[:20].plot.bar(x = '科系名稱', y= ['三年級女生'])\n",
    "        display(ntu_fdf3.loc[:20, ['科系名稱', '三年級女生']])\n",
    "        plt.show()\n",
    "    elif grade == 4:\n",
    "        ntu_fdf4[:20].plot.bar(x = '科系名稱', y= ['四年級女生'])\n",
    "        display(ntu_fdf4.loc[:20, ['科系名稱', '四年級女生']])\n",
    "        plt.show()\n",
    "    else:\n",
    "        print('請輸入合法值')"
   ]
  },
  {
   "cell_type": "code",
   "execution_count": 19,
   "metadata": {
    "collapsed": true
   },
   "outputs": [],
   "source": [
    "def f6():\n",
    "    department = input('請輸入要查詢的系所: ')\n",
    "    display(ntu_df.loc[ntu_df['科系名稱'] == department,])\n",
    "    display(ntu2.loc[ntu2['科系名稱'] == department, '男生計':'四年級女生'])"
   ]
  },
  {
   "cell_type": "code",
   "execution_count": 21,
   "metadata": {},
   "outputs": [
    {
     "name": "stdout",
     "output_type": "stream",
     "text": [
      "請輸入你想要做的事(按0離開)\n",
      "                    (1:全校科系人數前20名, \n",
      "                    2:全校科系女男比前20名,3:全校科系男女比前20名,\n",
      "                    4:全校科系男生人數前20名, 5:全校科系女生人數前20名, 6:查詢科系人數資料):\n",
      " 6\n",
      "請輸入要查詢的系所: 工商管理學系\n"
     ]
    },
    {
     "data": {
      "text/html": [
       "<div>\n",
       "<style>\n",
       "    .dataframe thead tr:only-child th {\n",
       "        text-align: right;\n",
       "    }\n",
       "\n",
       "    .dataframe thead th {\n",
       "        text-align: left;\n",
       "    }\n",
       "\n",
       "    .dataframe tbody tr th {\n",
       "        vertical-align: top;\n",
       "    }\n",
       "</style>\n",
       "<table border=\"1\" class=\"dataframe\">\n",
       "  <thead>\n",
       "    <tr style=\"text-align: right;\">\n",
       "      <th></th>\n",
       "      <th>科系名稱</th>\n",
       "      <th>女男比例</th>\n",
       "      <th>一年級女男比例</th>\n",
       "      <th>二年級女男比例</th>\n",
       "      <th>三年級女男比例</th>\n",
       "      <th>四年級女男比例</th>\n",
       "    </tr>\n",
       "  </thead>\n",
       "  <tbody>\n",
       "    <tr>\n",
       "      <th>385</th>\n",
       "      <td>工商管理學系</td>\n",
       "      <td>1.308108</td>\n",
       "      <td>1.133333</td>\n",
       "      <td>1.414634</td>\n",
       "      <td>1.06</td>\n",
       "      <td>1.676471</td>\n",
       "    </tr>\n",
       "  </tbody>\n",
       "</table>\n",
       "</div>"
      ],
      "text/plain": [
       "       科系名稱      女男比例   一年級女男比例   二年級女男比例  三年級女男比例   四年級女男比例\n",
       "385  工商管理學系  1.308108  1.133333  1.414634     1.06  1.676471"
      ]
     },
     "metadata": {},
     "output_type": "display_data"
    },
    {
     "data": {
      "text/html": [
       "<div>\n",
       "<style>\n",
       "    .dataframe thead tr:only-child th {\n",
       "        text-align: right;\n",
       "    }\n",
       "\n",
       "    .dataframe thead th {\n",
       "        text-align: left;\n",
       "    }\n",
       "\n",
       "    .dataframe tbody tr th {\n",
       "        vertical-align: top;\n",
       "    }\n",
       "</style>\n",
       "<table border=\"1\" class=\"dataframe\">\n",
       "  <thead>\n",
       "    <tr style=\"text-align: right;\">\n",
       "      <th></th>\n",
       "      <th>男生計</th>\n",
       "      <th>女生計</th>\n",
       "      <th>一年級男生</th>\n",
       "      <th>一年級女生</th>\n",
       "      <th>二年級男生</th>\n",
       "      <th>二年級女生</th>\n",
       "      <th>三年級男生</th>\n",
       "      <th>三年級女生</th>\n",
       "      <th>四年級男生</th>\n",
       "      <th>四年級女生</th>\n",
       "    </tr>\n",
       "  </thead>\n",
       "  <tbody>\n",
       "    <tr>\n",
       "      <th>385</th>\n",
       "      <td>185.0</td>\n",
       "      <td>242.0</td>\n",
       "      <td>45.0</td>\n",
       "      <td>51.0</td>\n",
       "      <td>41.0</td>\n",
       "      <td>58.0</td>\n",
       "      <td>50.0</td>\n",
       "      <td>53.0</td>\n",
       "      <td>34.0</td>\n",
       "      <td>57.0</td>\n",
       "    </tr>\n",
       "  </tbody>\n",
       "</table>\n",
       "</div>"
      ],
      "text/plain": [
       "       男生計    女生計  一年級男生  一年級女生  二年級男生  二年級女生  三年級男生  三年級女生  四年級男生  四年級女生\n",
       "385  185.0  242.0   45.0   51.0   41.0   58.0   50.0   53.0   34.0   57.0"
      ]
     },
     "metadata": {},
     "output_type": "display_data"
    },
    {
     "name": "stdout",
     "output_type": "stream",
     "text": [
      "請輸入你想要做的事(按0離開)\n",
      "                    (1:全校科系人數前20名, \n",
      "                    2:全校科系女男比前20名,3:全校科系男女比前20名,\n",
      "                    4:全校科系男生人數前20名, 5:全校科系女生人數前20名, 6:查詢科系人數資料):\n",
      " 0\n"
     ]
    }
   ],
   "source": [
    "request = int(input('''請輸入你想要做的事(按0離開)\n",
    "                    (1:全校科系人數前20名, \n",
    "                    2:全校科系女男比前20名,3:全校科系男女比前20名,\n",
    "                    4:全校科系男生人數前20名, 5:全校科系女生人數前20名, 6:查詢科系人數資料):\\n '''))\n",
    "while request != 0:\n",
    "    if request == 1:\n",
    "        f1()\n",
    "    elif request == 2:\n",
    "        f2()\n",
    "    elif request == 3:\n",
    "        f3()\n",
    "    elif request == 4:\n",
    "        f4()\n",
    "    elif request == 5:\n",
    "        f5()\n",
    "    elif request == 6:\n",
    "        f6()\n",
    "    else:\n",
    "        print('無效的值')\n",
    "    request = int(input('''請輸入你想要做的事(按0離開)\n",
    "                    (1:全校科系人數前20名, \n",
    "                    2:全校科系女男比前20名,3:全校科系男女比前20名,\n",
    "                    4:全校科系男生人數前20名, 5:全校科系女生人數前20名, 6:查詢科系人數資料):\\n '''))"
   ]
  },
  {
   "cell_type": "code",
   "execution_count": null,
   "metadata": {
    "collapsed": true
   },
   "outputs": [],
   "source": []
  }
 ],
 "metadata": {
  "kernelspec": {
   "display_name": "Python 3",
   "language": "python",
   "name": "python3"
  },
  "language_info": {
   "codemirror_mode": {
    "name": "ipython",
    "version": 3
   },
   "file_extension": ".py",
   "mimetype": "text/x-python",
   "name": "python",
   "nbconvert_exporter": "python",
   "pygments_lexer": "ipython3",
   "version": "3.6.3"
  }
 },
 "nbformat": 4,
 "nbformat_minor": 2
}
